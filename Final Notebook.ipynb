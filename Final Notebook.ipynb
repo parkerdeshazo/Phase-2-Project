{
 "cells": [
  {
   "cell_type": "markdown",
   "metadata": {},
   "source": [
    "# Linear Regression Modeling of King County Real Estate Sale Prices\n"
   ]
  },
  {
   "cell_type": "markdown",
   "metadata": {},
   "source": [
    "<figure>\n",
    "    <img src=\"data/Seattle-sky.jpeg\"\n",
    "         align=\"Center\"\n",
    "         width=\"600\"\n",
    "         height=\"300\">\n",
    "</figure>"
   ]
  },
  {
   "cell_type": "markdown",
   "metadata": {},
   "source": [
    "# Overview"
   ]
  },
  {
   "cell_type": "markdown",
   "metadata": {},
   "source": [
    " - We identified a business problem, cleaned the data, set parameters, dropped outliers, and used OLS models to infer house prices in King County, Washington."
   ]
  },
  {
   "cell_type": "markdown",
   "metadata": {},
   "source": [
    "# Business Problem"
   ]
  },
  {
   "cell_type": "markdown",
   "metadata": {},
   "source": [
    "For this project, our stakeholder is a young and growing family looking to reloacte to King County, Washington. They are looking for a single family home with enough space for the family to grow. This includes looking at the more than two bedrooms, a structually safe home, and to live within a top rated school district for their kids education."
   ]
  },
  {
   "cell_type": "markdown",
   "metadata": {},
   "source": [
    "# Data Understanding"
   ]
  },
  {
   "cell_type": "markdown",
   "metadata": {},
   "source": [
    "The data set used in this analysis is open-source data available directly from the county website in King County, Washington (https://kingcounty.gov/services/data.aspx). This data set covers various aspects of realestate transactions including date of sale, square footage of house and lot, bedroom, bathrooms, and condition, etc."
   ]
  },
  {
   "cell_type": "code",
   "execution_count": 30,
   "metadata": {},
   "outputs": [],
   "source": [
    "import numpy as np\n",
    "import pandas as pd\n",
    "import matplotlib.pyplot as plt\n",
    "import seaborn as sns\n",
    "import statsmodels.api as sm\n",
    "from statsmodels.formula.api import ols\n",
    "import datetime as dt\n",
    "from sklearn.linear_model import LinearRegression\n",
    "from sklearn.metrics import mean_squared_error\n",
    "import statsmodels.api as sm\n",
    "from sklearn.model_selection import train_test_split"
   ]
  },
  {
   "cell_type": "markdown",
   "metadata": {},
   "source": [
    "# Data Preparation"
   ]
  },
  {
   "cell_type": "markdown",
   "metadata": {},
   "source": [
    "First, we read-in the CSV file of the house data from King County, WA. This data is initially imported with 30,155 records from June 2021 to June 2022. We then prepare the data by cleaning it. This means converting some of our columns from objects to contain numerical values."
   ]
  },
  {
   "cell_type": "code",
   "execution_count": 31,
   "metadata": {},
   "outputs": [],
   "source": [
    "data=pd.read_csv('data/kc_house_data.csv')"
   ]
  },
  {
   "cell_type": "code",
   "execution_count": 32,
   "metadata": {},
   "outputs": [],
   "source": [
    "#Convert Grade, Condition, Waterfront, Greenbelt, and View to numeric values.\n",
    "#Convert Date to datetime\n",
    "\n",
    "# replaces string with numerical value\n",
    "data['grade'] = data['grade'].str.extract('(\\d+)')\n",
    "data['grade'] = pd.to_numeric(data['grade'])\n",
    "\n",
    "\n",
    "# replaces condition objects with numerics based on data dict.\n",
    "condition_dict = {'Poor':1,'Fair':2,'Average':3,'Good':4,'Very Good':5}\n",
    "data.condition.replace(to_replace=condition_dict,inplace=True)\n",
    "\n",
    "\n",
    "# convert waterfront into numeric boolean\n",
    "waterfront_bd = {'Yes':1,'No':0,np.nan:0}\n",
    "data.waterfront.replace(to_replace=waterfront_bd,inplace=True)\n",
    "\n",
    "# convert greenbelt into numeric boolean\n",
    "greenbelt_bd = {'Yes':1,'No':0,np.nan:0}\n",
    "data.greenbelt.replace(to_replace=greenbelt_bd,inplace=True)\n",
    "\n",
    "\n",
    "# binning view to view or no view\n",
    "view = {'FAIR', 'AVERAGE', 'GOOD', 'EXCELLENT'}\n",
    "no_view = {'NONE'}\n",
    "data['view'] = data['view'].apply(lambda x: \"view\" if x in view else (\"no view\" if x in no_view else x))\n",
    "\n",
    "\n",
    "# convert dates\n",
    "data.date = pd.to_datetime(data.date)"
   ]
  },
  {
   "cell_type": "code",
   "execution_count": 33,
   "metadata": {},
   "outputs": [],
   "source": [
    "# convert sqft_basement to boolean-- Some houses sqft_living appears to include sqft_basement\n",
    "data['basement'] = 0\n",
    "for index, row in data.iterrows():\n",
    "    if row['sqft_basement'] > 0:\n",
    "        data.loc[index, 'basement'] = \"Yes\"\n",
    "for index, row in data.iterrows():\n",
    "    if row['sqft_basement'] == 0:\n",
    "        data.loc[index, 'basement'] = \"No\""
   ]
  },
  {
   "cell_type": "markdown",
   "metadata": {},
   "source": [
    "## Dropping Outliers"
   ]
  },
  {
   "cell_type": "markdown",
   "metadata": {},
   "source": [
    "In this section we are checking and dropping outliers for pirce, yr_built and sqft_living. After the outliers are dropped from our 'nice_houses' dataset, we are left with 27,732 homes remaining."
   ]
  },
  {
   "cell_type": "code",
   "execution_count": 34,
   "metadata": {},
   "outputs": [
    {
     "data": {
      "image/png": "[encoded data removed]",
      "text/plain": [
       "<Figure size 432x288 with 1 Axes>"
      ]
     },
     "metadata": {
      "needs_background": "light"
     },
     "output_type": "display_data"
    }
   ],
   "source": [
    "#Visually checking yr_built for outliers\n",
    "nice_houses = data\n",
    "plt.boxplot(nice_houses['yr_built'])\n",
    "plt.show()"
   ]
  },
  {
   "cell_type": "code",
   "execution_count": 35,
   "metadata": {},
   "outputs": [],
   "source": [
    "#droppin houses built before 1913 \n",
    "med_yr_built = np.median(nice_houses['yr_built'])\n",
    "up_quart_yr_built = np.percentile(nice_houses['yr_built'], 75)\n",
    "low_quart_yr_built= np.percentile(nice_houses['yr_built'], 25)\n",
    "\n",
    "iqr_yr_built = up_quart_yr_built - low_quart_yr_built\n",
    "up_lim_yr_built = nice_houses['yr_built'][nice_houses['yr_built']<=up_quart_yr_built + 1.5*iqr_yr_built].max()\n",
    "low_lim_yr_built = nice_houses['yr_built'][nice_houses['yr_built']>=low_quart_yr_built - 1.5*iqr_yr_built].min()\n",
    "nice_houses=nice_houses.loc[(nice_houses['yr_built'] >= low_lim_yr_built) & (nice_houses['yr_built'] <= up_lim_yr_built)]"
   ]
  },
  {
   "cell_type": "code",
   "execution_count": 36,
   "metadata": {},
   "outputs": [
    {
     "data": {
      "image/png": "[encoded data removed]",
      "text/plain": [
       "<Figure size 432x288 with 1 Axes>"
      ]
     },
     "metadata": {
      "needs_background": "light"
     },
     "output_type": "display_data"
    }
   ],
   "source": [
    "#Visually checking price for outliers\n",
    "plt.boxplot(nice_houses['price'])\n",
    "plt.show()"
   ]
  },
  {
   "cell_type": "code",
   "execution_count": 37,
   "metadata": {},
   "outputs": [],
   "source": [
    "#Dropping outliers for price\n",
    "med_price = np.median(nice_houses['price'])\n",
    "up_quart_price = np.percentile(nice_houses['price'], 75)\n",
    "low_quart_price= np.percentile(nice_houses['price'], 25)\n",
    "\n",
    "iqr_price = up_quart_price - low_quart_price\n",
    "up_lim_price= nice_houses['price'][nice_houses['price']<=up_quart_price + 1.5*iqr_price].max()\n",
    "low_lim_price = nice_houses['price'][nice_houses['price']>=low_quart_price - 1.5*iqr_price].min()\n",
    "nice_houses=nice_houses.loc[(nice_houses['price'] >= low_lim_price) & (nice_houses['price'] <= up_lim_price)]"
   ]
  },
  {
   "cell_type": "code",
   "execution_count": 38,
   "metadata": {},
   "outputs": [
    {
     "data": {
      "image/png": "[encoded data removed]",
      "text/plain": [
       "<Figure size 432x288 with 1 Axes>"
      ]
     },
     "metadata": {
      "needs_background": "light"
     },
     "output_type": "display_data"
    }
   ],
   "source": [
    "#Visually checking sqft_living for outliers\n",
    "plt.boxplot(nice_houses['sqft_living'])\n",
    "plt.show()"
   ]
  },
  {
   "cell_type": "code",
   "execution_count": 39,
   "metadata": {},
   "outputs": [],
   "source": [
    "#Dropping outliers for sqft_living\n",
    "med_living = np.median(nice_houses['sqft_living'])\n",
    "up_quart_living  = np.percentile(nice_houses['sqft_living'], 75)\n",
    "low_quart_living = np.percentile(nice_houses['sqft_living'], 25)\n",
    "\n",
    "iqr_living  = up_quart_living  - low_quart_living \n",
    "up_lim_living = nice_houses['sqft_living'][nice_houses['sqft_living']<=up_quart_living  + 1.5*iqr_living ].max()\n",
    "low_lim_living  = nice_houses['sqft_living'][nice_houses['sqft_living']>=low_quart_living  - 1.5*iqr_living ].min()\n",
    "nice_houses=nice_houses.loc[(nice_houses['sqft_living'] >= low_lim_living ) & (nice_houses['sqft_living'] <= up_lim_living )]"
   ]
  },
  {
   "cell_type": "markdown",
   "metadata": {},
   "source": [
    "## Stakeholder Parameters"
   ]
  },
  {
   "cell_type": "markdown",
   "metadata": {},
   "source": [
    "The stakeholders we've defined is a young and growing single family. They are looking for a single family home with at least 3 bedrooms and 1 bathroom. One fo the perameter focal points is for the condition of the home to be a 3 and above. Also, the grading code of the home will be between 7 and 12. The other main perameter was selected by finding the zip codes with the top rated school districts in them. After creating and implementing these parameters, we are left with 906 records.\n",
    "\n",
    "\n",
    "\n",
    "- Data Citation: 2022 King County ZIP Codes with the best public schools. Niche. (n.d.). Retrieved February 15, 2023, from https://www.niche.com/places-to-live/search/zip-codes-with-the-best-public-schools/c/king-county-wa/"
   ]
  },
  {
   "cell_type": "code",
   "execution_count": 40,
   "metadata": {},
   "outputs": [],
   "source": [
    "# Dropping houses with grade and condition below average \n",
    "#good bones\n",
    "nice_houses = data.drop(data[data.condition.isin([\"1\", \"2\"])].index)\n",
    "nice_houses = data.drop(data[data.grade.isin([\"13\",\"6\", \"5\", \"4\", \"3\", \"2\", \"1\"])].index)"
   ]
  },
  {
   "cell_type": "code",
   "execution_count": 41,
   "metadata": {},
   "outputs": [],
   "source": [
    "# Dropping lat, long, heat_source, sewer_system, sqft_above and id columns.\n",
    "#Dropping sqft_above bc it is too close to sqft living and sqft basement because basement is boolean \n",
    "\n",
    "nice_houses.drop(columns= ['lat', 'long', 'id','heat_source', 'sewer_system', 'sqft_above', 'greenbelt','waterfront', 'sqft_basement'], inplace=True)"
   ]
  },
  {
   "cell_type": "code",
   "execution_count": 42,
   "metadata": {},
   "outputs": [],
   "source": [
    "# Dropping houses with less than 1 and more than 3 bathrooms\n",
    "nice_houses = nice_houses.loc[(nice_houses['bathrooms'] > 1)]\n",
    "\n",
    "# Dropping houses with less than 2 bedrooms\n",
    "nice_houses = nice_houses.loc[(nice_houses['bedrooms'] >= 3)]"
   ]
  },
  {
   "cell_type": "code",
   "execution_count": 43,
   "metadata": {},
   "outputs": [],
   "source": [
    "# Adding zip code column\n",
    "\n",
    "nice_houses['zip'] = nice_houses['address'].str.extract(r'(\\d{5}-?\\d{0,4})')"
   ]
  },
  {
   "cell_type": "code",
   "execution_count": 44,
   "metadata": {},
   "outputs": [],
   "source": [
    "# Filtering by zip codes with strong school districts \n",
    "top_school_districts = ['98004', '98005', '98007', '98008', '98039', '98052', '98074', '98033', '98006', '98053', '98034', '98075', '98029', '98011', '98040', '98028', '98072', '98059', \n",
    "                        '98155', '98177']\n",
    "\n",
    "nice_houses = nice_houses.loc[nice_houses['zip'].isin(top_school_districts)]"
   ]
  },
  {
   "cell_type": "code",
   "execution_count": 45,
   "metadata": {},
   "outputs": [],
   "source": [
    "#Grouping top school distirct zip codes together based on geo-location\n",
    "redmond = {'98004', '98005', '98007', '98008', '98039', '98033', '98052'}\n",
    "north_kc={'98177', '98155', '98028', '98011', '98072', '98034'}\n",
    "sammamish={'98029', '98075', '98074', '98053'}\n",
    "newcastle={'98040', '98006', '98059'}\n",
    "\n",
    "#Labeling zip codes with corresponding area\n",
    "nice_houses['Redmond'] = nice_houses['zip'].apply(lambda x: 1 if x in redmond else 0)\n",
    "nice_houses['North KC'] = nice_houses['zip'].apply(lambda x: 1 if x in north_kc else 0)\n",
    "nice_houses['Sammamish'] = nice_houses['zip'].apply(lambda x: 1 if x in sammamish else 0)\n",
    "nice_houses['Newcastle'] = nice_houses['zip'].apply(lambda x: 1 if x in newcastle else 0)\n",
    "\n",
    "#Separating zip codes into designated columns \n",
    "nice_houses['zip'] = nice_houses.apply(lambda row: \n",
    "                                       'Redmond' if row['Redmond'] == 1 \n",
    "                                       else 'North KC' if row['North KC'] == 1 \n",
    "                                       else 'Sammamish' if row['Sammamish'] == 1 \n",
    "                                       else 'Newcastle' if row['Newcastle'] == 1 \n",
    "                                       else row['zip'], axis=1)"
   ]
  },
  {
   "cell_type": "markdown",
   "metadata": {},
   "source": [
    "##### Setting Budget Based On Median Data Scientist Salary in Seattle"
   ]
  },
  {
   "cell_type": "markdown",
   "metadata": {},
   "source": [
    " - The stakeholder is willing to spend 20% of their annual household income  on a 15 yr mortgage. We took a look at the average income based on their occupation and area. This enables us to define a spending budget for our stakeholders.\n",
    " \n",
    " - Data Citation: Data scientist salary in Seattle, WA. Levels.fyi. (n.d.). Retrieved February 15, 2023, from https://www.levels.fyi/t/data-scientist/locations/greater-seattle-area"
   ]
  },
  {
   "cell_type": "code",
   "execution_count": 46,
   "metadata": {},
   "outputs": [],
   "source": [
    "#budget calculator \n",
    "salary=202000*2\n",
    "mort_yr=15\n",
    "budget=salary*0.2*mort_yr"
   ]
  },
  {
   "cell_type": "code",
   "execution_count": 47,
   "metadata": {},
   "outputs": [],
   "source": [
    "# Convert price to an integer & setting budget parameter\n",
    "#nice_houses['price'] = nice_houses['price'].astype(int)\n",
    "nice_houses=nice_houses.loc[(nice_houses['price']<=budget)]"
   ]
  },
  {
   "cell_type": "markdown",
   "metadata": {},
   "source": [
    "### Checking dataframe after parameters set"
   ]
  },
  {
   "cell_type": "code",
   "execution_count": 48,
   "metadata": {},
   "outputs": [
    {
     "name": "stdout",
     "output_type": "stream",
     "text": [
      "<class 'pandas.core.frame.DataFrame'>\n",
      "Int64Index: 906 entries, 29 to 30113\n",
      "Data columns (total 22 columns):\n",
      " #   Column        Non-Null Count  Dtype         \n",
      "---  ------        --------------  -----         \n",
      " 0   date          906 non-null    datetime64[ns]\n",
      " 1   price         906 non-null    float64       \n",
      " 2   bedrooms      906 non-null    int64         \n",
      " 3   bathrooms     906 non-null    float64       \n",
      " 4   sqft_living   906 non-null    int64         \n",
      " 5   sqft_lot      906 non-null    int64         \n",
      " 6   floors        906 non-null    float64       \n",
      " 7   nuisance      906 non-null    object        \n",
      " 8   view          906 non-null    object        \n",
      " 9   condition     906 non-null    int64         \n",
      " 10  grade         906 non-null    int64         \n",
      " 11  sqft_garage   906 non-null    int64         \n",
      " 12  sqft_patio    906 non-null    int64         \n",
      " 13  yr_built      906 non-null    int64         \n",
      " 14  yr_renovated  906 non-null    int64         \n",
      " 15  address       906 non-null    object        \n",
      " 16  basement      906 non-null    object        \n",
      " 17  zip           906 non-null    object        \n",
      " 18  Redmond       906 non-null    int64         \n",
      " 19  North KC      906 non-null    int64         \n",
      " 20  Sammamish     906 non-null    int64         \n",
      " 21  Newcastle     906 non-null    int64         \n",
      "dtypes: datetime64[ns](1), float64(3), int64(13), object(5)\n",
      "memory usage: 162.8+ KB\n"
     ]
    }
   ],
   "source": [
    "nice_houses.info()"
   ]
  },
  {
   "cell_type": "markdown",
   "metadata": {},
   "source": [
    "## Checking For Multicolliniarity"
   ]
  },
  {
   "cell_type": "markdown",
   "metadata": {},
   "source": [
    "In this section we check to see if the independent variables are correlated with one another. We used a correlation matrix and color scaling to see the pairwise correlation between all of the variables. We have included 'price' as the dependent variable. None of the variables have a correlation of .7 or higher. The highest correlations in this matrix are between:\n",
    "- yr_built & floors (.687)\n",
    "- sqft_living & bathrooms (.598)\n",
    "- sqft_living & bedrooms (.519)\n",
    "- sqft_living & grade (.517)"
   ]
  },
  {
   "cell_type": "code",
   "execution_count": 49,
   "metadata": {},
   "outputs": [
    {
     "data": {
      "text/html": [
       "<style  type=\"text/css\" >\n",
       "#T_f42074a6_aeff_11ed_b39b_7642ddf5d38crow0_col0,#T_f42074a6_aeff_11ed_b39b_7642ddf5d38crow1_col1,#T_f42074a6_aeff_11ed_b39b_7642ddf5d38crow2_col2,#T_f42074a6_aeff_11ed_b39b_7642ddf5d38crow3_col3,#T_f42074a6_aeff_11ed_b39b_7642ddf5d38crow4_col4,#T_f42074a6_aeff_11ed_b39b_7642ddf5d38crow5_col5,#T_f42074a6_aeff_11ed_b39b_7642ddf5d38crow6_col6,#T_f42074a6_aeff_11ed_b39b_7642ddf5d38crow7_col7,#T_f42074a6_aeff_11ed_b39b_7642ddf5d38crow8_col8,#T_f42074a6_aeff_11ed_b39b_7642ddf5d38crow9_col9,#T_f42074a6_aeff_11ed_b39b_7642ddf5d38crow10_col10,#T_f42074a6_aeff_11ed_b39b_7642ddf5d38crow11_col11,#T_f42074a6_aeff_11ed_b39b_7642ddf5d38crow12_col12,#T_f42074a6_aeff_11ed_b39b_7642ddf5d38crow12_col24,#T_f42074a6_aeff_11ed_b39b_7642ddf5d38crow13_col13,#T_f42074a6_aeff_11ed_b39b_7642ddf5d38crow13_col23,#T_f42074a6_aeff_11ed_b39b_7642ddf5d38crow14_col14,#T_f42074a6_aeff_11ed_b39b_7642ddf5d38crow14_col25,#T_f42074a6_aeff_11ed_b39b_7642ddf5d38crow15_col15,#T_f42074a6_aeff_11ed_b39b_7642ddf5d38crow15_col22,#T_f42074a6_aeff_11ed_b39b_7642ddf5d38crow16_col16,#T_f42074a6_aeff_11ed_b39b_7642ddf5d38crow17_col17,#T_f42074a6_aeff_11ed_b39b_7642ddf5d38crow18_col18,#T_f42074a6_aeff_11ed_b39b_7642ddf5d38crow19_col19,#T_f42074a6_aeff_11ed_b39b_7642ddf5d38crow20_col20,#T_f42074a6_aeff_11ed_b39b_7642ddf5d38crow21_col21,#T_f42074a6_aeff_11ed_b39b_7642ddf5d38crow22_col15,#T_f42074a6_aeff_11ed_b39b_7642ddf5d38crow22_col22,#T_f42074a6_aeff_11ed_b39b_7642ddf5d38crow23_col13,#T_f42074a6_aeff_11ed_b39b_7642ddf5d38crow23_col23,#T_f42074a6_aeff_11ed_b39b_7642ddf5d38crow24_col12,#T_f42074a6_aeff_11ed_b39b_7642ddf5d38crow24_col24,#T_f42074a6_aeff_11ed_b39b_7642ddf5d38crow25_col14,#T_f42074a6_aeff_11ed_b39b_7642ddf5d38crow25_col25{\n",
       "            background-color:  #b40426;\n",
       "            color:  #f1f1f1;\n",
       "        }#T_f42074a6_aeff_11ed_b39b_7642ddf5d38crow0_col1,#T_f42074a6_aeff_11ed_b39b_7642ddf5d38crow1_col6,#T_f42074a6_aeff_11ed_b39b_7642ddf5d38crow3_col4,#T_f42074a6_aeff_11ed_b39b_7642ddf5d38crow15_col6,#T_f42074a6_aeff_11ed_b39b_7642ddf5d38crow22_col6{\n",
       "            background-color:  #8fb1fe;\n",
       "            color:  #000000;\n",
       "        }#T_f42074a6_aeff_11ed_b39b_7642ddf5d38crow0_col2,#T_f42074a6_aeff_11ed_b39b_7642ddf5d38crow1_col10,#T_f42074a6_aeff_11ed_b39b_7642ddf5d38crow19_col15,#T_f42074a6_aeff_11ed_b39b_7642ddf5d38crow19_col22,#T_f42074a6_aeff_11ed_b39b_7642ddf5d38crow21_col4{\n",
       "            background-color:  #93b5fe;\n",
       "            color:  #000000;\n",
       "        }#T_f42074a6_aeff_11ed_b39b_7642ddf5d38crow0_col3,#T_f42074a6_aeff_11ed_b39b_7642ddf5d38crow16_col14,#T_f42074a6_aeff_11ed_b39b_7642ddf5d38crow16_col25{\n",
       "            background-color:  #a6c4fe;\n",
       "            color:  #000000;\n",
       "        }#T_f42074a6_aeff_11ed_b39b_7642ddf5d38crow0_col4,#T_f42074a6_aeff_11ed_b39b_7642ddf5d38crow2_col11,#T_f42074a6_aeff_11ed_b39b_7642ddf5d38crow5_col13,#T_f42074a6_aeff_11ed_b39b_7642ddf5d38crow5_col23,#T_f42074a6_aeff_11ed_b39b_7642ddf5d38crow11_col6,#T_f42074a6_aeff_11ed_b39b_7642ddf5d38crow13_col1,#T_f42074a6_aeff_11ed_b39b_7642ddf5d38crow13_col2,#T_f42074a6_aeff_11ed_b39b_7642ddf5d38crow23_col1,#T_f42074a6_aeff_11ed_b39b_7642ddf5d38crow23_col2{\n",
       "            background-color:  #7093f3;\n",
       "            color:  #000000;\n",
       "        }#T_f42074a6_aeff_11ed_b39b_7642ddf5d38crow0_col5{\n",
       "            background-color:  #b9d0f9;\n",
       "            color:  #000000;\n",
       "        }#T_f42074a6_aeff_11ed_b39b_7642ddf5d38crow0_col6,#T_f42074a6_aeff_11ed_b39b_7642ddf5d38crow11_col13,#T_f42074a6_aeff_11ed_b39b_7642ddf5d38crow11_col23{\n",
       "            background-color:  #abc8fd;\n",
       "            color:  #000000;\n",
       "        }#T_f42074a6_aeff_11ed_b39b_7642ddf5d38crow0_col7,#T_f42074a6_aeff_11ed_b39b_7642ddf5d38crow12_col6,#T_f42074a6_aeff_11ed_b39b_7642ddf5d38crow18_col5,#T_f42074a6_aeff_11ed_b39b_7642ddf5d38crow20_col14,#T_f42074a6_aeff_11ed_b39b_7642ddf5d38crow20_col25,#T_f42074a6_aeff_11ed_b39b_7642ddf5d38crow24_col6{\n",
       "            background-color:  #a5c3fe;\n",
       "            color:  #000000;\n",
       "        }#T_f42074a6_aeff_11ed_b39b_7642ddf5d38crow0_col8,#T_f42074a6_aeff_11ed_b39b_7642ddf5d38crow15_col8,#T_f42074a6_aeff_11ed_b39b_7642ddf5d38crow17_col5,#T_f42074a6_aeff_11ed_b39b_7642ddf5d38crow21_col12,#T_f42074a6_aeff_11ed_b39b_7642ddf5d38crow21_col24,#T_f42074a6_aeff_11ed_b39b_7642ddf5d38crow22_col8{\n",
       "            background-color:  #89acfd;\n",
       "            color:  #000000;\n",
       "        }#T_f42074a6_aeff_11ed_b39b_7642ddf5d38crow0_col9,#T_f42074a6_aeff_11ed_b39b_7642ddf5d38crow4_col3,#T_f42074a6_aeff_11ed_b39b_7642ddf5d38crow7_col12,#T_f42074a6_aeff_11ed_b39b_7642ddf5d38crow7_col24,#T_f42074a6_aeff_11ed_b39b_7642ddf5d38crow21_col15,#T_f42074a6_aeff_11ed_b39b_7642ddf5d38crow21_col22{\n",
       "            background-color:  #84a7fc;\n",
       "            color:  #000000;\n",
       "        }#T_f42074a6_aeff_11ed_b39b_7642ddf5d38crow0_col10,#T_f42074a6_aeff_11ed_b39b_7642ddf5d38crow2_col8,#T_f42074a6_aeff_11ed_b39b_7642ddf5d38crow21_col3,#T_f42074a6_aeff_11ed_b39b_7642ddf5d38crow21_col9{\n",
       "            background-color:  #9dbdff;\n",
       "            color:  #000000;\n",
       "        }#T_f42074a6_aeff_11ed_b39b_7642ddf5d38crow0_col11,#T_f42074a6_aeff_11ed_b39b_7642ddf5d38crow2_col12,#T_f42074a6_aeff_11ed_b39b_7642ddf5d38crow2_col24,#T_f42074a6_aeff_11ed_b39b_7642ddf5d38crow12_col9,#T_f42074a6_aeff_11ed_b39b_7642ddf5d38crow18_col4,#T_f42074a6_aeff_11ed_b39b_7642ddf5d38crow24_col9{\n",
       "            background-color:  #6485ec;\n",
       "            color:  #000000;\n",
       "        }#T_f42074a6_aeff_11ed_b39b_7642ddf5d38crow0_col12,#T_f42074a6_aeff_11ed_b39b_7642ddf5d38crow0_col24,#T_f42074a6_aeff_11ed_b39b_7642ddf5d38crow10_col21,#T_f42074a6_aeff_11ed_b39b_7642ddf5d38crow13_col20,#T_f42074a6_aeff_11ed_b39b_7642ddf5d38crow23_col20{\n",
       "            background-color:  #bbd1f8;\n",
       "            color:  #000000;\n",
       "        }#T_f42074a6_aeff_11ed_b39b_7642ddf5d38crow0_col13,#T_f42074a6_aeff_11ed_b39b_7642ddf5d38crow0_col23,#T_f42074a6_aeff_11ed_b39b_7642ddf5d38crow3_col8,#T_f42074a6_aeff_11ed_b39b_7642ddf5d38crow4_col6,#T_f42074a6_aeff_11ed_b39b_7642ddf5d38crow5_col8,#T_f42074a6_aeff_11ed_b39b_7642ddf5d38crow15_col3,#T_f42074a6_aeff_11ed_b39b_7642ddf5d38crow19_col6,#T_f42074a6_aeff_11ed_b39b_7642ddf5d38crow22_col3{\n",
       "            background-color:  #96b7ff;\n",
       "            color:  #000000;\n",
       "        }#T_f42074a6_aeff_11ed_b39b_7642ddf5d38crow0_col14,#T_f42074a6_aeff_11ed_b39b_7642ddf5d38crow0_col25{\n",
       "            background-color:  #a3c2fe;\n",
       "            color:  #000000;\n",
       "        }#T_f42074a6_aeff_11ed_b39b_7642ddf5d38crow0_col15,#T_f42074a6_aeff_11ed_b39b_7642ddf5d38crow0_col22,#T_f42074a6_aeff_11ed_b39b_7642ddf5d38crow4_col15,#T_f42074a6_aeff_11ed_b39b_7642ddf5d38crow4_col22,#T_f42074a6_aeff_11ed_b39b_7642ddf5d38crow7_col13,#T_f42074a6_aeff_11ed_b39b_7642ddf5d38crow7_col23{\n",
       "            background-color:  #92b4fe;\n",
       "            color:  #000000;\n",
       "        }#T_f42074a6_aeff_11ed_b39b_7642ddf5d38crow0_col16,#T_f42074a6_aeff_11ed_b39b_7642ddf5d38crow4_col19{\n",
       "            background-color:  #e4d9d2;\n",
       "            color:  #000000;\n",
       "        }#T_f42074a6_aeff_11ed_b39b_7642ddf5d38crow0_col17,#T_f42074a6_aeff_11ed_b39b_7642ddf5d38crow4_col18{\n",
       "            background-color:  #d5dbe5;\n",
       "            color:  #000000;\n",
       "        }#T_f42074a6_aeff_11ed_b39b_7642ddf5d38crow0_col18,#T_f42074a6_aeff_11ed_b39b_7642ddf5d38crow0_col21,#T_f42074a6_aeff_11ed_b39b_7642ddf5d38crow2_col1,#T_f42074a6_aeff_11ed_b39b_7642ddf5d38crow8_col19,#T_f42074a6_aeff_11ed_b39b_7642ddf5d38crow11_col21,#T_f42074a6_aeff_11ed_b39b_7642ddf5d38crow12_col19,#T_f42074a6_aeff_11ed_b39b_7642ddf5d38crow21_col13,#T_f42074a6_aeff_11ed_b39b_7642ddf5d38crow21_col23,#T_f42074a6_aeff_11ed_b39b_7642ddf5d38crow24_col19{\n",
       "            background-color:  #d9dce1;\n",
       "            color:  #000000;\n",
       "        }#T_f42074a6_aeff_11ed_b39b_7642ddf5d38crow0_col19,#T_f42074a6_aeff_11ed_b39b_7642ddf5d38crow0_col20,#T_f42074a6_aeff_11ed_b39b_7642ddf5d38crow3_col5,#T_f42074a6_aeff_11ed_b39b_7642ddf5d38crow8_col18,#T_f42074a6_aeff_11ed_b39b_7642ddf5d38crow11_col20,#T_f42074a6_aeff_11ed_b39b_7642ddf5d38crow12_col18,#T_f42074a6_aeff_11ed_b39b_7642ddf5d38crow24_col18{\n",
       "            background-color:  #e0dbd8;\n",
       "            color:  #000000;\n",
       "        }#T_f42074a6_aeff_11ed_b39b_7642ddf5d38crow1_col0,#T_f42074a6_aeff_11ed_b39b_7642ddf5d38crow18_col6,#T_f42074a6_aeff_11ed_b39b_7642ddf5d38crow19_col4{\n",
       "            background-color:  #85a8fc;\n",
       "            color:  #000000;\n",
       "        }#T_f42074a6_aeff_11ed_b39b_7642ddf5d38crow1_col2{\n",
       "            background-color:  #dedcdb;\n",
       "            color:  #000000;\n",
       "        }#T_f42074a6_aeff_11ed_b39b_7642ddf5d38crow1_col3,#T_f42074a6_aeff_11ed_b39b_7642ddf5d38crow9_col19{\n",
       "            background-color:  #f1cdba;\n",
       "            color:  #000000;\n",
       "        }#T_f42074a6_aeff_11ed_b39b_7642ddf5d38crow1_col4,#T_f42074a6_aeff_11ed_b39b_7642ddf5d38crow5_col1,#T_f42074a6_aeff_11ed_b39b_7642ddf5d38crow8_col6,#T_f42074a6_aeff_11ed_b39b_7642ddf5d38crow20_col13,#T_f42074a6_aeff_11ed_b39b_7642ddf5d38crow20_col23{\n",
       "            background-color:  #7295f4;\n",
       "            color:  #000000;\n",
       "        }#T_f42074a6_aeff_11ed_b39b_7642ddf5d38crow1_col5{\n",
       "            background-color:  #aec9fc;\n",
       "            color:  #000000;\n",
       "        }#T_f42074a6_aeff_11ed_b39b_7642ddf5d38crow1_col7,#T_f42074a6_aeff_11ed_b39b_7642ddf5d38crow7_col4,#T_f42074a6_aeff_11ed_b39b_7642ddf5d38crow14_col2,#T_f42074a6_aeff_11ed_b39b_7642ddf5d38crow19_col2,#T_f42074a6_aeff_11ed_b39b_7642ddf5d38crow20_col6,#T_f42074a6_aeff_11ed_b39b_7642ddf5d38crow25_col2{\n",
       "            background-color:  #7b9ff9;\n",
       "            color:  #000000;\n",
       "        }#T_f42074a6_aeff_11ed_b39b_7642ddf5d38crow1_col8,#T_f42074a6_aeff_11ed_b39b_7642ddf5d38crow10_col9,#T_f42074a6_aeff_11ed_b39b_7642ddf5d38crow18_col1,#T_f42074a6_aeff_11ed_b39b_7642ddf5d38crow18_col2{\n",
       "            background-color:  #5b7ae5;\n",
       "            color:  #000000;\n",
       "        }#T_f42074a6_aeff_11ed_b39b_7642ddf5d38crow1_col9,#T_f42074a6_aeff_11ed_b39b_7642ddf5d38crow2_col6,#T_f42074a6_aeff_11ed_b39b_7642ddf5d38crow6_col14,#T_f42074a6_aeff_11ed_b39b_7642ddf5d38crow6_col25,#T_f42074a6_aeff_11ed_b39b_7642ddf5d38crow11_col4,#T_f42074a6_aeff_11ed_b39b_7642ddf5d38crow12_col5,#T_f42074a6_aeff_11ed_b39b_7642ddf5d38crow13_col3,#T_f42074a6_aeff_11ed_b39b_7642ddf5d38crow23_col3,#T_f42074a6_aeff_11ed_b39b_7642ddf5d38crow24_col5{\n",
       "            background-color:  #7597f6;\n",
       "            color:  #000000;\n",
       "        }#T_f42074a6_aeff_11ed_b39b_7642ddf5d38crow1_col11,#T_f42074a6_aeff_11ed_b39b_7642ddf5d38crow1_col14,#T_f42074a6_aeff_11ed_b39b_7642ddf5d38crow1_col25,#T_f42074a6_aeff_11ed_b39b_7642ddf5d38crow12_col11,#T_f42074a6_aeff_11ed_b39b_7642ddf5d38crow13_col11,#T_f42074a6_aeff_11ed_b39b_7642ddf5d38crow23_col11,#T_f42074a6_aeff_11ed_b39b_7642ddf5d38crow24_col11{\n",
       "            background-color:  #6e90f2;\n",
       "            color:  #000000;\n",
       "        }#T_f42074a6_aeff_11ed_b39b_7642ddf5d38crow1_col12,#T_f42074a6_aeff_11ed_b39b_7642ddf5d38crow1_col24,#T_f42074a6_aeff_11ed_b39b_7642ddf5d38crow12_col0,#T_f42074a6_aeff_11ed_b39b_7642ddf5d38crow15_col2,#T_f42074a6_aeff_11ed_b39b_7642ddf5d38crow22_col2,#T_f42074a6_aeff_11ed_b39b_7642ddf5d38crow24_col0{\n",
       "            background-color:  #86a9fc;\n",
       "            color:  #000000;\n",
       "        }#T_f42074a6_aeff_11ed_b39b_7642ddf5d38crow1_col13,#T_f42074a6_aeff_11ed_b39b_7642ddf5d38crow1_col23,#T_f42074a6_aeff_11ed_b39b_7642ddf5d38crow16_col5,#T_f42074a6_aeff_11ed_b39b_7642ddf5d38crow17_col12,#T_f42074a6_aeff_11ed_b39b_7642ddf5d38crow17_col24{\n",
       "            background-color:  #b5cdfa;\n",
       "            color:  #000000;\n",
       "        }#T_f42074a6_aeff_11ed_b39b_7642ddf5d38crow1_col15,#T_f42074a6_aeff_11ed_b39b_7642ddf5d38crow1_col22,#T_f42074a6_aeff_11ed_b39b_7642ddf5d38crow7_col8{\n",
       "            background-color:  #bfd3f6;\n",
       "            color:  #000000;\n",
       "        }#T_f42074a6_aeff_11ed_b39b_7642ddf5d38crow1_col16,#T_f42074a6_aeff_11ed_b39b_7642ddf5d38crow6_col17,#T_f42074a6_aeff_11ed_b39b_7642ddf5d38crow10_col2,#T_f42074a6_aeff_11ed_b39b_7642ddf5d38crow15_col17,#T_f42074a6_aeff_11ed_b39b_7642ddf5d38crow16_col18,#T_f42074a6_aeff_11ed_b39b_7642ddf5d38crow16_col21,#T_f42074a6_aeff_11ed_b39b_7642ddf5d38crow17_col19,#T_f42074a6_aeff_11ed_b39b_7642ddf5d38crow17_col20,#T_f42074a6_aeff_11ed_b39b_7642ddf5d38crow18_col16,#T_f42074a6_aeff_11ed_b39b_7642ddf5d38crow19_col17,#T_f42074a6_aeff_11ed_b39b_7642ddf5d38crow20_col17,#T_f42074a6_aeff_11ed_b39b_7642ddf5d38crow21_col16,#T_f42074a6_aeff_11ed_b39b_7642ddf5d38crow22_col17{\n",
       "            background-color:  #dddcdc;\n",
       "            color:  #000000;\n",
       "        }#T_f42074a6_aeff_11ed_b39b_7642ddf5d38crow1_col17,#T_f42074a6_aeff_11ed_b39b_7642ddf5d38crow6_col16,#T_f42074a6_aeff_11ed_b39b_7642ddf5d38crow15_col16,#T_f42074a6_aeff_11ed_b39b_7642ddf5d38crow16_col19,#T_f42074a6_aeff_11ed_b39b_7642ddf5d38crow16_col20,#T_f42074a6_aeff_11ed_b39b_7642ddf5d38crow17_col18,#T_f42074a6_aeff_11ed_b39b_7642ddf5d38crow17_col21,#T_f42074a6_aeff_11ed_b39b_7642ddf5d38crow18_col17,#T_f42074a6_aeff_11ed_b39b_7642ddf5d38crow19_col16,#T_f42074a6_aeff_11ed_b39b_7642ddf5d38crow20_col16,#T_f42074a6_aeff_11ed_b39b_7642ddf5d38crow21_col17,#T_f42074a6_aeff_11ed_b39b_7642ddf5d38crow22_col16{\n",
       "            background-color:  #dcdddd;\n",
       "            color:  #000000;\n",
       "        }#T_f42074a6_aeff_11ed_b39b_7642ddf5d38crow1_col18,#T_f42074a6_aeff_11ed_b39b_7642ddf5d38crow5_col19,#T_f42074a6_aeff_11ed_b39b_7642ddf5d38crow8_col21,#T_f42074a6_aeff_11ed_b39b_7642ddf5d38crow14_col19,#T_f42074a6_aeff_11ed_b39b_7642ddf5d38crow25_col19{\n",
       "            background-color:  #dadce0;\n",
       "            color:  #000000;\n",
       "        }#T_f42074a6_aeff_11ed_b39b_7642ddf5d38crow1_col19,#T_f42074a6_aeff_11ed_b39b_7642ddf5d38crow5_col18,#T_f42074a6_aeff_11ed_b39b_7642ddf5d38crow7_col10,#T_f42074a6_aeff_11ed_b39b_7642ddf5d38crow8_col20,#T_f42074a6_aeff_11ed_b39b_7642ddf5d38crow14_col18,#T_f42074a6_aeff_11ed_b39b_7642ddf5d38crow25_col18{\n",
       "            background-color:  #dfdbd9;\n",
       "            color:  #000000;\n",
       "        }#T_f42074a6_aeff_11ed_b39b_7642ddf5d38crow1_col20,#T_f42074a6_aeff_11ed_b39b_7642ddf5d38crow12_col16,#T_f42074a6_aeff_11ed_b39b_7642ddf5d38crow15_col10,#T_f42074a6_aeff_11ed_b39b_7642ddf5d38crow20_col15,#T_f42074a6_aeff_11ed_b39b_7642ddf5d38crow20_col22,#T_f42074a6_aeff_11ed_b39b_7642ddf5d38crow22_col10,#T_f42074a6_aeff_11ed_b39b_7642ddf5d38crow24_col16{\n",
       "            background-color:  #cbd8ee;\n",
       "            color:  #000000;\n",
       "        }#T_f42074a6_aeff_11ed_b39b_7642ddf5d38crow1_col21,#T_f42074a6_aeff_11ed_b39b_7642ddf5d38crow12_col17,#T_f42074a6_aeff_11ed_b39b_7642ddf5d38crow24_col17{\n",
       "            background-color:  #ecd3c5;\n",
       "            color:  #000000;\n",
       "        }#T_f42074a6_aeff_11ed_b39b_7642ddf5d38crow2_col0,#T_f42074a6_aeff_11ed_b39b_7642ddf5d38crow6_col9,#T_f42074a6_aeff_11ed_b39b_7642ddf5d38crow7_col1,#T_f42074a6_aeff_11ed_b39b_7642ddf5d38crow16_col2{\n",
       "            background-color:  #80a3fa;\n",
       "            color:  #000000;\n",
       "        }#T_f42074a6_aeff_11ed_b39b_7642ddf5d38crow2_col3{\n",
       "            background-color:  #f7ba9f;\n",
       "            color:  #000000;\n",
       "        }#T_f42074a6_aeff_11ed_b39b_7642ddf5d38crow2_col4,#T_f42074a6_aeff_11ed_b39b_7642ddf5d38crow3_col12,#T_f42074a6_aeff_11ed_b39b_7642ddf5d38crow3_col24,#T_f42074a6_aeff_11ed_b39b_7642ddf5d38crow4_col8,#T_f42074a6_aeff_11ed_b39b_7642ddf5d38crow4_col11,#T_f42074a6_aeff_11ed_b39b_7642ddf5d38crow14_col0,#T_f42074a6_aeff_11ed_b39b_7642ddf5d38crow14_col15,#T_f42074a6_aeff_11ed_b39b_7642ddf5d38crow14_col22,#T_f42074a6_aeff_11ed_b39b_7642ddf5d38crow25_col0,#T_f42074a6_aeff_11ed_b39b_7642ddf5d38crow25_col15,#T_f42074a6_aeff_11ed_b39b_7642ddf5d38crow25_col22{\n",
       "            background-color:  #6a8bef;\n",
       "            color:  #000000;\n",
       "        }#T_f42074a6_aeff_11ed_b39b_7642ddf5d38crow2_col5,#T_f42074a6_aeff_11ed_b39b_7642ddf5d38crow3_col19,#T_f42074a6_aeff_11ed_b39b_7642ddf5d38crow7_col19{\n",
       "            background-color:  #ebd3c6;\n",
       "            color:  #000000;\n",
       "        }#T_f42074a6_aeff_11ed_b39b_7642ddf5d38crow2_col7,#T_f42074a6_aeff_11ed_b39b_7642ddf5d38crow8_col17,#T_f42074a6_aeff_11ed_b39b_7642ddf5d38crow9_col20{\n",
       "            background-color:  #c5d6f2;\n",
       "            color:  #000000;\n",
       "        }#T_f42074a6_aeff_11ed_b39b_7642ddf5d38crow2_col9,#T_f42074a6_aeff_11ed_b39b_7642ddf5d38crow5_col21,#T_f42074a6_aeff_11ed_b39b_7642ddf5d38crow9_col2,#T_f42074a6_aeff_11ed_b39b_7642ddf5d38crow21_col2{\n",
       "            background-color:  #98b9ff;\n",
       "            color:  #000000;\n",
       "        }#T_f42074a6_aeff_11ed_b39b_7642ddf5d38crow2_col10,#T_f42074a6_aeff_11ed_b39b_7642ddf5d38crow13_col19,#T_f42074a6_aeff_11ed_b39b_7642ddf5d38crow18_col20,#T_f42074a6_aeff_11ed_b39b_7642ddf5d38crow19_col21,#T_f42074a6_aeff_11ed_b39b_7642ddf5d38crow20_col18,#T_f42074a6_aeff_11ed_b39b_7642ddf5d38crow21_col19,#T_f42074a6_aeff_11ed_b39b_7642ddf5d38crow23_col19{\n",
       "            background-color:  #ead4c8;\n",
       "            color:  #000000;\n",
       "        }#T_f42074a6_aeff_11ed_b39b_7642ddf5d38crow2_col13,#T_f42074a6_aeff_11ed_b39b_7642ddf5d38crow2_col23,#T_f42074a6_aeff_11ed_b39b_7642ddf5d38crow7_col14,#T_f42074a6_aeff_11ed_b39b_7642ddf5d38crow7_col25,#T_f42074a6_aeff_11ed_b39b_7642ddf5d38crow9_col13,#T_f42074a6_aeff_11ed_b39b_7642ddf5d38crow9_col23{\n",
       "            background-color:  #adc9fd;\n",
       "            color:  #000000;\n",
       "        }#T_f42074a6_aeff_11ed_b39b_7642ddf5d38crow2_col14,#T_f42074a6_aeff_11ed_b39b_7642ddf5d38crow2_col25,#T_f42074a6_aeff_11ed_b39b_7642ddf5d38crow7_col0,#T_f42074a6_aeff_11ed_b39b_7642ddf5d38crow8_col2,#T_f42074a6_aeff_11ed_b39b_7642ddf5d38crow8_col14,#T_f42074a6_aeff_11ed_b39b_7642ddf5d38crow8_col25,#T_f42074a6_aeff_11ed_b39b_7642ddf5d38crow9_col6,#T_f42074a6_aeff_11ed_b39b_7642ddf5d38crow9_col14,#T_f42074a6_aeff_11ed_b39b_7642ddf5d38crow9_col15,#T_f42074a6_aeff_11ed_b39b_7642ddf5d38crow9_col22,#T_f42074a6_aeff_11ed_b39b_7642ddf5d38crow9_col25,#T_f42074a6_aeff_11ed_b39b_7642ddf5d38crow18_col10,#T_f42074a6_aeff_11ed_b39b_7642ddf5d38crow20_col12,#T_f42074a6_aeff_11ed_b39b_7642ddf5d38crow20_col24,#T_f42074a6_aeff_11ed_b39b_7642ddf5d38crow21_col6{\n",
       "            background-color:  #9fbfff;\n",
       "            color:  #000000;\n",
       "        }#T_f42074a6_aeff_11ed_b39b_7642ddf5d38crow2_col15,#T_f42074a6_aeff_11ed_b39b_7642ddf5d38crow2_col22,#T_f42074a6_aeff_11ed_b39b_7642ddf5d38crow18_col15,#T_f42074a6_aeff_11ed_b39b_7642ddf5d38crow18_col22{\n",
       "            background-color:  #bcd2f7;\n",
       "            color:  #000000;\n",
       "        }#T_f42074a6_aeff_11ed_b39b_7642ddf5d38crow2_col16,#T_f42074a6_aeff_11ed_b39b_7642ddf5d38crow3_col16,#T_f42074a6_aeff_11ed_b39b_7642ddf5d38crow4_col17,#T_f42074a6_aeff_11ed_b39b_7642ddf5d38crow6_col21,#T_f42074a6_aeff_11ed_b39b_7642ddf5d38crow11_col17{\n",
       "            background-color:  #e5d8d1;\n",
       "            color:  #000000;\n",
       "        }#T_f42074a6_aeff_11ed_b39b_7642ddf5d38crow2_col17,#T_f42074a6_aeff_11ed_b39b_7642ddf5d38crow3_col17,#T_f42074a6_aeff_11ed_b39b_7642ddf5d38crow4_col16,#T_f42074a6_aeff_11ed_b39b_7642ddf5d38crow5_col2,#T_f42074a6_aeff_11ed_b39b_7642ddf5d38crow6_col20,#T_f42074a6_aeff_11ed_b39b_7642ddf5d38crow11_col16{\n",
       "            background-color:  #d4dbe6;\n",
       "            color:  #000000;\n",
       "        }#T_f42074a6_aeff_11ed_b39b_7642ddf5d38crow2_col18,#T_f42074a6_aeff_11ed_b39b_7642ddf5d38crow5_col15,#T_f42074a6_aeff_11ed_b39b_7642ddf5d38crow5_col22,#T_f42074a6_aeff_11ed_b39b_7642ddf5d38crow9_col17{\n",
       "            background-color:  #d6dce4;\n",
       "            color:  #000000;\n",
       "        }#T_f42074a6_aeff_11ed_b39b_7642ddf5d38crow2_col19,#T_f42074a6_aeff_11ed_b39b_7642ddf5d38crow9_col16{\n",
       "            background-color:  #e3d9d3;\n",
       "            color:  #000000;\n",
       "        }#T_f42074a6_aeff_11ed_b39b_7642ddf5d38crow2_col20,#T_f42074a6_aeff_11ed_b39b_7642ddf5d38crow20_col10{\n",
       "            background-color:  #c7d7f0;\n",
       "            color:  #000000;\n",
       "        }#T_f42074a6_aeff_11ed_b39b_7642ddf5d38crow2_col21{\n",
       "            background-color:  #eed0c0;\n",
       "            color:  #000000;\n",
       "        }#T_f42074a6_aeff_11ed_b39b_7642ddf5d38crow3_col0,#T_f42074a6_aeff_11ed_b39b_7642ddf5d38crow7_col9,#T_f42074a6_aeff_11ed_b39b_7642ddf5d38crow8_col3,#T_f42074a6_aeff_11ed_b39b_7642ddf5d38crow11_col5,#T_f42074a6_aeff_11ed_b39b_7642ddf5d38crow11_col12,#T_f42074a6_aeff_11ed_b39b_7642ddf5d38crow11_col24,#T_f42074a6_aeff_11ed_b39b_7642ddf5d38crow18_col14,#T_f42074a6_aeff_11ed_b39b_7642ddf5d38crow18_col25{\n",
       "            background-color:  #97b8ff;\n",
       "            color:  #000000;\n",
       "        }#T_f42074a6_aeff_11ed_b39b_7642ddf5d38crow3_col1,#T_f42074a6_aeff_11ed_b39b_7642ddf5d38crow10_col16,#T_f42074a6_aeff_11ed_b39b_7642ddf5d38crow15_col20,#T_f42074a6_aeff_11ed_b39b_7642ddf5d38crow22_col20{\n",
       "            background-color:  #efcfbf;\n",
       "            color:  #000000;\n",
       "        }#T_f42074a6_aeff_11ed_b39b_7642ddf5d38crow3_col2{\n",
       "            background-color:  #f7b99e;\n",
       "            color:  #000000;\n",
       "        }#T_f42074a6_aeff_11ed_b39b_7642ddf5d38crow3_col6,#T_f42074a6_aeff_11ed_b39b_7642ddf5d38crow6_col0,#T_f42074a6_aeff_11ed_b39b_7642ddf5d38crow9_col8,#T_f42074a6_aeff_11ed_b39b_7642ddf5d38crow14_col9,#T_f42074a6_aeff_11ed_b39b_7642ddf5d38crow19_col10,#T_f42074a6_aeff_11ed_b39b_7642ddf5d38crow25_col9{\n",
       "            background-color:  #7a9df8;\n",
       "            color:  #000000;\n",
       "        }#T_f42074a6_aeff_11ed_b39b_7642ddf5d38crow3_col7{\n",
       "            background-color:  #edd1c2;\n",
       "            color:  #000000;\n",
       "        }#T_f42074a6_aeff_11ed_b39b_7642ddf5d38crow3_col9{\n",
       "            background-color:  #b1cbfc;\n",
       "            color:  #000000;\n",
       "        }#T_f42074a6_aeff_11ed_b39b_7642ddf5d38crow3_col10,#T_f42074a6_aeff_11ed_b39b_7642ddf5d38crow4_col20,#T_f42074a6_aeff_11ed_b39b_7642ddf5d38crow7_col2,#T_f42074a6_aeff_11ed_b39b_7642ddf5d38crow7_col21,#T_f42074a6_aeff_11ed_b39b_7642ddf5d38crow10_col14,#T_f42074a6_aeff_11ed_b39b_7642ddf5d38crow10_col25{\n",
       "            background-color:  #cedaeb;\n",
       "            color:  #000000;\n",
       "        }#T_f42074a6_aeff_11ed_b39b_7642ddf5d38crow3_col11,#T_f42074a6_aeff_11ed_b39b_7642ddf5d38crow11_col1,#T_f42074a6_aeff_11ed_b39b_7642ddf5d38crow11_col3,#T_f42074a6_aeff_11ed_b39b_7642ddf5d38crow13_col5,#T_f42074a6_aeff_11ed_b39b_7642ddf5d38crow19_col1,#T_f42074a6_aeff_11ed_b39b_7642ddf5d38crow23_col5{\n",
       "            background-color:  #6687ed;\n",
       "            color:  #000000;\n",
       "        }#T_f42074a6_aeff_11ed_b39b_7642ddf5d38crow3_col13,#T_f42074a6_aeff_11ed_b39b_7642ddf5d38crow3_col23,#T_f42074a6_aeff_11ed_b39b_7642ddf5d38crow16_col13,#T_f42074a6_aeff_11ed_b39b_7642ddf5d38crow16_col23{\n",
       "            background-color:  #b2ccfb;\n",
       "            color:  #000000;\n",
       "        }#T_f42074a6_aeff_11ed_b39b_7642ddf5d38crow3_col14,#T_f42074a6_aeff_11ed_b39b_7642ddf5d38crow3_col25,#T_f42074a6_aeff_11ed_b39b_7642ddf5d38crow4_col12,#T_f42074a6_aeff_11ed_b39b_7642ddf5d38crow4_col24{\n",
       "            background-color:  #81a4fb;\n",
       "            color:  #000000;\n",
       "        }#T_f42074a6_aeff_11ed_b39b_7642ddf5d38crow3_col15,#T_f42074a6_aeff_11ed_b39b_7642ddf5d38crow3_col22,#T_f42074a6_aeff_11ed_b39b_7642ddf5d38crow5_col14,#T_f42074a6_aeff_11ed_b39b_7642ddf5d38crow5_col25{\n",
       "            background-color:  #cad8ef;\n",
       "            color:  #000000;\n",
       "        }#T_f42074a6_aeff_11ed_b39b_7642ddf5d38crow3_col18,#T_f42074a6_aeff_11ed_b39b_7642ddf5d38crow7_col18,#T_f42074a6_aeff_11ed_b39b_7642ddf5d38crow14_col10,#T_f42074a6_aeff_11ed_b39b_7642ddf5d38crow25_col10{\n",
       "            background-color:  #ccd9ed;\n",
       "            color:  #000000;\n",
       "        }#T_f42074a6_aeff_11ed_b39b_7642ddf5d38crow3_col20{\n",
       "            background-color:  #c4d5f3;\n",
       "            color:  #000000;\n",
       "        }#T_f42074a6_aeff_11ed_b39b_7642ddf5d38crow3_col21,#T_f42074a6_aeff_11ed_b39b_7642ddf5d38crow7_col3{\n",
       "            background-color:  #f0cdbb;\n",
       "            color:  #000000;\n",
       "        }#T_f42074a6_aeff_11ed_b39b_7642ddf5d38crow4_col0,#T_f42074a6_aeff_11ed_b39b_7642ddf5d38crow6_col2,#T_f42074a6_aeff_11ed_b39b_7642ddf5d38crow11_col0{\n",
       "            background-color:  #516ddb;\n",
       "            color:  #000000;\n",
       "        }#T_f42074a6_aeff_11ed_b39b_7642ddf5d38crow4_col1,#T_f42074a6_aeff_11ed_b39b_7642ddf5d38crow6_col5,#T_f42074a6_aeff_11ed_b39b_7642ddf5d38crow11_col8,#T_f42074a6_aeff_11ed_b39b_7642ddf5d38crow12_col8,#T_f42074a6_aeff_11ed_b39b_7642ddf5d38crow12_col14,#T_f42074a6_aeff_11ed_b39b_7642ddf5d38crow12_col25,#T_f42074a6_aeff_11ed_b39b_7642ddf5d38crow15_col9,#T_f42074a6_aeff_11ed_b39b_7642ddf5d38crow18_col11,#T_f42074a6_aeff_11ed_b39b_7642ddf5d38crow19_col0,#T_f42074a6_aeff_11ed_b39b_7642ddf5d38crow22_col9,#T_f42074a6_aeff_11ed_b39b_7642ddf5d38crow24_col8,#T_f42074a6_aeff_11ed_b39b_7642ddf5d38crow24_col14,#T_f42074a6_aeff_11ed_b39b_7642ddf5d38crow24_col25{\n",
       "            background-color:  #5e7de7;\n",
       "            color:  #000000;\n",
       "        }#T_f42074a6_aeff_11ed_b39b_7642ddf5d38crow4_col2,#T_f42074a6_aeff_11ed_b39b_7642ddf5d38crow5_col11,#T_f42074a6_aeff_11ed_b39b_7642ddf5d38crow8_col11,#T_f42074a6_aeff_11ed_b39b_7642ddf5d38crow11_col10,#T_f42074a6_aeff_11ed_b39b_7642ddf5d38crow14_col11,#T_f42074a6_aeff_11ed_b39b_7642ddf5d38crow17_col1,#T_f42074a6_aeff_11ed_b39b_7642ddf5d38crow20_col0,#T_f42074a6_aeff_11ed_b39b_7642ddf5d38crow25_col11{\n",
       "            background-color:  #5f7fe8;\n",
       "            color:  #000000;\n",
       "        }#T_f42074a6_aeff_11ed_b39b_7642ddf5d38crow4_col5,#T_f42074a6_aeff_11ed_b39b_7642ddf5d38crow8_col0,#T_f42074a6_aeff_11ed_b39b_7642ddf5d38crow16_col9{\n",
       "            background-color:  #799cf8;\n",
       "            color:  #000000;\n",
       "        }#T_f42074a6_aeff_11ed_b39b_7642ddf5d38crow4_col7,#T_f42074a6_aeff_11ed_b39b_7642ddf5d38crow21_col8{\n",
       "            background-color:  #6384eb;\n",
       "            color:  #000000;\n",
       "        }#T_f42074a6_aeff_11ed_b39b_7642ddf5d38crow4_col9,#T_f42074a6_aeff_11ed_b39b_7642ddf5d38crow13_col6,#T_f42074a6_aeff_11ed_b39b_7642ddf5d38crow23_col6{\n",
       "            background-color:  #90b2fe;\n",
       "            color:  #000000;\n",
       "        }#T_f42074a6_aeff_11ed_b39b_7642ddf5d38crow4_col10,#T_f42074a6_aeff_11ed_b39b_7642ddf5d38crow6_col3{\n",
       "            background-color:  #5470de;\n",
       "            color:  #000000;\n",
       "        }#T_f42074a6_aeff_11ed_b39b_7642ddf5d38crow4_col13,#T_f42074a6_aeff_11ed_b39b_7642ddf5d38crow4_col23{\n",
       "            background-color:  #a9c6fd;\n",
       "            color:  #000000;\n",
       "        }#T_f42074a6_aeff_11ed_b39b_7642ddf5d38crow4_col14,#T_f42074a6_aeff_11ed_b39b_7642ddf5d38crow4_col25{\n",
       "            background-color:  #c0d4f5;\n",
       "            color:  #000000;\n",
       "        }#T_f42074a6_aeff_11ed_b39b_7642ddf5d38crow4_col21,#T_f42074a6_aeff_11ed_b39b_7642ddf5d38crow7_col20{\n",
       "            background-color:  #ead5c9;\n",
       "            color:  #000000;\n",
       "        }#T_f42074a6_aeff_11ed_b39b_7642ddf5d38crow5_col0,#T_f42074a6_aeff_11ed_b39b_7642ddf5d38crow13_col4,#T_f42074a6_aeff_11ed_b39b_7642ddf5d38crow14_col8,#T_f42074a6_aeff_11ed_b39b_7642ddf5d38crow19_col11,#T_f42074a6_aeff_11ed_b39b_7642ddf5d38crow23_col4,#T_f42074a6_aeff_11ed_b39b_7642ddf5d38crow25_col8{\n",
       "            background-color:  #7699f6;\n",
       "            color:  #000000;\n",
       "        }#T_f42074a6_aeff_11ed_b39b_7642ddf5d38crow5_col3,#T_f42074a6_aeff_11ed_b39b_7642ddf5d38crow8_col5,#T_f42074a6_aeff_11ed_b39b_7642ddf5d38crow9_col18{\n",
       "            background-color:  #c3d5f4;\n",
       "            color:  #000000;\n",
       "        }#T_f42074a6_aeff_11ed_b39b_7642ddf5d38crow5_col4,#T_f42074a6_aeff_11ed_b39b_7642ddf5d38crow12_col7,#T_f42074a6_aeff_11ed_b39b_7642ddf5d38crow24_col7{\n",
       "            background-color:  #4a63d3;\n",
       "            color:  #f1f1f1;\n",
       "        }#T_f42074a6_aeff_11ed_b39b_7642ddf5d38crow5_col6{\n",
       "            background-color:  #4961d2;\n",
       "            color:  #f1f1f1;\n",
       "        }#T_f42074a6_aeff_11ed_b39b_7642ddf5d38crow5_col7{\n",
       "            background-color:  #cfdaea;\n",
       "            color:  #000000;\n",
       "        }#T_f42074a6_aeff_11ed_b39b_7642ddf5d38crow5_col9{\n",
       "            background-color:  #688aef;\n",
       "            color:  #000000;\n",
       "        }#T_f42074a6_aeff_11ed_b39b_7642ddf5d38crow5_col10{\n",
       "            background-color:  #f29274;\n",
       "            color:  #000000;\n",
       "        }#T_f42074a6_aeff_11ed_b39b_7642ddf5d38crow5_col12,#T_f42074a6_aeff_11ed_b39b_7642ddf5d38crow5_col24,#T_f42074a6_aeff_11ed_b39b_7642ddf5d38crow7_col11,#T_f42074a6_aeff_11ed_b39b_7642ddf5d38crow10_col0,#T_f42074a6_aeff_11ed_b39b_7642ddf5d38crow10_col1,#T_f42074a6_aeff_11ed_b39b_7642ddf5d38crow12_col15,#T_f42074a6_aeff_11ed_b39b_7642ddf5d38crow12_col22,#T_f42074a6_aeff_11ed_b39b_7642ddf5d38crow16_col0,#T_f42074a6_aeff_11ed_b39b_7642ddf5d38crow16_col7,#T_f42074a6_aeff_11ed_b39b_7642ddf5d38crow24_col15,#T_f42074a6_aeff_11ed_b39b_7642ddf5d38crow24_col22{\n",
       "            background-color:  #6788ee;\n",
       "            color:  #000000;\n",
       "        }#T_f42074a6_aeff_11ed_b39b_7642ddf5d38crow5_col16,#T_f42074a6_aeff_11ed_b39b_7642ddf5d38crow15_col18,#T_f42074a6_aeff_11ed_b39b_7642ddf5d38crow22_col18{\n",
       "            background-color:  #e8d6cc;\n",
       "            color:  #000000;\n",
       "        }#T_f42074a6_aeff_11ed_b39b_7642ddf5d38crow5_col17,#T_f42074a6_aeff_11ed_b39b_7642ddf5d38crow15_col5,#T_f42074a6_aeff_11ed_b39b_7642ddf5d38crow15_col19,#T_f42074a6_aeff_11ed_b39b_7642ddf5d38crow22_col5,#T_f42074a6_aeff_11ed_b39b_7642ddf5d38crow22_col19{\n",
       "            background-color:  #d1dae9;\n",
       "            color:  #000000;\n",
       "        }#T_f42074a6_aeff_11ed_b39b_7642ddf5d38crow5_col20{\n",
       "            background-color:  #f7a688;\n",
       "            color:  #000000;\n",
       "        }#T_f42074a6_aeff_11ed_b39b_7642ddf5d38crow6_col1,#T_f42074a6_aeff_11ed_b39b_7642ddf5d38crow16_col1,#T_f42074a6_aeff_11ed_b39b_7642ddf5d38crow16_col4,#T_f42074a6_aeff_11ed_b39b_7642ddf5d38crow17_col10{\n",
       "            background-color:  #6282ea;\n",
       "            color:  #000000;\n",
       "        }#T_f42074a6_aeff_11ed_b39b_7642ddf5d38crow6_col4,#T_f42074a6_aeff_11ed_b39b_7642ddf5d38crow9_col10,#T_f42074a6_aeff_11ed_b39b_7642ddf5d38crow11_col9,#T_f42074a6_aeff_11ed_b39b_7642ddf5d38crow15_col1,#T_f42074a6_aeff_11ed_b39b_7642ddf5d38crow20_col7,#T_f42074a6_aeff_11ed_b39b_7642ddf5d38crow21_col14,#T_f42074a6_aeff_11ed_b39b_7642ddf5d38crow21_col25,#T_f42074a6_aeff_11ed_b39b_7642ddf5d38crow22_col1{\n",
       "            background-color:  #7ea1fa;\n",
       "            color:  #000000;\n",
       "        }#T_f42074a6_aeff_11ed_b39b_7642ddf5d38crow6_col7,#T_f42074a6_aeff_11ed_b39b_7642ddf5d38crow6_col10,#T_f42074a6_aeff_11ed_b39b_7642ddf5d38crow10_col4,#T_f42074a6_aeff_11ed_b39b_7642ddf5d38crow10_col6,#T_f42074a6_aeff_11ed_b39b_7642ddf5d38crow10_col11,#T_f42074a6_aeff_11ed_b39b_7642ddf5d38crow12_col2,#T_f42074a6_aeff_11ed_b39b_7642ddf5d38crow13_col12,#T_f42074a6_aeff_11ed_b39b_7642ddf5d38crow13_col14,#T_f42074a6_aeff_11ed_b39b_7642ddf5d38crow13_col15,#T_f42074a6_aeff_11ed_b39b_7642ddf5d38crow13_col22,#T_f42074a6_aeff_11ed_b39b_7642ddf5d38crow13_col24,#T_f42074a6_aeff_11ed_b39b_7642ddf5d38crow13_col25,#T_f42074a6_aeff_11ed_b39b_7642ddf5d38crow14_col1,#T_f42074a6_aeff_11ed_b39b_7642ddf5d38crow15_col0,#T_f42074a6_aeff_11ed_b39b_7642ddf5d38crow15_col13,#T_f42074a6_aeff_11ed_b39b_7642ddf5d38crow15_col23,#T_f42074a6_aeff_11ed_b39b_7642ddf5d38crow16_col17,#T_f42074a6_aeff_11ed_b39b_7642ddf5d38crow17_col8,#T_f42074a6_aeff_11ed_b39b_7642ddf5d38crow17_col16,#T_f42074a6_aeff_11ed_b39b_7642ddf5d38crow18_col7,#T_f42074a6_aeff_11ed_b39b_7642ddf5d38crow18_col9,#T_f42074a6_aeff_11ed_b39b_7642ddf5d38crow18_col19,#T_f42074a6_aeff_11ed_b39b_7642ddf5d38crow19_col18,#T_f42074a6_aeff_11ed_b39b_7642ddf5d38crow20_col3,#T_f42074a6_aeff_11ed_b39b_7642ddf5d38crow20_col21,#T_f42074a6_aeff_11ed_b39b_7642ddf5d38crow21_col5,#T_f42074a6_aeff_11ed_b39b_7642ddf5d38crow21_col20,#T_f42074a6_aeff_11ed_b39b_7642ddf5d38crow22_col0,#T_f42074a6_aeff_11ed_b39b_7642ddf5d38crow22_col13,#T_f42074a6_aeff_11ed_b39b_7642ddf5d38crow22_col23,#T_f42074a6_aeff_11ed_b39b_7642ddf5d38crow23_col12,#T_f42074a6_aeff_11ed_b39b_7642ddf5d38crow23_col14,#T_f42074a6_aeff_11ed_b39b_7642ddf5d38crow23_col15,#T_f42074a6_aeff_11ed_b39b_7642ddf5d38crow23_col22,#T_f42074a6_aeff_11ed_b39b_7642ddf5d38crow23_col24,#T_f42074a6_aeff_11ed_b39b_7642ddf5d38crow23_col25,#T_f42074a6_aeff_11ed_b39b_7642ddf5d38crow24_col2,#T_f42074a6_aeff_11ed_b39b_7642ddf5d38crow25_col1{\n",
       "            background-color:  #3b4cc0;\n",
       "            color:  #f1f1f1;\n",
       "        }#T_f42074a6_aeff_11ed_b39b_7642ddf5d38crow6_col8{\n",
       "            background-color:  #4b64d5;\n",
       "            color:  #f1f1f1;\n",
       "        }#T_f42074a6_aeff_11ed_b39b_7642ddf5d38crow6_col11,#T_f42074a6_aeff_11ed_b39b_7642ddf5d38crow21_col0{\n",
       "            background-color:  #4c66d6;\n",
       "            color:  #000000;\n",
       "        }#T_f42074a6_aeff_11ed_b39b_7642ddf5d38crow6_col12,#T_f42074a6_aeff_11ed_b39b_7642ddf5d38crow6_col13,#T_f42074a6_aeff_11ed_b39b_7642ddf5d38crow6_col15,#T_f42074a6_aeff_11ed_b39b_7642ddf5d38crow6_col22,#T_f42074a6_aeff_11ed_b39b_7642ddf5d38crow6_col23,#T_f42074a6_aeff_11ed_b39b_7642ddf5d38crow6_col24,#T_f42074a6_aeff_11ed_b39b_7642ddf5d38crow11_col15,#T_f42074a6_aeff_11ed_b39b_7642ddf5d38crow11_col22,#T_f42074a6_aeff_11ed_b39b_7642ddf5d38crow14_col4,#T_f42074a6_aeff_11ed_b39b_7642ddf5d38crow17_col15,#T_f42074a6_aeff_11ed_b39b_7642ddf5d38crow17_col22,#T_f42074a6_aeff_11ed_b39b_7642ddf5d38crow25_col4{\n",
       "            background-color:  #aac7fd;\n",
       "            color:  #000000;\n",
       "        }#T_f42074a6_aeff_11ed_b39b_7642ddf5d38crow6_col18,#T_f42074a6_aeff_11ed_b39b_7642ddf5d38crow7_col17{\n",
       "            background-color:  #d8dce2;\n",
       "            color:  #000000;\n",
       "        }#T_f42074a6_aeff_11ed_b39b_7642ddf5d38crow6_col19,#T_f42074a6_aeff_11ed_b39b_7642ddf5d38crow7_col16{\n",
       "            background-color:  #e1dad6;\n",
       "            color:  #000000;\n",
       "        }#T_f42074a6_aeff_11ed_b39b_7642ddf5d38crow7_col5{\n",
       "            background-color:  #edd2c3;\n",
       "            color:  #000000;\n",
       "        }#T_f42074a6_aeff_11ed_b39b_7642ddf5d38crow7_col6,#T_f42074a6_aeff_11ed_b39b_7642ddf5d38crow20_col8{\n",
       "            background-color:  #6c8ff1;\n",
       "            color:  #000000;\n",
       "        }#T_f42074a6_aeff_11ed_b39b_7642ddf5d38crow7_col15,#T_f42074a6_aeff_11ed_b39b_7642ddf5d38crow7_col22{\n",
       "            background-color:  #bad0f8;\n",
       "            color:  #000000;\n",
       "        }#T_f42074a6_aeff_11ed_b39b_7642ddf5d38crow8_col1,#T_f42074a6_aeff_11ed_b39b_7642ddf5d38crow14_col13,#T_f42074a6_aeff_11ed_b39b_7642ddf5d38crow14_col23,#T_f42074a6_aeff_11ed_b39b_7642ddf5d38crow25_col13,#T_f42074a6_aeff_11ed_b39b_7642ddf5d38crow25_col23{\n",
       "            background-color:  #5572df;\n",
       "            color:  #000000;\n",
       "        }#T_f42074a6_aeff_11ed_b39b_7642ddf5d38crow8_col4{\n",
       "            background-color:  #779af7;\n",
       "            color:  #000000;\n",
       "        }#T_f42074a6_aeff_11ed_b39b_7642ddf5d38crow8_col7,#T_f42074a6_aeff_11ed_b39b_7642ddf5d38crow10_col3,#T_f42074a6_aeff_11ed_b39b_7642ddf5d38crow16_col10{\n",
       "            background-color:  #b7cff9;\n",
       "            color:  #000000;\n",
       "        }#T_f42074a6_aeff_11ed_b39b_7642ddf5d38crow8_col9,#T_f42074a6_aeff_11ed_b39b_7642ddf5d38crow9_col11,#T_f42074a6_aeff_11ed_b39b_7642ddf5d38crow14_col7,#T_f42074a6_aeff_11ed_b39b_7642ddf5d38crow16_col3,#T_f42074a6_aeff_11ed_b39b_7642ddf5d38crow17_col11,#T_f42074a6_aeff_11ed_b39b_7642ddf5d38crow17_col14,#T_f42074a6_aeff_11ed_b39b_7642ddf5d38crow17_col25,#T_f42074a6_aeff_11ed_b39b_7642ddf5d38crow25_col7{\n",
       "            background-color:  #7da0f9;\n",
       "            color:  #000000;\n",
       "        }#T_f42074a6_aeff_11ed_b39b_7642ddf5d38crow8_col10,#T_f42074a6_aeff_11ed_b39b_7642ddf5d38crow10_col15,#T_f42074a6_aeff_11ed_b39b_7642ddf5d38crow10_col22{\n",
       "            background-color:  #dbdcde;\n",
       "            color:  #000000;\n",
       "        }#T_f42074a6_aeff_11ed_b39b_7642ddf5d38crow8_col12,#T_f42074a6_aeff_11ed_b39b_7642ddf5d38crow8_col24,#T_f42074a6_aeff_11ed_b39b_7642ddf5d38crow9_col7{\n",
       "            background-color:  #8badfd;\n",
       "            color:  #000000;\n",
       "        }#T_f42074a6_aeff_11ed_b39b_7642ddf5d38crow8_col13,#T_f42074a6_aeff_11ed_b39b_7642ddf5d38crow8_col23,#T_f42074a6_aeff_11ed_b39b_7642ddf5d38crow9_col12,#T_f42074a6_aeff_11ed_b39b_7642ddf5d38crow9_col24,#T_f42074a6_aeff_11ed_b39b_7642ddf5d38crow16_col6,#T_f42074a6_aeff_11ed_b39b_7642ddf5d38crow17_col6,#T_f42074a6_aeff_11ed_b39b_7642ddf5d38crow18_col13,#T_f42074a6_aeff_11ed_b39b_7642ddf5d38crow18_col23,#T_f42074a6_aeff_11ed_b39b_7642ddf5d38crow19_col3,#T_f42074a6_aeff_11ed_b39b_7642ddf5d38crow19_col12,#T_f42074a6_aeff_11ed_b39b_7642ddf5d38crow19_col24{\n",
       "            background-color:  #8db0fe;\n",
       "            color:  #000000;\n",
       "        }#T_f42074a6_aeff_11ed_b39b_7642ddf5d38crow8_col15,#T_f42074a6_aeff_11ed_b39b_7642ddf5d38crow8_col22,#T_f42074a6_aeff_11ed_b39b_7642ddf5d38crow19_col13,#T_f42074a6_aeff_11ed_b39b_7642ddf5d38crow19_col23{\n",
       "            background-color:  #c1d4f4;\n",
       "            color:  #000000;\n",
       "        }#T_f42074a6_aeff_11ed_b39b_7642ddf5d38crow8_col16,#T_f42074a6_aeff_11ed_b39b_7642ddf5d38crow9_col21{\n",
       "            background-color:  #efcebd;\n",
       "            color:  #000000;\n",
       "        }#T_f42074a6_aeff_11ed_b39b_7642ddf5d38crow9_col0,#T_f42074a6_aeff_11ed_b39b_7642ddf5d38crow13_col9,#T_f42074a6_aeff_11ed_b39b_7642ddf5d38crow14_col6,#T_f42074a6_aeff_11ed_b39b_7642ddf5d38crow18_col8,#T_f42074a6_aeff_11ed_b39b_7642ddf5d38crow23_col9,#T_f42074a6_aeff_11ed_b39b_7642ddf5d38crow25_col6{\n",
       "            background-color:  #6f92f3;\n",
       "            color:  #000000;\n",
       "        }#T_f42074a6_aeff_11ed_b39b_7642ddf5d38crow9_col1,#T_f42074a6_aeff_11ed_b39b_7642ddf5d38crow15_col11,#T_f42074a6_aeff_11ed_b39b_7642ddf5d38crow22_col11{\n",
       "            background-color:  #6b8df0;\n",
       "            color:  #000000;\n",
       "        }#T_f42074a6_aeff_11ed_b39b_7642ddf5d38crow9_col3{\n",
       "            background-color:  #afcafc;\n",
       "            color:  #000000;\n",
       "        }#T_f42074a6_aeff_11ed_b39b_7642ddf5d38crow9_col4,#T_f42074a6_aeff_11ed_b39b_7642ddf5d38crow16_col8,#T_f42074a6_aeff_11ed_b39b_7642ddf5d38crow18_col12,#T_f42074a6_aeff_11ed_b39b_7642ddf5d38crow18_col24{\n",
       "            background-color:  #9abbff;\n",
       "            color:  #000000;\n",
       "        }#T_f42074a6_aeff_11ed_b39b_7642ddf5d38crow9_col5,#T_f42074a6_aeff_11ed_b39b_7642ddf5d38crow17_col13,#T_f42074a6_aeff_11ed_b39b_7642ddf5d38crow17_col23{\n",
       "            background-color:  #9ebeff;\n",
       "            color:  #000000;\n",
       "        }#T_f42074a6_aeff_11ed_b39b_7642ddf5d38crow10_col5{\n",
       "            background-color:  #f08b6e;\n",
       "            color:  #000000;\n",
       "        }#T_f42074a6_aeff_11ed_b39b_7642ddf5d38crow10_col7,#T_f42074a6_aeff_11ed_b39b_7642ddf5d38crow10_col8,#T_f42074a6_aeff_11ed_b39b_7642ddf5d38crow10_col17,#T_f42074a6_aeff_11ed_b39b_7642ddf5d38crow15_col21,#T_f42074a6_aeff_11ed_b39b_7642ddf5d38crow22_col21{\n",
       "            background-color:  #c6d6f1;\n",
       "            color:  #000000;\n",
       "        }#T_f42074a6_aeff_11ed_b39b_7642ddf5d38crow10_col12,#T_f42074a6_aeff_11ed_b39b_7642ddf5d38crow10_col24,#T_f42074a6_aeff_11ed_b39b_7642ddf5d38crow14_col3,#T_f42074a6_aeff_11ed_b39b_7642ddf5d38crow17_col3,#T_f42074a6_aeff_11ed_b39b_7642ddf5d38crow25_col3{\n",
       "            background-color:  #5673e0;\n",
       "            color:  #000000;\n",
       "        }#T_f42074a6_aeff_11ed_b39b_7642ddf5d38crow10_col13,#T_f42074a6_aeff_11ed_b39b_7642ddf5d38crow10_col23,#T_f42074a6_aeff_11ed_b39b_7642ddf5d38crow11_col2,#T_f42074a6_aeff_11ed_b39b_7642ddf5d38crow15_col7,#T_f42074a6_aeff_11ed_b39b_7642ddf5d38crow16_col12,#T_f42074a6_aeff_11ed_b39b_7642ddf5d38crow16_col24,#T_f42074a6_aeff_11ed_b39b_7642ddf5d38crow20_col11,#T_f42074a6_aeff_11ed_b39b_7642ddf5d38crow22_col7{\n",
       "            background-color:  #7396f5;\n",
       "            color:  #000000;\n",
       "        }#T_f42074a6_aeff_11ed_b39b_7642ddf5d38crow10_col18,#T_f42074a6_aeff_11ed_b39b_7642ddf5d38crow14_col20,#T_f42074a6_aeff_11ed_b39b_7642ddf5d38crow25_col20{\n",
       "            background-color:  #e6d7cf;\n",
       "            color:  #000000;\n",
       "        }#T_f42074a6_aeff_11ed_b39b_7642ddf5d38crow10_col19,#T_f42074a6_aeff_11ed_b39b_7642ddf5d38crow14_col5,#T_f42074a6_aeff_11ed_b39b_7642ddf5d38crow14_col21,#T_f42074a6_aeff_11ed_b39b_7642ddf5d38crow25_col5,#T_f42074a6_aeff_11ed_b39b_7642ddf5d38crow25_col21{\n",
       "            background-color:  #d3dbe7;\n",
       "            color:  #000000;\n",
       "        }#T_f42074a6_aeff_11ed_b39b_7642ddf5d38crow10_col20,#T_f42074a6_aeff_11ed_b39b_7642ddf5d38crow13_col21,#T_f42074a6_aeff_11ed_b39b_7642ddf5d38crow23_col21{\n",
       "            background-color:  #f3c7b1;\n",
       "            color:  #000000;\n",
       "        }#T_f42074a6_aeff_11ed_b39b_7642ddf5d38crow11_col7,#T_f42074a6_aeff_11ed_b39b_7642ddf5d38crow15_col4,#T_f42074a6_aeff_11ed_b39b_7642ddf5d38crow22_col4{\n",
       "            background-color:  #5977e3;\n",
       "            color:  #000000;\n",
       "        }#T_f42074a6_aeff_11ed_b39b_7642ddf5d38crow11_col14,#T_f42074a6_aeff_11ed_b39b_7642ddf5d38crow11_col25,#T_f42074a6_aeff_11ed_b39b_7642ddf5d38crow17_col4,#T_f42074a6_aeff_11ed_b39b_7642ddf5d38crow21_col1{\n",
       "            background-color:  #88abfd;\n",
       "            color:  #000000;\n",
       "        }#T_f42074a6_aeff_11ed_b39b_7642ddf5d38crow11_col18,#T_f42074a6_aeff_11ed_b39b_7642ddf5d38crow12_col21,#T_f42074a6_aeff_11ed_b39b_7642ddf5d38crow13_col17,#T_f42074a6_aeff_11ed_b39b_7642ddf5d38crow23_col17,#T_f42074a6_aeff_11ed_b39b_7642ddf5d38crow24_col21{\n",
       "            background-color:  #d7dce3;\n",
       "            color:  #000000;\n",
       "        }#T_f42074a6_aeff_11ed_b39b_7642ddf5d38crow11_col19,#T_f42074a6_aeff_11ed_b39b_7642ddf5d38crow12_col20,#T_f42074a6_aeff_11ed_b39b_7642ddf5d38crow13_col16,#T_f42074a6_aeff_11ed_b39b_7642ddf5d38crow23_col16,#T_f42074a6_aeff_11ed_b39b_7642ddf5d38crow24_col20{\n",
       "            background-color:  #e2dad5;\n",
       "            color:  #000000;\n",
       "        }#T_f42074a6_aeff_11ed_b39b_7642ddf5d38crow12_col1,#T_f42074a6_aeff_11ed_b39b_7642ddf5d38crow12_col13,#T_f42074a6_aeff_11ed_b39b_7642ddf5d38crow12_col23,#T_f42074a6_aeff_11ed_b39b_7642ddf5d38crow13_col10,#T_f42074a6_aeff_11ed_b39b_7642ddf5d38crow17_col7,#T_f42074a6_aeff_11ed_b39b_7642ddf5d38crow21_col10,#T_f42074a6_aeff_11ed_b39b_7642ddf5d38crow23_col10,#T_f42074a6_aeff_11ed_b39b_7642ddf5d38crow24_col1,#T_f42074a6_aeff_11ed_b39b_7642ddf5d38crow24_col13,#T_f42074a6_aeff_11ed_b39b_7642ddf5d38crow24_col23{\n",
       "            background-color:  #536edd;\n",
       "            color:  #000000;\n",
       "        }#T_f42074a6_aeff_11ed_b39b_7642ddf5d38crow12_col3,#T_f42074a6_aeff_11ed_b39b_7642ddf5d38crow20_col1,#T_f42074a6_aeff_11ed_b39b_7642ddf5d38crow20_col9,#T_f42074a6_aeff_11ed_b39b_7642ddf5d38crow24_col3{\n",
       "            background-color:  #3d50c3;\n",
       "            color:  #f1f1f1;\n",
       "        }#T_f42074a6_aeff_11ed_b39b_7642ddf5d38crow12_col4,#T_f42074a6_aeff_11ed_b39b_7642ddf5d38crow14_col12,#T_f42074a6_aeff_11ed_b39b_7642ddf5d38crow14_col24,#T_f42074a6_aeff_11ed_b39b_7642ddf5d38crow19_col8,#T_f42074a6_aeff_11ed_b39b_7642ddf5d38crow21_col11,#T_f42074a6_aeff_11ed_b39b_7642ddf5d38crow24_col4,#T_f42074a6_aeff_11ed_b39b_7642ddf5d38crow25_col12,#T_f42074a6_aeff_11ed_b39b_7642ddf5d38crow25_col24{\n",
       "            background-color:  #6180e9;\n",
       "            color:  #000000;\n",
       "        }#T_f42074a6_aeff_11ed_b39b_7642ddf5d38crow12_col10,#T_f42074a6_aeff_11ed_b39b_7642ddf5d38crow15_col12,#T_f42074a6_aeff_11ed_b39b_7642ddf5d38crow15_col14,#T_f42074a6_aeff_11ed_b39b_7642ddf5d38crow15_col24,#T_f42074a6_aeff_11ed_b39b_7642ddf5d38crow15_col25,#T_f42074a6_aeff_11ed_b39b_7642ddf5d38crow22_col12,#T_f42074a6_aeff_11ed_b39b_7642ddf5d38crow22_col14,#T_f42074a6_aeff_11ed_b39b_7642ddf5d38crow22_col24,#T_f42074a6_aeff_11ed_b39b_7642ddf5d38crow22_col25,#T_f42074a6_aeff_11ed_b39b_7642ddf5d38crow24_col10{\n",
       "            background-color:  #4f69d9;\n",
       "            color:  #000000;\n",
       "        }#T_f42074a6_aeff_11ed_b39b_7642ddf5d38crow13_col0,#T_f42074a6_aeff_11ed_b39b_7642ddf5d38crow21_col7,#T_f42074a6_aeff_11ed_b39b_7642ddf5d38crow23_col0{\n",
       "            background-color:  #3e51c5;\n",
       "            color:  #f1f1f1;\n",
       "        }#T_f42074a6_aeff_11ed_b39b_7642ddf5d38crow13_col7,#T_f42074a6_aeff_11ed_b39b_7642ddf5d38crow23_col7{\n",
       "            background-color:  #4055c8;\n",
       "            color:  #f1f1f1;\n",
       "        }#T_f42074a6_aeff_11ed_b39b_7642ddf5d38crow13_col8,#T_f42074a6_aeff_11ed_b39b_7642ddf5d38crow18_col3,#T_f42074a6_aeff_11ed_b39b_7642ddf5d38crow23_col8{\n",
       "            background-color:  #485fd1;\n",
       "            color:  #f1f1f1;\n",
       "        }#T_f42074a6_aeff_11ed_b39b_7642ddf5d38crow13_col18,#T_f42074a6_aeff_11ed_b39b_7642ddf5d38crow18_col21,#T_f42074a6_aeff_11ed_b39b_7642ddf5d38crow19_col20,#T_f42074a6_aeff_11ed_b39b_7642ddf5d38crow20_col19,#T_f42074a6_aeff_11ed_b39b_7642ddf5d38crow21_col18,#T_f42074a6_aeff_11ed_b39b_7642ddf5d38crow23_col18{\n",
       "            background-color:  #cdd9ec;\n",
       "            color:  #000000;\n",
       "        }#T_f42074a6_aeff_11ed_b39b_7642ddf5d38crow14_col16,#T_f42074a6_aeff_11ed_b39b_7642ddf5d38crow25_col16{\n",
       "            background-color:  #e7d7ce;\n",
       "            color:  #000000;\n",
       "        }#T_f42074a6_aeff_11ed_b39b_7642ddf5d38crow14_col17,#T_f42074a6_aeff_11ed_b39b_7642ddf5d38crow25_col17{\n",
       "            background-color:  #d2dbe8;\n",
       "            color:  #000000;\n",
       "        }#T_f42074a6_aeff_11ed_b39b_7642ddf5d38crow16_col11,#T_f42074a6_aeff_11ed_b39b_7642ddf5d38crow17_col2,#T_f42074a6_aeff_11ed_b39b_7642ddf5d38crow20_col4{\n",
       "            background-color:  #5875e1;\n",
       "            color:  #000000;\n",
       "        }#T_f42074a6_aeff_11ed_b39b_7642ddf5d38crow16_col15,#T_f42074a6_aeff_11ed_b39b_7642ddf5d38crow16_col22{\n",
       "            background-color:  #a7c5fe;\n",
       "            color:  #000000;\n",
       "        }#T_f42074a6_aeff_11ed_b39b_7642ddf5d38crow17_col0{\n",
       "            background-color:  #455cce;\n",
       "            color:  #f1f1f1;\n",
       "        }#T_f42074a6_aeff_11ed_b39b_7642ddf5d38crow17_col9{\n",
       "            background-color:  #5d7ce6;\n",
       "            color:  #000000;\n",
       "        }#T_f42074a6_aeff_11ed_b39b_7642ddf5d38crow18_col0{\n",
       "            background-color:  #4e68d8;\n",
       "            color:  #000000;\n",
       "        }#T_f42074a6_aeff_11ed_b39b_7642ddf5d38crow19_col5{\n",
       "            background-color:  #9bbcff;\n",
       "            color:  #000000;\n",
       "        }#T_f42074a6_aeff_11ed_b39b_7642ddf5d38crow19_col7{\n",
       "            background-color:  #82a6fb;\n",
       "            color:  #000000;\n",
       "        }#T_f42074a6_aeff_11ed_b39b_7642ddf5d38crow19_col9{\n",
       "            background-color:  #a1c0ff;\n",
       "            color:  #000000;\n",
       "        }#T_f42074a6_aeff_11ed_b39b_7642ddf5d38crow19_col14,#T_f42074a6_aeff_11ed_b39b_7642ddf5d38crow19_col25{\n",
       "            background-color:  #8caffe;\n",
       "            color:  #000000;\n",
       "        }#T_f42074a6_aeff_11ed_b39b_7642ddf5d38crow20_col2{\n",
       "            background-color:  #4257c9;\n",
       "            color:  #f1f1f1;\n",
       "        }#T_f42074a6_aeff_11ed_b39b_7642ddf5d38crow20_col5{\n",
       "            background-color:  #f2c9b4;\n",
       "            color:  #000000;\n",
       "        }</style><table id=\"T_f42074a6_aeff_11ed_b39b_7642ddf5d38c\" ><thead>    <tr>        <th class=\"blank level0\" ></th>        <th class=\"col_heading level0 col0\" >price</th>        <th class=\"col_heading level0 col1\" >bedrooms</th>        <th class=\"col_heading level0 col2\" >bathrooms</th>        <th class=\"col_heading level0 col3\" >sqft_living</th>        <th class=\"col_heading level0 col4\" >sqft_lot</th>        <th class=\"col_heading level0 col5\" >floors</th>        <th class=\"col_heading level0 col6\" >condition</th>        <th class=\"col_heading level0 col7\" >grade</th>        <th class=\"col_heading level0 col8\" >sqft_garage</th>        <th class=\"col_heading level0 col9\" >sqft_patio</th>        <th class=\"col_heading level0 col10\" >yr_built</th>        <th class=\"col_heading level0 col11\" >yr_renovated</th>        <th class=\"col_heading level0 col12\" >Redmond</th>        <th class=\"col_heading level0 col13\" >North KC</th>        <th class=\"col_heading level0 col14\" >Sammamish</th>        <th class=\"col_heading level0 col15\" >Newcastle</th>        <th class=\"col_heading level0 col16\" >nuisance_NO</th>        <th class=\"col_heading level0 col17\" >nuisance_YES</th>        <th class=\"col_heading level0 col18\" >view_no view</th>        <th class=\"col_heading level0 col19\" >view_view</th>        <th class=\"col_heading level0 col20\" >basement_No</th>        <th class=\"col_heading level0 col21\" >basement_Yes</th>        <th class=\"col_heading level0 col22\" >zip_Newcastle</th>        <th class=\"col_heading level0 col23\" >zip_North KC</th>        <th class=\"col_heading level0 col24\" >zip_Redmond</th>        <th class=\"col_heading level0 col25\" >zip_Sammamish</th>    </tr></thead><tbody>\n",
       "                <tr>\n",
       "                        <th id=\"T_f42074a6_aeff_11ed_b39b_7642ddf5d38clevel0_row0\" class=\"row_heading level0 row0\" >price</th>\n",
       "                        <td id=\"T_f42074a6_aeff_11ed_b39b_7642ddf5d38crow0_col0\" class=\"data row0 col0\" >1.000000</td>\n",
       "                        <td id=\"T_f42074a6_aeff_11ed_b39b_7642ddf5d38crow0_col1\" class=\"data row0 col1\" >0.150696</td>\n",
       "                        <td id=\"T_f42074a6_aeff_11ed_b39b_7642ddf5d38crow0_col2\" class=\"data row0 col2\" >0.135674</td>\n",
       "                        <td id=\"T_f42074a6_aeff_11ed_b39b_7642ddf5d38crow0_col3\" class=\"data row0 col3\" >0.206432</td>\n",
       "                        <td id=\"T_f42074a6_aeff_11ed_b39b_7642ddf5d38crow0_col4\" class=\"data row0 col4\" >-0.016961</td>\n",
       "                        <td id=\"T_f42074a6_aeff_11ed_b39b_7642ddf5d38crow0_col5\" class=\"data row0 col5\" >0.107017</td>\n",
       "                        <td id=\"T_f42074a6_aeff_11ed_b39b_7642ddf5d38crow0_col6\" class=\"data row0 col6\" >0.117054</td>\n",
       "                        <td id=\"T_f42074a6_aeff_11ed_b39b_7642ddf5d38crow0_col7\" class=\"data row0 col7\" >0.232673</td>\n",
       "                        <td id=\"T_f42074a6_aeff_11ed_b39b_7642ddf5d38crow0_col8\" class=\"data row0 col8\" >0.113183</td>\n",
       "                        <td id=\"T_f42074a6_aeff_11ed_b39b_7642ddf5d38crow0_col9\" class=\"data row0 col9\" >0.082960</td>\n",
       "                        <td id=\"T_f42074a6_aeff_11ed_b39b_7642ddf5d38crow0_col10\" class=\"data row0 col10\" >0.056117</td>\n",
       "                        <td id=\"T_f42074a6_aeff_11ed_b39b_7642ddf5d38crow0_col11\" class=\"data row0 col11\" >-0.016327</td>\n",
       "                        <td id=\"T_f42074a6_aeff_11ed_b39b_7642ddf5d38crow0_col12\" class=\"data row0 col12\" >0.156438</td>\n",
       "                        <td id=\"T_f42074a6_aeff_11ed_b39b_7642ddf5d38crow0_col13\" class=\"data row0 col13\" >-0.082635</td>\n",
       "                        <td id=\"T_f42074a6_aeff_11ed_b39b_7642ddf5d38crow0_col14\" class=\"data row0 col14\" >0.067960</td>\n",
       "                        <td id=\"T_f42074a6_aeff_11ed_b39b_7642ddf5d38crow0_col15\" class=\"data row0 col15\" >-0.098793</td>\n",
       "                        <td id=\"T_f42074a6_aeff_11ed_b39b_7642ddf5d38crow0_col16\" class=\"data row0 col16\" >0.057643</td>\n",
       "                        <td id=\"T_f42074a6_aeff_11ed_b39b_7642ddf5d38crow0_col17\" class=\"data row0 col17\" >-0.057643</td>\n",
       "                        <td id=\"T_f42074a6_aeff_11ed_b39b_7642ddf5d38crow0_col18\" class=\"data row0 col18\" >-0.026976</td>\n",
       "                        <td id=\"T_f42074a6_aeff_11ed_b39b_7642ddf5d38crow0_col19\" class=\"data row0 col19\" >0.026976</td>\n",
       "                        <td id=\"T_f42074a6_aeff_11ed_b39b_7642ddf5d38crow0_col20\" class=\"data row0 col20\" >0.031150</td>\n",
       "                        <td id=\"T_f42074a6_aeff_11ed_b39b_7642ddf5d38crow0_col21\" class=\"data row0 col21\" >-0.031150</td>\n",
       "                        <td id=\"T_f42074a6_aeff_11ed_b39b_7642ddf5d38crow0_col22\" class=\"data row0 col22\" >-0.098793</td>\n",
       "                        <td id=\"T_f42074a6_aeff_11ed_b39b_7642ddf5d38crow0_col23\" class=\"data row0 col23\" >-0.082635</td>\n",
       "                        <td id=\"T_f42074a6_aeff_11ed_b39b_7642ddf5d38crow0_col24\" class=\"data row0 col24\" >0.156438</td>\n",
       "                        <td id=\"T_f42074a6_aeff_11ed_b39b_7642ddf5d38crow0_col25\" class=\"data row0 col25\" >0.067960</td>\n",
       "            </tr>\n",
       "            <tr>\n",
       "                        <th id=\"T_f42074a6_aeff_11ed_b39b_7642ddf5d38clevel0_row1\" class=\"row_heading level0 row1\" >bedrooms</th>\n",
       "                        <td id=\"T_f42074a6_aeff_11ed_b39b_7642ddf5d38crow1_col0\" class=\"data row1 col0\" >0.150696</td>\n",
       "                        <td id=\"T_f42074a6_aeff_11ed_b39b_7642ddf5d38crow1_col1\" class=\"data row1 col1\" >1.000000</td>\n",
       "                        <td id=\"T_f42074a6_aeff_11ed_b39b_7642ddf5d38crow1_col2\" class=\"data row1 col2\" >0.413564</td>\n",
       "                        <td id=\"T_f42074a6_aeff_11ed_b39b_7642ddf5d38crow1_col3\" class=\"data row1 col3\" >0.519384</td>\n",
       "                        <td id=\"T_f42074a6_aeff_11ed_b39b_7642ddf5d38crow1_col4\" class=\"data row1 col4\" >-0.010571</td>\n",
       "                        <td id=\"T_f42074a6_aeff_11ed_b39b_7642ddf5d38crow1_col5\" class=\"data row1 col5\" >0.058293</td>\n",
       "                        <td id=\"T_f42074a6_aeff_11ed_b39b_7642ddf5d38crow1_col6\" class=\"data row1 col6\" >0.005030</td>\n",
       "                        <td id=\"T_f42074a6_aeff_11ed_b39b_7642ddf5d38crow1_col7\" class=\"data row1 col7\" >0.102298</td>\n",
       "                        <td id=\"T_f42074a6_aeff_11ed_b39b_7642ddf5d38crow1_col8\" class=\"data row1 col8\" >-0.042038</td>\n",
       "                        <td id=\"T_f42074a6_aeff_11ed_b39b_7642ddf5d38crow1_col9\" class=\"data row1 col9\" >0.036160</td>\n",
       "                        <td id=\"T_f42074a6_aeff_11ed_b39b_7642ddf5d38crow1_col10\" class=\"data row1 col10\" >0.023521</td>\n",
       "                        <td id=\"T_f42074a6_aeff_11ed_b39b_7642ddf5d38crow1_col11\" class=\"data row1 col11\" >0.015717</td>\n",
       "                        <td id=\"T_f42074a6_aeff_11ed_b39b_7642ddf5d38crow1_col12\" class=\"data row1 col12\" >-0.051326</td>\n",
       "                        <td id=\"T_f42074a6_aeff_11ed_b39b_7642ddf5d38crow1_col13\" class=\"data row1 col13\" >0.055284</td>\n",
       "                        <td id=\"T_f42074a6_aeff_11ed_b39b_7642ddf5d38crow1_col14\" class=\"data row1 col14\" >-0.140471</td>\n",
       "                        <td id=\"T_f42074a6_aeff_11ed_b39b_7642ddf5d38crow1_col15\" class=\"data row1 col15\" >0.099922</td>\n",
       "                        <td id=\"T_f42074a6_aeff_11ed_b39b_7642ddf5d38crow1_col16\" class=\"data row1 col16\" >0.004387</td>\n",
       "                        <td id=\"T_f42074a6_aeff_11ed_b39b_7642ddf5d38crow1_col17\" class=\"data row1 col17\" >-0.004387</td>\n",
       "                        <td id=\"T_f42074a6_aeff_11ed_b39b_7642ddf5d38crow1_col18\" class=\"data row1 col18\" >-0.016210</td>\n",
       "                        <td id=\"T_f42074a6_aeff_11ed_b39b_7642ddf5d38crow1_col19\" class=\"data row1 col19\" >0.016210</td>\n",
       "                        <td id=\"T_f42074a6_aeff_11ed_b39b_7642ddf5d38crow1_col20\" class=\"data row1 col20\" >-0.129556</td>\n",
       "                        <td id=\"T_f42074a6_aeff_11ed_b39b_7642ddf5d38crow1_col21\" class=\"data row1 col21\" >0.129556</td>\n",
       "                        <td id=\"T_f42074a6_aeff_11ed_b39b_7642ddf5d38crow1_col22\" class=\"data row1 col22\" >0.099922</td>\n",
       "                        <td id=\"T_f42074a6_aeff_11ed_b39b_7642ddf5d38crow1_col23\" class=\"data row1 col23\" >0.055284</td>\n",
       "                        <td id=\"T_f42074a6_aeff_11ed_b39b_7642ddf5d38crow1_col24\" class=\"data row1 col24\" >-0.051326</td>\n",
       "                        <td id=\"T_f42074a6_aeff_11ed_b39b_7642ddf5d38crow1_col25\" class=\"data row1 col25\" >-0.140471</td>\n",
       "            </tr>\n",
       "            <tr>\n",
       "                        <th id=\"T_f42074a6_aeff_11ed_b39b_7642ddf5d38clevel0_row2\" class=\"row_heading level0 row2\" >bathrooms</th>\n",
       "                        <td id=\"T_f42074a6_aeff_11ed_b39b_7642ddf5d38crow2_col0\" class=\"data row2 col0\" >0.135674</td>\n",
       "                        <td id=\"T_f42074a6_aeff_11ed_b39b_7642ddf5d38crow2_col1\" class=\"data row2 col1\" >0.413564</td>\n",
       "                        <td id=\"T_f42074a6_aeff_11ed_b39b_7642ddf5d38crow2_col2\" class=\"data row2 col2\" >1.000000</td>\n",
       "                        <td id=\"T_f42074a6_aeff_11ed_b39b_7642ddf5d38crow2_col3\" class=\"data row2 col3\" >0.598866</td>\n",
       "                        <td id=\"T_f42074a6_aeff_11ed_b39b_7642ddf5d38crow2_col4\" class=\"data row2 col4\" >-0.040455</td>\n",
       "                        <td id=\"T_f42074a6_aeff_11ed_b39b_7642ddf5d38crow2_col5\" class=\"data row2 col5\" >0.370813</td>\n",
       "                        <td id=\"T_f42074a6_aeff_11ed_b39b_7642ddf5d38crow2_col6\" class=\"data row2 col6\" >-0.094361</td>\n",
       "                        <td id=\"T_f42074a6_aeff_11ed_b39b_7642ddf5d38crow2_col7\" class=\"data row2 col7\" >0.344345</td>\n",
       "                        <td id=\"T_f42074a6_aeff_11ed_b39b_7642ddf5d38crow2_col8\" class=\"data row2 col8\" >0.175690</td>\n",
       "                        <td id=\"T_f42074a6_aeff_11ed_b39b_7642ddf5d38crow2_col9\" class=\"data row2 col9\" >0.153109</td>\n",
       "                        <td id=\"T_f42074a6_aeff_11ed_b39b_7642ddf5d38crow2_col10\" class=\"data row2 col10\" >0.409054</td>\n",
       "                        <td id=\"T_f42074a6_aeff_11ed_b39b_7642ddf5d38crow2_col11\" class=\"data row2 col11\" >0.025771</td>\n",
       "                        <td id=\"T_f42074a6_aeff_11ed_b39b_7642ddf5d38crow2_col12\" class=\"data row2 col12\" >-0.182420</td>\n",
       "                        <td id=\"T_f42074a6_aeff_11ed_b39b_7642ddf5d38crow2_col13\" class=\"data row2 col13\" >0.017070</td>\n",
       "                        <td id=\"T_f42074a6_aeff_11ed_b39b_7642ddf5d38crow2_col14\" class=\"data row2 col14\" >0.054514</td>\n",
       "                        <td id=\"T_f42074a6_aeff_11ed_b39b_7642ddf5d38crow2_col15\" class=\"data row2 col15\" >0.091120</td>\n",
       "                        <td id=\"T_f42074a6_aeff_11ed_b39b_7642ddf5d38crow2_col16\" class=\"data row2 col16\" >0.067312</td>\n",
       "                        <td id=\"T_f42074a6_aeff_11ed_b39b_7642ddf5d38crow2_col17\" class=\"data row2 col17\" >-0.067312</td>\n",
       "                        <td id=\"T_f42074a6_aeff_11ed_b39b_7642ddf5d38crow2_col18\" class=\"data row2 col18\" >-0.053646</td>\n",
       "                        <td id=\"T_f42074a6_aeff_11ed_b39b_7642ddf5d38crow2_col19\" class=\"data row2 col19\" >0.053646</td>\n",
       "                        <td id=\"T_f42074a6_aeff_11ed_b39b_7642ddf5d38crow2_col20\" class=\"data row2 col20\" >-0.151711</td>\n",
       "                        <td id=\"T_f42074a6_aeff_11ed_b39b_7642ddf5d38crow2_col21\" class=\"data row2 col21\" >0.151711</td>\n",
       "                        <td id=\"T_f42074a6_aeff_11ed_b39b_7642ddf5d38crow2_col22\" class=\"data row2 col22\" >0.091120</td>\n",
       "                        <td id=\"T_f42074a6_aeff_11ed_b39b_7642ddf5d38crow2_col23\" class=\"data row2 col23\" >0.017070</td>\n",
       "                        <td id=\"T_f42074a6_aeff_11ed_b39b_7642ddf5d38crow2_col24\" class=\"data row2 col24\" >-0.182420</td>\n",
       "                        <td id=\"T_f42074a6_aeff_11ed_b39b_7642ddf5d38crow2_col25\" class=\"data row2 col25\" >0.054514</td>\n",
       "            </tr>\n",
       "            <tr>\n",
       "                        <th id=\"T_f42074a6_aeff_11ed_b39b_7642ddf5d38clevel0_row3\" class=\"row_heading level0 row3\" >sqft_living</th>\n",
       "                        <td id=\"T_f42074a6_aeff_11ed_b39b_7642ddf5d38crow3_col0\" class=\"data row3 col0\" >0.206432</td>\n",
       "                        <td id=\"T_f42074a6_aeff_11ed_b39b_7642ddf5d38crow3_col1\" class=\"data row3 col1\" >0.519384</td>\n",
       "                        <td id=\"T_f42074a6_aeff_11ed_b39b_7642ddf5d38crow3_col2\" class=\"data row3 col2\" >0.598866</td>\n",
       "                        <td id=\"T_f42074a6_aeff_11ed_b39b_7642ddf5d38crow3_col3\" class=\"data row3 col3\" >1.000000</td>\n",
       "                        <td id=\"T_f42074a6_aeff_11ed_b39b_7642ddf5d38crow3_col4\" class=\"data row3 col4\" >0.091074</td>\n",
       "                        <td id=\"T_f42074a6_aeff_11ed_b39b_7642ddf5d38crow3_col5\" class=\"data row3 col5\" >0.304066</td>\n",
       "                        <td id=\"T_f42074a6_aeff_11ed_b39b_7642ddf5d38crow3_col6\" class=\"data row3 col6\" >-0.073368</td>\n",
       "                        <td id=\"T_f42074a6_aeff_11ed_b39b_7642ddf5d38crow3_col7\" class=\"data row3 col7\" >0.517263</td>\n",
       "                        <td id=\"T_f42074a6_aeff_11ed_b39b_7642ddf5d38crow3_col8\" class=\"data row3 col8\" >0.154963</td>\n",
       "                        <td id=\"T_f42074a6_aeff_11ed_b39b_7642ddf5d38crow3_col9\" class=\"data row3 col9\" >0.238150</td>\n",
       "                        <td id=\"T_f42074a6_aeff_11ed_b39b_7642ddf5d38crow3_col10\" class=\"data row3 col10\" >0.261701</td>\n",
       "                        <td id=\"T_f42074a6_aeff_11ed_b39b_7642ddf5d38crow3_col11\" class=\"data row3 col11\" >-0.012468</td>\n",
       "                        <td id=\"T_f42074a6_aeff_11ed_b39b_7642ddf5d38crow3_col12\" class=\"data row3 col12\" >-0.164032</td>\n",
       "                        <td id=\"T_f42074a6_aeff_11ed_b39b_7642ddf5d38crow3_col13\" class=\"data row3 col13\" >0.040166</td>\n",
       "                        <td id=\"T_f42074a6_aeff_11ed_b39b_7642ddf5d38crow3_col14\" class=\"data row3 col14\" >-0.065793</td>\n",
       "                        <td id=\"T_f42074a6_aeff_11ed_b39b_7642ddf5d38crow3_col15\" class=\"data row3 col15\" >0.150342</td>\n",
       "                        <td id=\"T_f42074a6_aeff_11ed_b39b_7642ddf5d38crow3_col16\" class=\"data row3 col16\" >0.068298</td>\n",
       "                        <td id=\"T_f42074a6_aeff_11ed_b39b_7642ddf5d38crow3_col17\" class=\"data row3 col17\" >-0.068298</td>\n",
       "                        <td id=\"T_f42074a6_aeff_11ed_b39b_7642ddf5d38crow3_col18\" class=\"data row3 col18\" >-0.121131</td>\n",
       "                        <td id=\"T_f42074a6_aeff_11ed_b39b_7642ddf5d38crow3_col19\" class=\"data row3 col19\" >0.121131</td>\n",
       "                        <td id=\"T_f42074a6_aeff_11ed_b39b_7642ddf5d38crow3_col20\" class=\"data row3 col20\" >-0.174117</td>\n",
       "                        <td id=\"T_f42074a6_aeff_11ed_b39b_7642ddf5d38crow3_col21\" class=\"data row3 col21\" >0.174117</td>\n",
       "                        <td id=\"T_f42074a6_aeff_11ed_b39b_7642ddf5d38crow3_col22\" class=\"data row3 col22\" >0.150342</td>\n",
       "                        <td id=\"T_f42074a6_aeff_11ed_b39b_7642ddf5d38crow3_col23\" class=\"data row3 col23\" >0.040166</td>\n",
       "                        <td id=\"T_f42074a6_aeff_11ed_b39b_7642ddf5d38crow3_col24\" class=\"data row3 col24\" >-0.164032</td>\n",
       "                        <td id=\"T_f42074a6_aeff_11ed_b39b_7642ddf5d38crow3_col25\" class=\"data row3 col25\" >-0.065793</td>\n",
       "            </tr>\n",
       "            <tr>\n",
       "                        <th id=\"T_f42074a6_aeff_11ed_b39b_7642ddf5d38clevel0_row4\" class=\"row_heading level0 row4\" >sqft_lot</th>\n",
       "                        <td id=\"T_f42074a6_aeff_11ed_b39b_7642ddf5d38crow4_col0\" class=\"data row4 col0\" >-0.016961</td>\n",
       "                        <td id=\"T_f42074a6_aeff_11ed_b39b_7642ddf5d38crow4_col1\" class=\"data row4 col1\" >-0.010571</td>\n",
       "                        <td id=\"T_f42074a6_aeff_11ed_b39b_7642ddf5d38crow4_col2\" class=\"data row4 col2\" >-0.040455</td>\n",
       "                        <td id=\"T_f42074a6_aeff_11ed_b39b_7642ddf5d38crow4_col3\" class=\"data row4 col3\" >0.091074</td>\n",
       "                        <td id=\"T_f42074a6_aeff_11ed_b39b_7642ddf5d38crow4_col4\" class=\"data row4 col4\" >1.000000</td>\n",
       "                        <td id=\"T_f42074a6_aeff_11ed_b39b_7642ddf5d38crow4_col5\" class=\"data row4 col5\" >-0.160367</td>\n",
       "                        <td id=\"T_f42074a6_aeff_11ed_b39b_7642ddf5d38crow4_col6\" class=\"data row4 col6\" >0.034927</td>\n",
       "                        <td id=\"T_f42074a6_aeff_11ed_b39b_7642ddf5d38crow4_col7\" class=\"data row4 col7\" >0.023936</td>\n",
       "                        <td id=\"T_f42074a6_aeff_11ed_b39b_7642ddf5d38crow4_col8\" class=\"data row4 col8\" >0.007615</td>\n",
       "                        <td id=\"T_f42074a6_aeff_11ed_b39b_7642ddf5d38crow4_col9\" class=\"data row4 col9\" >0.128391</td>\n",
       "                        <td id=\"T_f42074a6_aeff_11ed_b39b_7642ddf5d38crow4_col10\" class=\"data row4 col10\" >-0.222534</td>\n",
       "                        <td id=\"T_f42074a6_aeff_11ed_b39b_7642ddf5d38crow4_col11\" class=\"data row4 col11\" >-0.001414</td>\n",
       "                        <td id=\"T_f42074a6_aeff_11ed_b39b_7642ddf5d38crow4_col12\" class=\"data row4 col12\" >-0.070582</td>\n",
       "                        <td id=\"T_f42074a6_aeff_11ed_b39b_7642ddf5d38crow4_col13\" class=\"data row4 col13\" >0.003217</td>\n",
       "                        <td id=\"T_f42074a6_aeff_11ed_b39b_7642ddf5d38crow4_col14\" class=\"data row4 col14\" >0.187510</td>\n",
       "                        <td id=\"T_f42074a6_aeff_11ed_b39b_7642ddf5d38crow4_col15\" class=\"data row4 col15\" >-0.099873</td>\n",
       "                        <td id=\"T_f42074a6_aeff_11ed_b39b_7642ddf5d38crow4_col16\" class=\"data row4 col16\" >-0.067381</td>\n",
       "                        <td id=\"T_f42074a6_aeff_11ed_b39b_7642ddf5d38crow4_col17\" class=\"data row4 col17\" >0.067381</td>\n",
       "                        <td id=\"T_f42074a6_aeff_11ed_b39b_7642ddf5d38crow4_col18\" class=\"data row4 col18\" >-0.055854</td>\n",
       "                        <td id=\"T_f42074a6_aeff_11ed_b39b_7642ddf5d38crow4_col19\" class=\"data row4 col19\" >0.055854</td>\n",
       "                        <td id=\"T_f42074a6_aeff_11ed_b39b_7642ddf5d38crow4_col20\" class=\"data row4 col20\" >-0.105241</td>\n",
       "                        <td id=\"T_f42074a6_aeff_11ed_b39b_7642ddf5d38crow4_col21\" class=\"data row4 col21\" >0.105241</td>\n",
       "                        <td id=\"T_f42074a6_aeff_11ed_b39b_7642ddf5d38crow4_col22\" class=\"data row4 col22\" >-0.099873</td>\n",
       "                        <td id=\"T_f42074a6_aeff_11ed_b39b_7642ddf5d38crow4_col23\" class=\"data row4 col23\" >0.003217</td>\n",
       "                        <td id=\"T_f42074a6_aeff_11ed_b39b_7642ddf5d38crow4_col24\" class=\"data row4 col24\" >-0.070582</td>\n",
       "                        <td id=\"T_f42074a6_aeff_11ed_b39b_7642ddf5d38crow4_col25\" class=\"data row4 col25\" >0.187510</td>\n",
       "            </tr>\n",
       "            <tr>\n",
       "                        <th id=\"T_f42074a6_aeff_11ed_b39b_7642ddf5d38clevel0_row5\" class=\"row_heading level0 row5\" >floors</th>\n",
       "                        <td id=\"T_f42074a6_aeff_11ed_b39b_7642ddf5d38crow5_col0\" class=\"data row5 col0\" >0.107017</td>\n",
       "                        <td id=\"T_f42074a6_aeff_11ed_b39b_7642ddf5d38crow5_col1\" class=\"data row5 col1\" >0.058293</td>\n",
       "                        <td id=\"T_f42074a6_aeff_11ed_b39b_7642ddf5d38crow5_col2\" class=\"data row5 col2\" >0.370813</td>\n",
       "                        <td id=\"T_f42074a6_aeff_11ed_b39b_7642ddf5d38crow5_col3\" class=\"data row5 col3\" >0.304066</td>\n",
       "                        <td id=\"T_f42074a6_aeff_11ed_b39b_7642ddf5d38crow5_col4\" class=\"data row5 col4\" >-0.160367</td>\n",
       "                        <td id=\"T_f42074a6_aeff_11ed_b39b_7642ddf5d38crow5_col5\" class=\"data row5 col5\" >1.000000</td>\n",
       "                        <td id=\"T_f42074a6_aeff_11ed_b39b_7642ddf5d38crow5_col6\" class=\"data row5 col6\" >-0.269932</td>\n",
       "                        <td id=\"T_f42074a6_aeff_11ed_b39b_7642ddf5d38crow5_col7\" class=\"data row5 col7\" >0.381782</td>\n",
       "                        <td id=\"T_f42074a6_aeff_11ed_b39b_7642ddf5d38crow5_col8\" class=\"data row5 col8\" >0.151792</td>\n",
       "                        <td id=\"T_f42074a6_aeff_11ed_b39b_7642ddf5d38crow5_col9\" class=\"data row5 col9\" >-0.008315</td>\n",
       "                        <td id=\"T_f42074a6_aeff_11ed_b39b_7642ddf5d38crow5_col10\" class=\"data row5 col10\" >0.687679</td>\n",
       "                        <td id=\"T_f42074a6_aeff_11ed_b39b_7642ddf5d38crow5_col11\" class=\"data row5 col11\" >-0.034952</td>\n",
       "                        <td id=\"T_f42074a6_aeff_11ed_b39b_7642ddf5d38crow5_col12\" class=\"data row5 col12\" >-0.175728</td>\n",
       "                        <td id=\"T_f42074a6_aeff_11ed_b39b_7642ddf5d38crow5_col13\" class=\"data row5 col13\" >-0.235538</td>\n",
       "                        <td id=\"T_f42074a6_aeff_11ed_b39b_7642ddf5d38crow5_col14\" class=\"data row5 col14\" >0.230207</td>\n",
       "                        <td id=\"T_f42074a6_aeff_11ed_b39b_7642ddf5d38crow5_col15\" class=\"data row5 col15\" >0.217695</td>\n",
       "                        <td id=\"T_f42074a6_aeff_11ed_b39b_7642ddf5d38crow5_col16\" class=\"data row5 col16\" >0.088461</td>\n",
       "                        <td id=\"T_f42074a6_aeff_11ed_b39b_7642ddf5d38crow5_col17\" class=\"data row5 col17\" >-0.088461</td>\n",
       "                        <td id=\"T_f42074a6_aeff_11ed_b39b_7642ddf5d38crow5_col18\" class=\"data row5 col18\" >0.020131</td>\n",
       "                        <td id=\"T_f42074a6_aeff_11ed_b39b_7642ddf5d38crow5_col19\" class=\"data row5 col19\" >-0.020131</td>\n",
       "                        <td id=\"T_f42074a6_aeff_11ed_b39b_7642ddf5d38crow5_col20\" class=\"data row5 col20\" >0.435511</td>\n",
       "                        <td id=\"T_f42074a6_aeff_11ed_b39b_7642ddf5d38crow5_col21\" class=\"data row5 col21\" >-0.435511</td>\n",
       "                        <td id=\"T_f42074a6_aeff_11ed_b39b_7642ddf5d38crow5_col22\" class=\"data row5 col22\" >0.217695</td>\n",
       "                        <td id=\"T_f42074a6_aeff_11ed_b39b_7642ddf5d38crow5_col23\" class=\"data row5 col23\" >-0.235538</td>\n",
       "                        <td id=\"T_f42074a6_aeff_11ed_b39b_7642ddf5d38crow5_col24\" class=\"data row5 col24\" >-0.175728</td>\n",
       "                        <td id=\"T_f42074a6_aeff_11ed_b39b_7642ddf5d38crow5_col25\" class=\"data row5 col25\" >0.230207</td>\n",
       "            </tr>\n",
       "            <tr>\n",
       "                        <th id=\"T_f42074a6_aeff_11ed_b39b_7642ddf5d38clevel0_row6\" class=\"row_heading level0 row6\" >condition</th>\n",
       "                        <td id=\"T_f42074a6_aeff_11ed_b39b_7642ddf5d38crow6_col0\" class=\"data row6 col0\" >0.117054</td>\n",
       "                        <td id=\"T_f42074a6_aeff_11ed_b39b_7642ddf5d38crow6_col1\" class=\"data row6 col1\" >0.005030</td>\n",
       "                        <td id=\"T_f42074a6_aeff_11ed_b39b_7642ddf5d38crow6_col2\" class=\"data row6 col2\" >-0.094361</td>\n",
       "                        <td id=\"T_f42074a6_aeff_11ed_b39b_7642ddf5d38crow6_col3\" class=\"data row6 col3\" >-0.073368</td>\n",
       "                        <td id=\"T_f42074a6_aeff_11ed_b39b_7642ddf5d38crow6_col4\" class=\"data row6 col4\" >0.034927</td>\n",
       "                        <td id=\"T_f42074a6_aeff_11ed_b39b_7642ddf5d38crow6_col5\" class=\"data row6 col5\" >-0.269932</td>\n",
       "                        <td id=\"T_f42074a6_aeff_11ed_b39b_7642ddf5d38crow6_col6\" class=\"data row6 col6\" >1.000000</td>\n",
       "                        <td id=\"T_f42074a6_aeff_11ed_b39b_7642ddf5d38crow6_col7\" class=\"data row6 col7\" >-0.122841</td>\n",
       "                        <td id=\"T_f42074a6_aeff_11ed_b39b_7642ddf5d38crow6_col8\" class=\"data row6 col8\" >-0.100922</td>\n",
       "                        <td id=\"T_f42074a6_aeff_11ed_b39b_7642ddf5d38crow6_col9\" class=\"data row6 col9\" >0.071278</td>\n",
       "                        <td id=\"T_f42074a6_aeff_11ed_b39b_7642ddf5d38crow6_col10\" class=\"data row6 col10\" >-0.335150</td>\n",
       "                        <td id=\"T_f42074a6_aeff_11ed_b39b_7642ddf5d38crow6_col11\" class=\"data row6 col11\" >-0.105973</td>\n",
       "                        <td id=\"T_f42074a6_aeff_11ed_b39b_7642ddf5d38crow6_col12\" class=\"data row6 col12\" >0.087353</td>\n",
       "                        <td id=\"T_f42074a6_aeff_11ed_b39b_7642ddf5d38crow6_col13\" class=\"data row6 col13\" >0.009673</td>\n",
       "                        <td id=\"T_f42074a6_aeff_11ed_b39b_7642ddf5d38crow6_col14\" class=\"data row6 col14\" >-0.111106</td>\n",
       "                        <td id=\"T_f42074a6_aeff_11ed_b39b_7642ddf5d38crow6_col15\" class=\"data row6 col15\" >0.007594</td>\n",
       "                        <td id=\"T_f42074a6_aeff_11ed_b39b_7642ddf5d38crow6_col16\" class=\"data row6 col16\" >-0.000911</td>\n",
       "                        <td id=\"T_f42074a6_aeff_11ed_b39b_7642ddf5d38crow6_col17\" class=\"data row6 col17\" >0.000911</td>\n",
       "                        <td id=\"T_f42074a6_aeff_11ed_b39b_7642ddf5d38crow6_col18\" class=\"data row6 col18\" >-0.032169</td>\n",
       "                        <td id=\"T_f42074a6_aeff_11ed_b39b_7642ddf5d38crow6_col19\" class=\"data row6 col19\" >0.032169</td>\n",
       "                        <td id=\"T_f42074a6_aeff_11ed_b39b_7642ddf5d38crow6_col20\" class=\"data row6 col20\" >-0.067897</td>\n",
       "                        <td id=\"T_f42074a6_aeff_11ed_b39b_7642ddf5d38crow6_col21\" class=\"data row6 col21\" >0.067897</td>\n",
       "                        <td id=\"T_f42074a6_aeff_11ed_b39b_7642ddf5d38crow6_col22\" class=\"data row6 col22\" >0.007594</td>\n",
       "                        <td id=\"T_f42074a6_aeff_11ed_b39b_7642ddf5d38crow6_col23\" class=\"data row6 col23\" >0.009673</td>\n",
       "                        <td id=\"T_f42074a6_aeff_11ed_b39b_7642ddf5d38crow6_col24\" class=\"data row6 col24\" >0.087353</td>\n",
       "                        <td id=\"T_f42074a6_aeff_11ed_b39b_7642ddf5d38crow6_col25\" class=\"data row6 col25\" >-0.111106</td>\n",
       "            </tr>\n",
       "            <tr>\n",
       "                        <th id=\"T_f42074a6_aeff_11ed_b39b_7642ddf5d38clevel0_row7\" class=\"row_heading level0 row7\" >grade</th>\n",
       "                        <td id=\"T_f42074a6_aeff_11ed_b39b_7642ddf5d38crow7_col0\" class=\"data row7 col0\" >0.232673</td>\n",
       "                        <td id=\"T_f42074a6_aeff_11ed_b39b_7642ddf5d38crow7_col1\" class=\"data row7 col1\" >0.102298</td>\n",
       "                        <td id=\"T_f42074a6_aeff_11ed_b39b_7642ddf5d38crow7_col2\" class=\"data row7 col2\" >0.344345</td>\n",
       "                        <td id=\"T_f42074a6_aeff_11ed_b39b_7642ddf5d38crow7_col3\" class=\"data row7 col3\" >0.517263</td>\n",
       "                        <td id=\"T_f42074a6_aeff_11ed_b39b_7642ddf5d38crow7_col4\" class=\"data row7 col4\" >0.023936</td>\n",
       "                        <td id=\"T_f42074a6_aeff_11ed_b39b_7642ddf5d38crow7_col5\" class=\"data row7 col5\" >0.381782</td>\n",
       "                        <td id=\"T_f42074a6_aeff_11ed_b39b_7642ddf5d38crow7_col6\" class=\"data row7 col6\" >-0.122841</td>\n",
       "                        <td id=\"T_f42074a6_aeff_11ed_b39b_7642ddf5d38crow7_col7\" class=\"data row7 col7\" >1.000000</td>\n",
       "                        <td id=\"T_f42074a6_aeff_11ed_b39b_7642ddf5d38crow7_col8\" class=\"data row7 col8\" >0.296070</td>\n",
       "                        <td id=\"T_f42074a6_aeff_11ed_b39b_7642ddf5d38crow7_col9\" class=\"data row7 col9\" >0.149456</td>\n",
       "                        <td id=\"T_f42074a6_aeff_11ed_b39b_7642ddf5d38crow7_col10\" class=\"data row7 col10\" >0.346856</td>\n",
       "                        <td id=\"T_f42074a6_aeff_11ed_b39b_7642ddf5d38crow7_col11\" class=\"data row7 col11\" >-0.010506</td>\n",
       "                        <td id=\"T_f42074a6_aeff_11ed_b39b_7642ddf5d38crow7_col12\" class=\"data row7 col12\" >-0.063247</td>\n",
       "                        <td id=\"T_f42074a6_aeff_11ed_b39b_7642ddf5d38crow7_col13\" class=\"data row7 col13\" >-0.098989</td>\n",
       "                        <td id=\"T_f42074a6_aeff_11ed_b39b_7642ddf5d38crow7_col14\" class=\"data row7 col14\" >0.105216</td>\n",
       "                        <td id=\"T_f42074a6_aeff_11ed_b39b_7642ddf5d38crow7_col15\" class=\"data row7 col15\" >0.075386</td>\n",
       "                        <td id=\"T_f42074a6_aeff_11ed_b39b_7642ddf5d38crow7_col16\" class=\"data row7 col16\" >0.035228</td>\n",
       "                        <td id=\"T_f42074a6_aeff_11ed_b39b_7642ddf5d38crow7_col17\" class=\"data row7 col17\" >-0.035228</td>\n",
       "                        <td id=\"T_f42074a6_aeff_11ed_b39b_7642ddf5d38crow7_col18\" class=\"data row7 col18\" >-0.123880</td>\n",
       "                        <td id=\"T_f42074a6_aeff_11ed_b39b_7642ddf5d38crow7_col19\" class=\"data row7 col19\" >0.123880</td>\n",
       "                        <td id=\"T_f42074a6_aeff_11ed_b39b_7642ddf5d38crow7_col20\" class=\"data row7 col20\" >0.108882</td>\n",
       "                        <td id=\"T_f42074a6_aeff_11ed_b39b_7642ddf5d38crow7_col21\" class=\"data row7 col21\" >-0.108882</td>\n",
       "                        <td id=\"T_f42074a6_aeff_11ed_b39b_7642ddf5d38crow7_col22\" class=\"data row7 col22\" >0.075386</td>\n",
       "                        <td id=\"T_f42074a6_aeff_11ed_b39b_7642ddf5d38crow7_col23\" class=\"data row7 col23\" >-0.098989</td>\n",
       "                        <td id=\"T_f42074a6_aeff_11ed_b39b_7642ddf5d38crow7_col24\" class=\"data row7 col24\" >-0.063247</td>\n",
       "                        <td id=\"T_f42074a6_aeff_11ed_b39b_7642ddf5d38crow7_col25\" class=\"data row7 col25\" >0.105216</td>\n",
       "            </tr>\n",
       "            <tr>\n",
       "                        <th id=\"T_f42074a6_aeff_11ed_b39b_7642ddf5d38clevel0_row8\" class=\"row_heading level0 row8\" >sqft_garage</th>\n",
       "                        <td id=\"T_f42074a6_aeff_11ed_b39b_7642ddf5d38crow8_col0\" class=\"data row8 col0\" >0.113183</td>\n",
       "                        <td id=\"T_f42074a6_aeff_11ed_b39b_7642ddf5d38crow8_col1\" class=\"data row8 col1\" >-0.042038</td>\n",
       "                        <td id=\"T_f42074a6_aeff_11ed_b39b_7642ddf5d38crow8_col2\" class=\"data row8 col2\" >0.175690</td>\n",
       "                        <td id=\"T_f42074a6_aeff_11ed_b39b_7642ddf5d38crow8_col3\" class=\"data row8 col3\" >0.154963</td>\n",
       "                        <td id=\"T_f42074a6_aeff_11ed_b39b_7642ddf5d38crow8_col4\" class=\"data row8 col4\" >0.007615</td>\n",
       "                        <td id=\"T_f42074a6_aeff_11ed_b39b_7642ddf5d38crow8_col5\" class=\"data row8 col5\" >0.151792</td>\n",
       "                        <td id=\"T_f42074a6_aeff_11ed_b39b_7642ddf5d38crow8_col6\" class=\"data row8 col6\" >-0.100922</td>\n",
       "                        <td id=\"T_f42074a6_aeff_11ed_b39b_7642ddf5d38crow8_col7\" class=\"data row8 col7\" >0.296070</td>\n",
       "                        <td id=\"T_f42074a6_aeff_11ed_b39b_7642ddf5d38crow8_col8\" class=\"data row8 col8\" >1.000000</td>\n",
       "                        <td id=\"T_f42074a6_aeff_11ed_b39b_7642ddf5d38crow8_col9\" class=\"data row8 col9\" >0.061203</td>\n",
       "                        <td id=\"T_f42074a6_aeff_11ed_b39b_7642ddf5d38crow8_col10\" class=\"data row8 col10\" >0.323528</td>\n",
       "                        <td id=\"T_f42074a6_aeff_11ed_b39b_7642ddf5d38crow8_col11\" class=\"data row8 col11\" >-0.034277</td>\n",
       "                        <td id=\"T_f42074a6_aeff_11ed_b39b_7642ddf5d38crow8_col12\" class=\"data row8 col12\" >-0.033437</td>\n",
       "                        <td id=\"T_f42074a6_aeff_11ed_b39b_7642ddf5d38crow8_col13\" class=\"data row8 col13\" >-0.113462</td>\n",
       "                        <td id=\"T_f42074a6_aeff_11ed_b39b_7642ddf5d38crow8_col14\" class=\"data row8 col14\" >0.050601</td>\n",
       "                        <td id=\"T_f42074a6_aeff_11ed_b39b_7642ddf5d38crow8_col15\" class=\"data row8 col15\" >0.111536</td>\n",
       "                        <td id=\"T_f42074a6_aeff_11ed_b39b_7642ddf5d38crow8_col16\" class=\"data row8 col16\" >0.168155</td>\n",
       "                        <td id=\"T_f42074a6_aeff_11ed_b39b_7642ddf5d38crow8_col17\" class=\"data row8 col17\" >-0.168155</td>\n",
       "                        <td id=\"T_f42074a6_aeff_11ed_b39b_7642ddf5d38crow8_col18\" class=\"data row8 col18\" >0.025175</td>\n",
       "                        <td id=\"T_f42074a6_aeff_11ed_b39b_7642ddf5d38crow8_col19\" class=\"data row8 col19\" >-0.025175</td>\n",
       "                        <td id=\"T_f42074a6_aeff_11ed_b39b_7642ddf5d38crow8_col20\" class=\"data row8 col20\" >0.017567</td>\n",
       "                        <td id=\"T_f42074a6_aeff_11ed_b39b_7642ddf5d38crow8_col21\" class=\"data row8 col21\" >-0.017567</td>\n",
       "                        <td id=\"T_f42074a6_aeff_11ed_b39b_7642ddf5d38crow8_col22\" class=\"data row8 col22\" >0.111536</td>\n",
       "                        <td id=\"T_f42074a6_aeff_11ed_b39b_7642ddf5d38crow8_col23\" class=\"data row8 col23\" >-0.113462</td>\n",
       "                        <td id=\"T_f42074a6_aeff_11ed_b39b_7642ddf5d38crow8_col24\" class=\"data row8 col24\" >-0.033437</td>\n",
       "                        <td id=\"T_f42074a6_aeff_11ed_b39b_7642ddf5d38crow8_col25\" class=\"data row8 col25\" >0.050601</td>\n",
       "            </tr>\n",
       "            <tr>\n",
       "                        <th id=\"T_f42074a6_aeff_11ed_b39b_7642ddf5d38clevel0_row9\" class=\"row_heading level0 row9\" >sqft_patio</th>\n",
       "                        <td id=\"T_f42074a6_aeff_11ed_b39b_7642ddf5d38crow9_col0\" class=\"data row9 col0\" >0.082960</td>\n",
       "                        <td id=\"T_f42074a6_aeff_11ed_b39b_7642ddf5d38crow9_col1\" class=\"data row9 col1\" >0.036160</td>\n",
       "                        <td id=\"T_f42074a6_aeff_11ed_b39b_7642ddf5d38crow9_col2\" class=\"data row9 col2\" >0.153109</td>\n",
       "                        <td id=\"T_f42074a6_aeff_11ed_b39b_7642ddf5d38crow9_col3\" class=\"data row9 col3\" >0.238150</td>\n",
       "                        <td id=\"T_f42074a6_aeff_11ed_b39b_7642ddf5d38crow9_col4\" class=\"data row9 col4\" >0.128391</td>\n",
       "                        <td id=\"T_f42074a6_aeff_11ed_b39b_7642ddf5d38crow9_col5\" class=\"data row9 col5\" >-0.008315</td>\n",
       "                        <td id=\"T_f42074a6_aeff_11ed_b39b_7642ddf5d38crow9_col6\" class=\"data row9 col6\" >0.071278</td>\n",
       "                        <td id=\"T_f42074a6_aeff_11ed_b39b_7642ddf5d38crow9_col7\" class=\"data row9 col7\" >0.149456</td>\n",
       "                        <td id=\"T_f42074a6_aeff_11ed_b39b_7642ddf5d38crow9_col8\" class=\"data row9 col8\" >0.061203</td>\n",
       "                        <td id=\"T_f42074a6_aeff_11ed_b39b_7642ddf5d38crow9_col9\" class=\"data row9 col9\" >1.000000</td>\n",
       "                        <td id=\"T_f42074a6_aeff_11ed_b39b_7642ddf5d38crow9_col10\" class=\"data row9 col10\" >-0.054763</td>\n",
       "                        <td id=\"T_f42074a6_aeff_11ed_b39b_7642ddf5d38crow9_col11\" class=\"data row9 col11\" >0.064843</td>\n",
       "                        <td id=\"T_f42074a6_aeff_11ed_b39b_7642ddf5d38crow9_col12\" class=\"data row9 col12\" >-0.022748</td>\n",
       "                        <td id=\"T_f42074a6_aeff_11ed_b39b_7642ddf5d38crow9_col13\" class=\"data row9 col13\" >0.016513</td>\n",
       "                        <td id=\"T_f42074a6_aeff_11ed_b39b_7642ddf5d38crow9_col14\" class=\"data row9 col14\" >0.051750</td>\n",
       "                        <td id=\"T_f42074a6_aeff_11ed_b39b_7642ddf5d38crow9_col15\" class=\"data row9 col15\" >-0.042028</td>\n",
       "                        <td id=\"T_f42074a6_aeff_11ed_b39b_7642ddf5d38crow9_col16\" class=\"data row9 col16\" >0.047920</td>\n",
       "                        <td id=\"T_f42074a6_aeff_11ed_b39b_7642ddf5d38crow9_col17\" class=\"data row9 col17\" >-0.047920</td>\n",
       "                        <td id=\"T_f42074a6_aeff_11ed_b39b_7642ddf5d38crow9_col18\" class=\"data row9 col18\" >-0.180109</td>\n",
       "                        <td id=\"T_f42074a6_aeff_11ed_b39b_7642ddf5d38crow9_col19\" class=\"data row9 col19\" >0.180109</td>\n",
       "                        <td id=\"T_f42074a6_aeff_11ed_b39b_7642ddf5d38crow9_col20\" class=\"data row9 col20\" >-0.166800</td>\n",
       "                        <td id=\"T_f42074a6_aeff_11ed_b39b_7642ddf5d38crow9_col21\" class=\"data row9 col21\" >0.166800</td>\n",
       "                        <td id=\"T_f42074a6_aeff_11ed_b39b_7642ddf5d38crow9_col22\" class=\"data row9 col22\" >-0.042028</td>\n",
       "                        <td id=\"T_f42074a6_aeff_11ed_b39b_7642ddf5d38crow9_col23\" class=\"data row9 col23\" >0.016513</td>\n",
       "                        <td id=\"T_f42074a6_aeff_11ed_b39b_7642ddf5d38crow9_col24\" class=\"data row9 col24\" >-0.022748</td>\n",
       "                        <td id=\"T_f42074a6_aeff_11ed_b39b_7642ddf5d38crow9_col25\" class=\"data row9 col25\" >0.051750</td>\n",
       "            </tr>\n",
       "            <tr>\n",
       "                        <th id=\"T_f42074a6_aeff_11ed_b39b_7642ddf5d38clevel0_row10\" class=\"row_heading level0 row10\" >yr_built</th>\n",
       "                        <td id=\"T_f42074a6_aeff_11ed_b39b_7642ddf5d38crow10_col0\" class=\"data row10 col0\" >0.056117</td>\n",
       "                        <td id=\"T_f42074a6_aeff_11ed_b39b_7642ddf5d38crow10_col1\" class=\"data row10 col1\" >0.023521</td>\n",
       "                        <td id=\"T_f42074a6_aeff_11ed_b39b_7642ddf5d38crow10_col2\" class=\"data row10 col2\" >0.409054</td>\n",
       "                        <td id=\"T_f42074a6_aeff_11ed_b39b_7642ddf5d38crow10_col3\" class=\"data row10 col3\" >0.261701</td>\n",
       "                        <td id=\"T_f42074a6_aeff_11ed_b39b_7642ddf5d38crow10_col4\" class=\"data row10 col4\" >-0.222534</td>\n",
       "                        <td id=\"T_f42074a6_aeff_11ed_b39b_7642ddf5d38crow10_col5\" class=\"data row10 col5\" >0.687679</td>\n",
       "                        <td id=\"T_f42074a6_aeff_11ed_b39b_7642ddf5d38crow10_col6\" class=\"data row10 col6\" >-0.335150</td>\n",
       "                        <td id=\"T_f42074a6_aeff_11ed_b39b_7642ddf5d38crow10_col7\" class=\"data row10 col7\" >0.346856</td>\n",
       "                        <td id=\"T_f42074a6_aeff_11ed_b39b_7642ddf5d38crow10_col8\" class=\"data row10 col8\" >0.323528</td>\n",
       "                        <td id=\"T_f42074a6_aeff_11ed_b39b_7642ddf5d38crow10_col9\" class=\"data row10 col9\" >-0.054763</td>\n",
       "                        <td id=\"T_f42074a6_aeff_11ed_b39b_7642ddf5d38crow10_col10\" class=\"data row10 col10\" >1.000000</td>\n",
       "                        <td id=\"T_f42074a6_aeff_11ed_b39b_7642ddf5d38crow10_col11\" class=\"data row10 col11\" >-0.176185</td>\n",
       "                        <td id=\"T_f42074a6_aeff_11ed_b39b_7642ddf5d38crow10_col12\" class=\"data row10 col12\" >-0.242283</td>\n",
       "                        <td id=\"T_f42074a6_aeff_11ed_b39b_7642ddf5d38crow10_col13\" class=\"data row10 col13\" >-0.226636</td>\n",
       "                        <td id=\"T_f42074a6_aeff_11ed_b39b_7642ddf5d38crow10_col14\" class=\"data row10 col14\" >0.249377</td>\n",
       "                        <td id=\"T_f42074a6_aeff_11ed_b39b_7642ddf5d38crow10_col15\" class=\"data row10 col15\" >0.248587</td>\n",
       "                        <td id=\"T_f42074a6_aeff_11ed_b39b_7642ddf5d38crow10_col16\" class=\"data row10 col16\" >0.163701</td>\n",
       "                        <td id=\"T_f42074a6_aeff_11ed_b39b_7642ddf5d38crow10_col17\" class=\"data row10 col17\" >-0.163701</td>\n",
       "                        <td id=\"T_f42074a6_aeff_11ed_b39b_7642ddf5d38crow10_col18\" class=\"data row10 col18\" >0.071399</td>\n",
       "                        <td id=\"T_f42074a6_aeff_11ed_b39b_7642ddf5d38crow10_col19\" class=\"data row10 col19\" >-0.071399</td>\n",
       "                        <td id=\"T_f42074a6_aeff_11ed_b39b_7642ddf5d38crow10_col20\" class=\"data row10 col20\" >0.228944</td>\n",
       "                        <td id=\"T_f42074a6_aeff_11ed_b39b_7642ddf5d38crow10_col21\" class=\"data row10 col21\" >-0.228944</td>\n",
       "                        <td id=\"T_f42074a6_aeff_11ed_b39b_7642ddf5d38crow10_col22\" class=\"data row10 col22\" >0.248587</td>\n",
       "                        <td id=\"T_f42074a6_aeff_11ed_b39b_7642ddf5d38crow10_col23\" class=\"data row10 col23\" >-0.226636</td>\n",
       "                        <td id=\"T_f42074a6_aeff_11ed_b39b_7642ddf5d38crow10_col24\" class=\"data row10 col24\" >-0.242283</td>\n",
       "                        <td id=\"T_f42074a6_aeff_11ed_b39b_7642ddf5d38crow10_col25\" class=\"data row10 col25\" >0.249377</td>\n",
       "            </tr>\n",
       "            <tr>\n",
       "                        <th id=\"T_f42074a6_aeff_11ed_b39b_7642ddf5d38clevel0_row11\" class=\"row_heading level0 row11\" >yr_renovated</th>\n",
       "                        <td id=\"T_f42074a6_aeff_11ed_b39b_7642ddf5d38crow11_col0\" class=\"data row11 col0\" >-0.016327</td>\n",
       "                        <td id=\"T_f42074a6_aeff_11ed_b39b_7642ddf5d38crow11_col1\" class=\"data row11 col1\" >0.015717</td>\n",
       "                        <td id=\"T_f42074a6_aeff_11ed_b39b_7642ddf5d38crow11_col2\" class=\"data row11 col2\" >0.025771</td>\n",
       "                        <td id=\"T_f42074a6_aeff_11ed_b39b_7642ddf5d38crow11_col3\" class=\"data row11 col3\" >-0.012468</td>\n",
       "                        <td id=\"T_f42074a6_aeff_11ed_b39b_7642ddf5d38crow11_col4\" class=\"data row11 col4\" >-0.001414</td>\n",
       "                        <td id=\"T_f42074a6_aeff_11ed_b39b_7642ddf5d38crow11_col5\" class=\"data row11 col5\" >-0.034952</td>\n",
       "                        <td id=\"T_f42074a6_aeff_11ed_b39b_7642ddf5d38crow11_col6\" class=\"data row11 col6\" >-0.105973</td>\n",
       "                        <td id=\"T_f42074a6_aeff_11ed_b39b_7642ddf5d38crow11_col7\" class=\"data row11 col7\" >-0.010506</td>\n",
       "                        <td id=\"T_f42074a6_aeff_11ed_b39b_7642ddf5d38crow11_col8\" class=\"data row11 col8\" >-0.034277</td>\n",
       "                        <td id=\"T_f42074a6_aeff_11ed_b39b_7642ddf5d38crow11_col9\" class=\"data row11 col9\" >0.064843</td>\n",
       "                        <td id=\"T_f42074a6_aeff_11ed_b39b_7642ddf5d38crow11_col10\" class=\"data row11 col10\" >-0.176185</td>\n",
       "                        <td id=\"T_f42074a6_aeff_11ed_b39b_7642ddf5d38crow11_col11\" class=\"data row11 col11\" >1.000000</td>\n",
       "                        <td id=\"T_f42074a6_aeff_11ed_b39b_7642ddf5d38crow11_col12\" class=\"data row11 col12\" >0.012711</td>\n",
       "                        <td id=\"T_f42074a6_aeff_11ed_b39b_7642ddf5d38crow11_col13\" class=\"data row11 col13\" >0.014279</td>\n",
       "                        <td id=\"T_f42074a6_aeff_11ed_b39b_7642ddf5d38crow11_col14\" class=\"data row11 col14\" >-0.037912</td>\n",
       "                        <td id=\"T_f42074a6_aeff_11ed_b39b_7642ddf5d38crow11_col15\" class=\"data row11 col15\" >0.005039</td>\n",
       "                        <td id=\"T_f42074a6_aeff_11ed_b39b_7642ddf5d38crow11_col16\" class=\"data row11 col16\" >-0.065108</td>\n",
       "                        <td id=\"T_f42074a6_aeff_11ed_b39b_7642ddf5d38crow11_col17\" class=\"data row11 col17\" >0.065108</td>\n",
       "                        <td id=\"T_f42074a6_aeff_11ed_b39b_7642ddf5d38crow11_col18\" class=\"data row11 col18\" >-0.040801</td>\n",
       "                        <td id=\"T_f42074a6_aeff_11ed_b39b_7642ddf5d38crow11_col19\" class=\"data row11 col19\" >0.040801</td>\n",
       "                        <td id=\"T_f42074a6_aeff_11ed_b39b_7642ddf5d38crow11_col20\" class=\"data row11 col20\" >0.030571</td>\n",
       "                        <td id=\"T_f42074a6_aeff_11ed_b39b_7642ddf5d38crow11_col21\" class=\"data row11 col21\" >-0.030571</td>\n",
       "                        <td id=\"T_f42074a6_aeff_11ed_b39b_7642ddf5d38crow11_col22\" class=\"data row11 col22\" >0.005039</td>\n",
       "                        <td id=\"T_f42074a6_aeff_11ed_b39b_7642ddf5d38crow11_col23\" class=\"data row11 col23\" >0.014279</td>\n",
       "                        <td id=\"T_f42074a6_aeff_11ed_b39b_7642ddf5d38crow11_col24\" class=\"data row11 col24\" >0.012711</td>\n",
       "                        <td id=\"T_f42074a6_aeff_11ed_b39b_7642ddf5d38crow11_col25\" class=\"data row11 col25\" >-0.037912</td>\n",
       "            </tr>\n",
       "            <tr>\n",
       "                        <th id=\"T_f42074a6_aeff_11ed_b39b_7642ddf5d38clevel0_row12\" class=\"row_heading level0 row12\" >Redmond</th>\n",
       "                        <td id=\"T_f42074a6_aeff_11ed_b39b_7642ddf5d38crow12_col0\" class=\"data row12 col0\" >0.156438</td>\n",
       "                        <td id=\"T_f42074a6_aeff_11ed_b39b_7642ddf5d38crow12_col1\" class=\"data row12 col1\" >-0.051326</td>\n",
       "                        <td id=\"T_f42074a6_aeff_11ed_b39b_7642ddf5d38crow12_col2\" class=\"data row12 col2\" >-0.182420</td>\n",
       "                        <td id=\"T_f42074a6_aeff_11ed_b39b_7642ddf5d38crow12_col3\" class=\"data row12 col3\" >-0.164032</td>\n",
       "                        <td id=\"T_f42074a6_aeff_11ed_b39b_7642ddf5d38crow12_col4\" class=\"data row12 col4\" >-0.070582</td>\n",
       "                        <td id=\"T_f42074a6_aeff_11ed_b39b_7642ddf5d38crow12_col5\" class=\"data row12 col5\" >-0.175728</td>\n",
       "                        <td id=\"T_f42074a6_aeff_11ed_b39b_7642ddf5d38crow12_col6\" class=\"data row12 col6\" >0.087353</td>\n",
       "                        <td id=\"T_f42074a6_aeff_11ed_b39b_7642ddf5d38crow12_col7\" class=\"data row12 col7\" >-0.063247</td>\n",
       "                        <td id=\"T_f42074a6_aeff_11ed_b39b_7642ddf5d38crow12_col8\" class=\"data row12 col8\" >-0.033437</td>\n",
       "                        <td id=\"T_f42074a6_aeff_11ed_b39b_7642ddf5d38crow12_col9\" class=\"data row12 col9\" >-0.022748</td>\n",
       "                        <td id=\"T_f42074a6_aeff_11ed_b39b_7642ddf5d38crow12_col10\" class=\"data row12 col10\" >-0.242283</td>\n",
       "                        <td id=\"T_f42074a6_aeff_11ed_b39b_7642ddf5d38crow12_col11\" class=\"data row12 col11\" >0.012711</td>\n",
       "                        <td id=\"T_f42074a6_aeff_11ed_b39b_7642ddf5d38crow12_col12\" class=\"data row12 col12\" >1.000000</td>\n",
       "                        <td id=\"T_f42074a6_aeff_11ed_b39b_7642ddf5d38crow12_col13\" class=\"data row12 col13\" >-0.369475</td>\n",
       "                        <td id=\"T_f42074a6_aeff_11ed_b39b_7642ddf5d38crow12_col14\" class=\"data row12 col14\" >-0.201525</td>\n",
       "                        <td id=\"T_f42074a6_aeff_11ed_b39b_7642ddf5d38crow12_col15\" class=\"data row12 col15\" >-0.276107</td>\n",
       "                        <td id=\"T_f42074a6_aeff_11ed_b39b_7642ddf5d38crow12_col16\" class=\"data row12 col16\" >-0.128381</td>\n",
       "                        <td id=\"T_f42074a6_aeff_11ed_b39b_7642ddf5d38crow12_col17\" class=\"data row12 col17\" >0.128381</td>\n",
       "                        <td id=\"T_f42074a6_aeff_11ed_b39b_7642ddf5d38crow12_col18\" class=\"data row12 col18\" >0.023915</td>\n",
       "                        <td id=\"T_f42074a6_aeff_11ed_b39b_7642ddf5d38crow12_col19\" class=\"data row12 col19\" >-0.023915</td>\n",
       "                        <td id=\"T_f42074a6_aeff_11ed_b39b_7642ddf5d38crow12_col20\" class=\"data row12 col20\" >0.042612</td>\n",
       "                        <td id=\"T_f42074a6_aeff_11ed_b39b_7642ddf5d38crow12_col21\" class=\"data row12 col21\" >-0.042612</td>\n",
       "                        <td id=\"T_f42074a6_aeff_11ed_b39b_7642ddf5d38crow12_col22\" class=\"data row12 col22\" >-0.276107</td>\n",
       "                        <td id=\"T_f42074a6_aeff_11ed_b39b_7642ddf5d38crow12_col23\" class=\"data row12 col23\" >-0.369475</td>\n",
       "                        <td id=\"T_f42074a6_aeff_11ed_b39b_7642ddf5d38crow12_col24\" class=\"data row12 col24\" >1.000000</td>\n",
       "                        <td id=\"T_f42074a6_aeff_11ed_b39b_7642ddf5d38crow12_col25\" class=\"data row12 col25\" >-0.201525</td>\n",
       "            </tr>\n",
       "            <tr>\n",
       "                        <th id=\"T_f42074a6_aeff_11ed_b39b_7642ddf5d38clevel0_row13\" class=\"row_heading level0 row13\" >North KC</th>\n",
       "                        <td id=\"T_f42074a6_aeff_11ed_b39b_7642ddf5d38crow13_col0\" class=\"data row13 col0\" >-0.082635</td>\n",
       "                        <td id=\"T_f42074a6_aeff_11ed_b39b_7642ddf5d38crow13_col1\" class=\"data row13 col1\" >0.055284</td>\n",
       "                        <td id=\"T_f42074a6_aeff_11ed_b39b_7642ddf5d38crow13_col2\" class=\"data row13 col2\" >0.017070</td>\n",
       "                        <td id=\"T_f42074a6_aeff_11ed_b39b_7642ddf5d38crow13_col3\" class=\"data row13 col3\" >0.040166</td>\n",
       "                        <td id=\"T_f42074a6_aeff_11ed_b39b_7642ddf5d38crow13_col4\" class=\"data row13 col4\" >0.003217</td>\n",
       "                        <td id=\"T_f42074a6_aeff_11ed_b39b_7642ddf5d38crow13_col5\" class=\"data row13 col5\" >-0.235538</td>\n",
       "                        <td id=\"T_f42074a6_aeff_11ed_b39b_7642ddf5d38crow13_col6\" class=\"data row13 col6\" >0.009673</td>\n",
       "                        <td id=\"T_f42074a6_aeff_11ed_b39b_7642ddf5d38crow13_col7\" class=\"data row13 col7\" >-0.098989</td>\n",
       "                        <td id=\"T_f42074a6_aeff_11ed_b39b_7642ddf5d38crow13_col8\" class=\"data row13 col8\" >-0.113462</td>\n",
       "                        <td id=\"T_f42074a6_aeff_11ed_b39b_7642ddf5d38crow13_col9\" class=\"data row13 col9\" >0.016513</td>\n",
       "                        <td id=\"T_f42074a6_aeff_11ed_b39b_7642ddf5d38crow13_col10\" class=\"data row13 col10\" >-0.226636</td>\n",
       "                        <td id=\"T_f42074a6_aeff_11ed_b39b_7642ddf5d38crow13_col11\" class=\"data row13 col11\" >0.014279</td>\n",
       "                        <td id=\"T_f42074a6_aeff_11ed_b39b_7642ddf5d38crow13_col12\" class=\"data row13 col12\" >-0.369475</td>\n",
       "                        <td id=\"T_f42074a6_aeff_11ed_b39b_7642ddf5d38crow13_col13\" class=\"data row13 col13\" >1.000000</td>\n",
       "                        <td id=\"T_f42074a6_aeff_11ed_b39b_7642ddf5d38crow13_col14\" class=\"data row13 col14\" >-0.357973</td>\n",
       "                        <td id=\"T_f42074a6_aeff_11ed_b39b_7642ddf5d38crow13_col15\" class=\"data row13 col15\" >-0.490456</td>\n",
       "                        <td id=\"T_f42074a6_aeff_11ed_b39b_7642ddf5d38crow13_col16\" class=\"data row13 col16\" >0.044328</td>\n",
       "                        <td id=\"T_f42074a6_aeff_11ed_b39b_7642ddf5d38crow13_col17\" class=\"data row13 col17\" >-0.044328</td>\n",
       "                        <td id=\"T_f42074a6_aeff_11ed_b39b_7642ddf5d38crow13_col18\" class=\"data row13 col18\" >-0.113940</td>\n",
       "                        <td id=\"T_f42074a6_aeff_11ed_b39b_7642ddf5d38crow13_col19\" class=\"data row13 col19\" >0.113940</td>\n",
       "                        <td id=\"T_f42074a6_aeff_11ed_b39b_7642ddf5d38crow13_col20\" class=\"data row13 col20\" >-0.232822</td>\n",
       "                        <td id=\"T_f42074a6_aeff_11ed_b39b_7642ddf5d38crow13_col21\" class=\"data row13 col21\" >0.232822</td>\n",
       "                        <td id=\"T_f42074a6_aeff_11ed_b39b_7642ddf5d38crow13_col22\" class=\"data row13 col22\" >-0.490456</td>\n",
       "                        <td id=\"T_f42074a6_aeff_11ed_b39b_7642ddf5d38crow13_col23\" class=\"data row13 col23\" >1.000000</td>\n",
       "                        <td id=\"T_f42074a6_aeff_11ed_b39b_7642ddf5d38crow13_col24\" class=\"data row13 col24\" >-0.369475</td>\n",
       "                        <td id=\"T_f42074a6_aeff_11ed_b39b_7642ddf5d38crow13_col25\" class=\"data row13 col25\" >-0.357973</td>\n",
       "            </tr>\n",
       "            <tr>\n",
       "                        <th id=\"T_f42074a6_aeff_11ed_b39b_7642ddf5d38clevel0_row14\" class=\"row_heading level0 row14\" >Sammamish</th>\n",
       "                        <td id=\"T_f42074a6_aeff_11ed_b39b_7642ddf5d38crow14_col0\" class=\"data row14 col0\" >0.067960</td>\n",
       "                        <td id=\"T_f42074a6_aeff_11ed_b39b_7642ddf5d38crow14_col1\" class=\"data row14 col1\" >-0.140471</td>\n",
       "                        <td id=\"T_f42074a6_aeff_11ed_b39b_7642ddf5d38crow14_col2\" class=\"data row14 col2\" >0.054514</td>\n",
       "                        <td id=\"T_f42074a6_aeff_11ed_b39b_7642ddf5d38crow14_col3\" class=\"data row14 col3\" >-0.065793</td>\n",
       "                        <td id=\"T_f42074a6_aeff_11ed_b39b_7642ddf5d38crow14_col4\" class=\"data row14 col4\" >0.187510</td>\n",
       "                        <td id=\"T_f42074a6_aeff_11ed_b39b_7642ddf5d38crow14_col5\" class=\"data row14 col5\" >0.230207</td>\n",
       "                        <td id=\"T_f42074a6_aeff_11ed_b39b_7642ddf5d38crow14_col6\" class=\"data row14 col6\" >-0.111106</td>\n",
       "                        <td id=\"T_f42074a6_aeff_11ed_b39b_7642ddf5d38crow14_col7\" class=\"data row14 col7\" >0.105216</td>\n",
       "                        <td id=\"T_f42074a6_aeff_11ed_b39b_7642ddf5d38crow14_col8\" class=\"data row14 col8\" >0.050601</td>\n",
       "                        <td id=\"T_f42074a6_aeff_11ed_b39b_7642ddf5d38crow14_col9\" class=\"data row14 col9\" >0.051750</td>\n",
       "                        <td id=\"T_f42074a6_aeff_11ed_b39b_7642ddf5d38crow14_col10\" class=\"data row14 col10\" >0.249377</td>\n",
       "                        <td id=\"T_f42074a6_aeff_11ed_b39b_7642ddf5d38crow14_col11\" class=\"data row14 col11\" >-0.037912</td>\n",
       "                        <td id=\"T_f42074a6_aeff_11ed_b39b_7642ddf5d38crow14_col12\" class=\"data row14 col12\" >-0.201525</td>\n",
       "                        <td id=\"T_f42074a6_aeff_11ed_b39b_7642ddf5d38crow14_col13\" class=\"data row14 col13\" >-0.357973</td>\n",
       "                        <td id=\"T_f42074a6_aeff_11ed_b39b_7642ddf5d38crow14_col14\" class=\"data row14 col14\" >1.000000</td>\n",
       "                        <td id=\"T_f42074a6_aeff_11ed_b39b_7642ddf5d38crow14_col15\" class=\"data row14 col15\" >-0.267512</td>\n",
       "                        <td id=\"T_f42074a6_aeff_11ed_b39b_7642ddf5d38crow14_col16\" class=\"data row14 col16\" >0.079796</td>\n",
       "                        <td id=\"T_f42074a6_aeff_11ed_b39b_7642ddf5d38crow14_col17\" class=\"data row14 col17\" >-0.079796</td>\n",
       "                        <td id=\"T_f42074a6_aeff_11ed_b39b_7642ddf5d38crow14_col18\" class=\"data row14 col18\" >0.019852</td>\n",
       "                        <td id=\"T_f42074a6_aeff_11ed_b39b_7642ddf5d38crow14_col19\" class=\"data row14 col19\" >-0.019852</td>\n",
       "                        <td id=\"T_f42074a6_aeff_11ed_b39b_7642ddf5d38crow14_col20\" class=\"data row14 col20\" >0.075906</td>\n",
       "                        <td id=\"T_f42074a6_aeff_11ed_b39b_7642ddf5d38crow14_col21\" class=\"data row14 col21\" >-0.075906</td>\n",
       "                        <td id=\"T_f42074a6_aeff_11ed_b39b_7642ddf5d38crow14_col22\" class=\"data row14 col22\" >-0.267512</td>\n",
       "                        <td id=\"T_f42074a6_aeff_11ed_b39b_7642ddf5d38crow14_col23\" class=\"data row14 col23\" >-0.357973</td>\n",
       "                        <td id=\"T_f42074a6_aeff_11ed_b39b_7642ddf5d38crow14_col24\" class=\"data row14 col24\" >-0.201525</td>\n",
       "                        <td id=\"T_f42074a6_aeff_11ed_b39b_7642ddf5d38crow14_col25\" class=\"data row14 col25\" >1.000000</td>\n",
       "            </tr>\n",
       "            <tr>\n",
       "                        <th id=\"T_f42074a6_aeff_11ed_b39b_7642ddf5d38clevel0_row15\" class=\"row_heading level0 row15\" >Newcastle</th>\n",
       "                        <td id=\"T_f42074a6_aeff_11ed_b39b_7642ddf5d38crow15_col0\" class=\"data row15 col0\" >-0.098793</td>\n",
       "                        <td id=\"T_f42074a6_aeff_11ed_b39b_7642ddf5d38crow15_col1\" class=\"data row15 col1\" >0.099922</td>\n",
       "                        <td id=\"T_f42074a6_aeff_11ed_b39b_7642ddf5d38crow15_col2\" class=\"data row15 col2\" >0.091120</td>\n",
       "                        <td id=\"T_f42074a6_aeff_11ed_b39b_7642ddf5d38crow15_col3\" class=\"data row15 col3\" >0.150342</td>\n",
       "                        <td id=\"T_f42074a6_aeff_11ed_b39b_7642ddf5d38crow15_col4\" class=\"data row15 col4\" >-0.099873</td>\n",
       "                        <td id=\"T_f42074a6_aeff_11ed_b39b_7642ddf5d38crow15_col5\" class=\"data row15 col5\" >0.217695</td>\n",
       "                        <td id=\"T_f42074a6_aeff_11ed_b39b_7642ddf5d38crow15_col6\" class=\"data row15 col6\" >0.007594</td>\n",
       "                        <td id=\"T_f42074a6_aeff_11ed_b39b_7642ddf5d38crow15_col7\" class=\"data row15 col7\" >0.075386</td>\n",
       "                        <td id=\"T_f42074a6_aeff_11ed_b39b_7642ddf5d38crow15_col8\" class=\"data row15 col8\" >0.111536</td>\n",
       "                        <td id=\"T_f42074a6_aeff_11ed_b39b_7642ddf5d38crow15_col9\" class=\"data row15 col9\" >-0.042028</td>\n",
       "                        <td id=\"T_f42074a6_aeff_11ed_b39b_7642ddf5d38crow15_col10\" class=\"data row15 col10\" >0.248587</td>\n",
       "                        <td id=\"T_f42074a6_aeff_11ed_b39b_7642ddf5d38crow15_col11\" class=\"data row15 col11\" >0.005039</td>\n",
       "                        <td id=\"T_f42074a6_aeff_11ed_b39b_7642ddf5d38crow15_col12\" class=\"data row15 col12\" >-0.276107</td>\n",
       "                        <td id=\"T_f42074a6_aeff_11ed_b39b_7642ddf5d38crow15_col13\" class=\"data row15 col13\" >-0.490456</td>\n",
       "                        <td id=\"T_f42074a6_aeff_11ed_b39b_7642ddf5d38crow15_col14\" class=\"data row15 col14\" >-0.267512</td>\n",
       "                        <td id=\"T_f42074a6_aeff_11ed_b39b_7642ddf5d38crow15_col15\" class=\"data row15 col15\" >1.000000</td>\n",
       "                        <td id=\"T_f42074a6_aeff_11ed_b39b_7642ddf5d38crow15_col16\" class=\"data row15 col16\" >-0.006122</td>\n",
       "                        <td id=\"T_f42074a6_aeff_11ed_b39b_7642ddf5d38crow15_col17\" class=\"data row15 col17\" >0.006122</td>\n",
       "                        <td id=\"T_f42074a6_aeff_11ed_b39b_7642ddf5d38crow15_col18\" class=\"data row15 col18\" >0.088848</td>\n",
       "                        <td id=\"T_f42074a6_aeff_11ed_b39b_7642ddf5d38crow15_col19\" class=\"data row15 col19\" >-0.088848</td>\n",
       "                        <td id=\"T_f42074a6_aeff_11ed_b39b_7642ddf5d38crow15_col20\" class=\"data row15 col20\" >0.157389</td>\n",
       "                        <td id=\"T_f42074a6_aeff_11ed_b39b_7642ddf5d38crow15_col21\" class=\"data row15 col21\" >-0.157389</td>\n",
       "                        <td id=\"T_f42074a6_aeff_11ed_b39b_7642ddf5d38crow15_col22\" class=\"data row15 col22\" >1.000000</td>\n",
       "                        <td id=\"T_f42074a6_aeff_11ed_b39b_7642ddf5d38crow15_col23\" class=\"data row15 col23\" >-0.490456</td>\n",
       "                        <td id=\"T_f42074a6_aeff_11ed_b39b_7642ddf5d38crow15_col24\" class=\"data row15 col24\" >-0.276107</td>\n",
       "                        <td id=\"T_f42074a6_aeff_11ed_b39b_7642ddf5d38crow15_col25\" class=\"data row15 col25\" >-0.267512</td>\n",
       "            </tr>\n",
       "            <tr>\n",
       "                        <th id=\"T_f42074a6_aeff_11ed_b39b_7642ddf5d38clevel0_row16\" class=\"row_heading level0 row16\" >nuisance_NO</th>\n",
       "                        <td id=\"T_f42074a6_aeff_11ed_b39b_7642ddf5d38crow16_col0\" class=\"data row16 col0\" >0.057643</td>\n",
       "                        <td id=\"T_f42074a6_aeff_11ed_b39b_7642ddf5d38crow16_col1\" class=\"data row16 col1\" >0.004387</td>\n",
       "                        <td id=\"T_f42074a6_aeff_11ed_b39b_7642ddf5d38crow16_col2\" class=\"data row16 col2\" >0.067312</td>\n",
       "                        <td id=\"T_f42074a6_aeff_11ed_b39b_7642ddf5d38crow16_col3\" class=\"data row16 col3\" >0.068298</td>\n",
       "                        <td id=\"T_f42074a6_aeff_11ed_b39b_7642ddf5d38crow16_col4\" class=\"data row16 col4\" >-0.067381</td>\n",
       "                        <td id=\"T_f42074a6_aeff_11ed_b39b_7642ddf5d38crow16_col5\" class=\"data row16 col5\" >0.088461</td>\n",
       "                        <td id=\"T_f42074a6_aeff_11ed_b39b_7642ddf5d38crow16_col6\" class=\"data row16 col6\" >-0.000911</td>\n",
       "                        <td id=\"T_f42074a6_aeff_11ed_b39b_7642ddf5d38crow16_col7\" class=\"data row16 col7\" >0.035228</td>\n",
       "                        <td id=\"T_f42074a6_aeff_11ed_b39b_7642ddf5d38crow16_col8\" class=\"data row16 col8\" >0.168155</td>\n",
       "                        <td id=\"T_f42074a6_aeff_11ed_b39b_7642ddf5d38crow16_col9\" class=\"data row16 col9\" >0.047920</td>\n",
       "                        <td id=\"T_f42074a6_aeff_11ed_b39b_7642ddf5d38crow16_col10\" class=\"data row16 col10\" >0.163701</td>\n",
       "                        <td id=\"T_f42074a6_aeff_11ed_b39b_7642ddf5d38crow16_col11\" class=\"data row16 col11\" >-0.065108</td>\n",
       "                        <td id=\"T_f42074a6_aeff_11ed_b39b_7642ddf5d38crow16_col12\" class=\"data row16 col12\" >-0.128381</td>\n",
       "                        <td id=\"T_f42074a6_aeff_11ed_b39b_7642ddf5d38crow16_col13\" class=\"data row16 col13\" >0.044328</td>\n",
       "                        <td id=\"T_f42074a6_aeff_11ed_b39b_7642ddf5d38crow16_col14\" class=\"data row16 col14\" >0.079796</td>\n",
       "                        <td id=\"T_f42074a6_aeff_11ed_b39b_7642ddf5d38crow16_col15\" class=\"data row16 col15\" >-0.006122</td>\n",
       "                        <td id=\"T_f42074a6_aeff_11ed_b39b_7642ddf5d38crow16_col16\" class=\"data row16 col16\" >1.000000</td>\n",
       "                        <td id=\"T_f42074a6_aeff_11ed_b39b_7642ddf5d38crow16_col17\" class=\"data row16 col17\" >-1.000000</td>\n",
       "                        <td id=\"T_f42074a6_aeff_11ed_b39b_7642ddf5d38crow16_col18\" class=\"data row16 col18\" >0.006343</td>\n",
       "                        <td id=\"T_f42074a6_aeff_11ed_b39b_7642ddf5d38crow16_col19\" class=\"data row16 col19\" >-0.006343</td>\n",
       "                        <td id=\"T_f42074a6_aeff_11ed_b39b_7642ddf5d38crow16_col20\" class=\"data row16 col20\" >-0.006266</td>\n",
       "                        <td id=\"T_f42074a6_aeff_11ed_b39b_7642ddf5d38crow16_col21\" class=\"data row16 col21\" >0.006266</td>\n",
       "                        <td id=\"T_f42074a6_aeff_11ed_b39b_7642ddf5d38crow16_col22\" class=\"data row16 col22\" >-0.006122</td>\n",
       "                        <td id=\"T_f42074a6_aeff_11ed_b39b_7642ddf5d38crow16_col23\" class=\"data row16 col23\" >0.044328</td>\n",
       "                        <td id=\"T_f42074a6_aeff_11ed_b39b_7642ddf5d38crow16_col24\" class=\"data row16 col24\" >-0.128381</td>\n",
       "                        <td id=\"T_f42074a6_aeff_11ed_b39b_7642ddf5d38crow16_col25\" class=\"data row16 col25\" >0.079796</td>\n",
       "            </tr>\n",
       "            <tr>\n",
       "                        <th id=\"T_f42074a6_aeff_11ed_b39b_7642ddf5d38clevel0_row17\" class=\"row_heading level0 row17\" >nuisance_YES</th>\n",
       "                        <td id=\"T_f42074a6_aeff_11ed_b39b_7642ddf5d38crow17_col0\" class=\"data row17 col0\" >-0.057643</td>\n",
       "                        <td id=\"T_f42074a6_aeff_11ed_b39b_7642ddf5d38crow17_col1\" class=\"data row17 col1\" >-0.004387</td>\n",
       "                        <td id=\"T_f42074a6_aeff_11ed_b39b_7642ddf5d38crow17_col2\" class=\"data row17 col2\" >-0.067312</td>\n",
       "                        <td id=\"T_f42074a6_aeff_11ed_b39b_7642ddf5d38crow17_col3\" class=\"data row17 col3\" >-0.068298</td>\n",
       "                        <td id=\"T_f42074a6_aeff_11ed_b39b_7642ddf5d38crow17_col4\" class=\"data row17 col4\" >0.067381</td>\n",
       "                        <td id=\"T_f42074a6_aeff_11ed_b39b_7642ddf5d38crow17_col5\" class=\"data row17 col5\" >-0.088461</td>\n",
       "                        <td id=\"T_f42074a6_aeff_11ed_b39b_7642ddf5d38crow17_col6\" class=\"data row17 col6\" >0.000911</td>\n",
       "                        <td id=\"T_f42074a6_aeff_11ed_b39b_7642ddf5d38crow17_col7\" class=\"data row17 col7\" >-0.035228</td>\n",
       "                        <td id=\"T_f42074a6_aeff_11ed_b39b_7642ddf5d38crow17_col8\" class=\"data row17 col8\" >-0.168155</td>\n",
       "                        <td id=\"T_f42074a6_aeff_11ed_b39b_7642ddf5d38crow17_col9\" class=\"data row17 col9\" >-0.047920</td>\n",
       "                        <td id=\"T_f42074a6_aeff_11ed_b39b_7642ddf5d38crow17_col10\" class=\"data row17 col10\" >-0.163701</td>\n",
       "                        <td id=\"T_f42074a6_aeff_11ed_b39b_7642ddf5d38crow17_col11\" class=\"data row17 col11\" >0.065108</td>\n",
       "                        <td id=\"T_f42074a6_aeff_11ed_b39b_7642ddf5d38crow17_col12\" class=\"data row17 col12\" >0.128381</td>\n",
       "                        <td id=\"T_f42074a6_aeff_11ed_b39b_7642ddf5d38crow17_col13\" class=\"data row17 col13\" >-0.044328</td>\n",
       "                        <td id=\"T_f42074a6_aeff_11ed_b39b_7642ddf5d38crow17_col14\" class=\"data row17 col14\" >-0.079796</td>\n",
       "                        <td id=\"T_f42074a6_aeff_11ed_b39b_7642ddf5d38crow17_col15\" class=\"data row17 col15\" >0.006122</td>\n",
       "                        <td id=\"T_f42074a6_aeff_11ed_b39b_7642ddf5d38crow17_col16\" class=\"data row17 col16\" >-1.000000</td>\n",
       "                        <td id=\"T_f42074a6_aeff_11ed_b39b_7642ddf5d38crow17_col17\" class=\"data row17 col17\" >1.000000</td>\n",
       "                        <td id=\"T_f42074a6_aeff_11ed_b39b_7642ddf5d38crow17_col18\" class=\"data row17 col18\" >-0.006343</td>\n",
       "                        <td id=\"T_f42074a6_aeff_11ed_b39b_7642ddf5d38crow17_col19\" class=\"data row17 col19\" >0.006343</td>\n",
       "                        <td id=\"T_f42074a6_aeff_11ed_b39b_7642ddf5d38crow17_col20\" class=\"data row17 col20\" >0.006266</td>\n",
       "                        <td id=\"T_f42074a6_aeff_11ed_b39b_7642ddf5d38crow17_col21\" class=\"data row17 col21\" >-0.006266</td>\n",
       "                        <td id=\"T_f42074a6_aeff_11ed_b39b_7642ddf5d38crow17_col22\" class=\"data row17 col22\" >0.006122</td>\n",
       "                        <td id=\"T_f42074a6_aeff_11ed_b39b_7642ddf5d38crow17_col23\" class=\"data row17 col23\" >-0.044328</td>\n",
       "                        <td id=\"T_f42074a6_aeff_11ed_b39b_7642ddf5d38crow17_col24\" class=\"data row17 col24\" >0.128381</td>\n",
       "                        <td id=\"T_f42074a6_aeff_11ed_b39b_7642ddf5d38crow17_col25\" class=\"data row17 col25\" >-0.079796</td>\n",
       "            </tr>\n",
       "            <tr>\n",
       "                        <th id=\"T_f42074a6_aeff_11ed_b39b_7642ddf5d38clevel0_row18\" class=\"row_heading level0 row18\" >view_no view</th>\n",
       "                        <td id=\"T_f42074a6_aeff_11ed_b39b_7642ddf5d38crow18_col0\" class=\"data row18 col0\" >-0.026976</td>\n",
       "                        <td id=\"T_f42074a6_aeff_11ed_b39b_7642ddf5d38crow18_col1\" class=\"data row18 col1\" >-0.016210</td>\n",
       "                        <td id=\"T_f42074a6_aeff_11ed_b39b_7642ddf5d38crow18_col2\" class=\"data row18 col2\" >-0.053646</td>\n",
       "                        <td id=\"T_f42074a6_aeff_11ed_b39b_7642ddf5d38crow18_col3\" class=\"data row18 col3\" >-0.121131</td>\n",
       "                        <td id=\"T_f42074a6_aeff_11ed_b39b_7642ddf5d38crow18_col4\" class=\"data row18 col4\" >-0.055854</td>\n",
       "                        <td id=\"T_f42074a6_aeff_11ed_b39b_7642ddf5d38crow18_col5\" class=\"data row18 col5\" >0.020131</td>\n",
       "                        <td id=\"T_f42074a6_aeff_11ed_b39b_7642ddf5d38crow18_col6\" class=\"data row18 col6\" >-0.032169</td>\n",
       "                        <td id=\"T_f42074a6_aeff_11ed_b39b_7642ddf5d38crow18_col7\" class=\"data row18 col7\" >-0.123880</td>\n",
       "                        <td id=\"T_f42074a6_aeff_11ed_b39b_7642ddf5d38crow18_col8\" class=\"data row18 col8\" >0.025175</td>\n",
       "                        <td id=\"T_f42074a6_aeff_11ed_b39b_7642ddf5d38crow18_col9\" class=\"data row18 col9\" >-0.180109</td>\n",
       "                        <td id=\"T_f42074a6_aeff_11ed_b39b_7642ddf5d38crow18_col10\" class=\"data row18 col10\" >0.071399</td>\n",
       "                        <td id=\"T_f42074a6_aeff_11ed_b39b_7642ddf5d38crow18_col11\" class=\"data row18 col11\" >-0.040801</td>\n",
       "                        <td id=\"T_f42074a6_aeff_11ed_b39b_7642ddf5d38crow18_col12\" class=\"data row18 col12\" >0.023915</td>\n",
       "                        <td id=\"T_f42074a6_aeff_11ed_b39b_7642ddf5d38crow18_col13\" class=\"data row18 col13\" >-0.113940</td>\n",
       "                        <td id=\"T_f42074a6_aeff_11ed_b39b_7642ddf5d38crow18_col14\" class=\"data row18 col14\" >0.019852</td>\n",
       "                        <td id=\"T_f42074a6_aeff_11ed_b39b_7642ddf5d38crow18_col15\" class=\"data row18 col15\" >0.088848</td>\n",
       "                        <td id=\"T_f42074a6_aeff_11ed_b39b_7642ddf5d38crow18_col16\" class=\"data row18 col16\" >0.006343</td>\n",
       "                        <td id=\"T_f42074a6_aeff_11ed_b39b_7642ddf5d38crow18_col17\" class=\"data row18 col17\" >-0.006343</td>\n",
       "                        <td id=\"T_f42074a6_aeff_11ed_b39b_7642ddf5d38crow18_col18\" class=\"data row18 col18\" >1.000000</td>\n",
       "                        <td id=\"T_f42074a6_aeff_11ed_b39b_7642ddf5d38crow18_col19\" class=\"data row18 col19\" >-1.000000</td>\n",
       "                        <td id=\"T_f42074a6_aeff_11ed_b39b_7642ddf5d38crow18_col20\" class=\"data row18 col20\" >0.115251</td>\n",
       "                        <td id=\"T_f42074a6_aeff_11ed_b39b_7642ddf5d38crow18_col21\" class=\"data row18 col21\" >-0.115251</td>\n",
       "                        <td id=\"T_f42074a6_aeff_11ed_b39b_7642ddf5d38crow18_col22\" class=\"data row18 col22\" >0.088848</td>\n",
       "                        <td id=\"T_f42074a6_aeff_11ed_b39b_7642ddf5d38crow18_col23\" class=\"data row18 col23\" >-0.113940</td>\n",
       "                        <td id=\"T_f42074a6_aeff_11ed_b39b_7642ddf5d38crow18_col24\" class=\"data row18 col24\" >0.023915</td>\n",
       "                        <td id=\"T_f42074a6_aeff_11ed_b39b_7642ddf5d38crow18_col25\" class=\"data row18 col25\" >0.019852</td>\n",
       "            </tr>\n",
       "            <tr>\n",
       "                        <th id=\"T_f42074a6_aeff_11ed_b39b_7642ddf5d38clevel0_row19\" class=\"row_heading level0 row19\" >view_view</th>\n",
       "                        <td id=\"T_f42074a6_aeff_11ed_b39b_7642ddf5d38crow19_col0\" class=\"data row19 col0\" >0.026976</td>\n",
       "                        <td id=\"T_f42074a6_aeff_11ed_b39b_7642ddf5d38crow19_col1\" class=\"data row19 col1\" >0.016210</td>\n",
       "                        <td id=\"T_f42074a6_aeff_11ed_b39b_7642ddf5d38crow19_col2\" class=\"data row19 col2\" >0.053646</td>\n",
       "                        <td id=\"T_f42074a6_aeff_11ed_b39b_7642ddf5d38crow19_col3\" class=\"data row19 col3\" >0.121131</td>\n",
       "                        <td id=\"T_f42074a6_aeff_11ed_b39b_7642ddf5d38crow19_col4\" class=\"data row19 col4\" >0.055854</td>\n",
       "                        <td id=\"T_f42074a6_aeff_11ed_b39b_7642ddf5d38crow19_col5\" class=\"data row19 col5\" >-0.020131</td>\n",
       "                        <td id=\"T_f42074a6_aeff_11ed_b39b_7642ddf5d38crow19_col6\" class=\"data row19 col6\" >0.032169</td>\n",
       "                        <td id=\"T_f42074a6_aeff_11ed_b39b_7642ddf5d38crow19_col7\" class=\"data row19 col7\" >0.123880</td>\n",
       "                        <td id=\"T_f42074a6_aeff_11ed_b39b_7642ddf5d38crow19_col8\" class=\"data row19 col8\" >-0.025175</td>\n",
       "                        <td id=\"T_f42074a6_aeff_11ed_b39b_7642ddf5d38crow19_col9\" class=\"data row19 col9\" >0.180109</td>\n",
       "                        <td id=\"T_f42074a6_aeff_11ed_b39b_7642ddf5d38crow19_col10\" class=\"data row19 col10\" >-0.071399</td>\n",
       "                        <td id=\"T_f42074a6_aeff_11ed_b39b_7642ddf5d38crow19_col11\" class=\"data row19 col11\" >0.040801</td>\n",
       "                        <td id=\"T_f42074a6_aeff_11ed_b39b_7642ddf5d38crow19_col12\" class=\"data row19 col12\" >-0.023915</td>\n",
       "                        <td id=\"T_f42074a6_aeff_11ed_b39b_7642ddf5d38crow19_col13\" class=\"data row19 col13\" >0.113940</td>\n",
       "                        <td id=\"T_f42074a6_aeff_11ed_b39b_7642ddf5d38crow19_col14\" class=\"data row19 col14\" >-0.019852</td>\n",
       "                        <td id=\"T_f42074a6_aeff_11ed_b39b_7642ddf5d38crow19_col15\" class=\"data row19 col15\" >-0.088848</td>\n",
       "                        <td id=\"T_f42074a6_aeff_11ed_b39b_7642ddf5d38crow19_col16\" class=\"data row19 col16\" >-0.006343</td>\n",
       "                        <td id=\"T_f42074a6_aeff_11ed_b39b_7642ddf5d38crow19_col17\" class=\"data row19 col17\" >0.006343</td>\n",
       "                        <td id=\"T_f42074a6_aeff_11ed_b39b_7642ddf5d38crow19_col18\" class=\"data row19 col18\" >-1.000000</td>\n",
       "                        <td id=\"T_f42074a6_aeff_11ed_b39b_7642ddf5d38crow19_col19\" class=\"data row19 col19\" >1.000000</td>\n",
       "                        <td id=\"T_f42074a6_aeff_11ed_b39b_7642ddf5d38crow19_col20\" class=\"data row19 col20\" >-0.115251</td>\n",
       "                        <td id=\"T_f42074a6_aeff_11ed_b39b_7642ddf5d38crow19_col21\" class=\"data row19 col21\" >0.115251</td>\n",
       "                        <td id=\"T_f42074a6_aeff_11ed_b39b_7642ddf5d38crow19_col22\" class=\"data row19 col22\" >-0.088848</td>\n",
       "                        <td id=\"T_f42074a6_aeff_11ed_b39b_7642ddf5d38crow19_col23\" class=\"data row19 col23\" >0.113940</td>\n",
       "                        <td id=\"T_f42074a6_aeff_11ed_b39b_7642ddf5d38crow19_col24\" class=\"data row19 col24\" >-0.023915</td>\n",
       "                        <td id=\"T_f42074a6_aeff_11ed_b39b_7642ddf5d38crow19_col25\" class=\"data row19 col25\" >-0.019852</td>\n",
       "            </tr>\n",
       "            <tr>\n",
       "                        <th id=\"T_f42074a6_aeff_11ed_b39b_7642ddf5d38clevel0_row20\" class=\"row_heading level0 row20\" >basement_No</th>\n",
       "                        <td id=\"T_f42074a6_aeff_11ed_b39b_7642ddf5d38crow20_col0\" class=\"data row20 col0\" >0.031150</td>\n",
       "                        <td id=\"T_f42074a6_aeff_11ed_b39b_7642ddf5d38crow20_col1\" class=\"data row20 col1\" >-0.129556</td>\n",
       "                        <td id=\"T_f42074a6_aeff_11ed_b39b_7642ddf5d38crow20_col2\" class=\"data row20 col2\" >-0.151711</td>\n",
       "                        <td id=\"T_f42074a6_aeff_11ed_b39b_7642ddf5d38crow20_col3\" class=\"data row20 col3\" >-0.174117</td>\n",
       "                        <td id=\"T_f42074a6_aeff_11ed_b39b_7642ddf5d38crow20_col4\" class=\"data row20 col4\" >-0.105241</td>\n",
       "                        <td id=\"T_f42074a6_aeff_11ed_b39b_7642ddf5d38crow20_col5\" class=\"data row20 col5\" >0.435511</td>\n",
       "                        <td id=\"T_f42074a6_aeff_11ed_b39b_7642ddf5d38crow20_col6\" class=\"data row20 col6\" >-0.067897</td>\n",
       "                        <td id=\"T_f42074a6_aeff_11ed_b39b_7642ddf5d38crow20_col7\" class=\"data row20 col7\" >0.108882</td>\n",
       "                        <td id=\"T_f42074a6_aeff_11ed_b39b_7642ddf5d38crow20_col8\" class=\"data row20 col8\" >0.017567</td>\n",
       "                        <td id=\"T_f42074a6_aeff_11ed_b39b_7642ddf5d38crow20_col9\" class=\"data row20 col9\" >-0.166800</td>\n",
       "                        <td id=\"T_f42074a6_aeff_11ed_b39b_7642ddf5d38crow20_col10\" class=\"data row20 col10\" >0.228944</td>\n",
       "                        <td id=\"T_f42074a6_aeff_11ed_b39b_7642ddf5d38crow20_col11\" class=\"data row20 col11\" >0.030571</td>\n",
       "                        <td id=\"T_f42074a6_aeff_11ed_b39b_7642ddf5d38crow20_col12\" class=\"data row20 col12\" >0.042612</td>\n",
       "                        <td id=\"T_f42074a6_aeff_11ed_b39b_7642ddf5d38crow20_col13\" class=\"data row20 col13\" >-0.232822</td>\n",
       "                        <td id=\"T_f42074a6_aeff_11ed_b39b_7642ddf5d38crow20_col14\" class=\"data row20 col14\" >0.075906</td>\n",
       "                        <td id=\"T_f42074a6_aeff_11ed_b39b_7642ddf5d38crow20_col15\" class=\"data row20 col15\" >0.157389</td>\n",
       "                        <td id=\"T_f42074a6_aeff_11ed_b39b_7642ddf5d38crow20_col16\" class=\"data row20 col16\" >-0.006266</td>\n",
       "                        <td id=\"T_f42074a6_aeff_11ed_b39b_7642ddf5d38crow20_col17\" class=\"data row20 col17\" >0.006266</td>\n",
       "                        <td id=\"T_f42074a6_aeff_11ed_b39b_7642ddf5d38crow20_col18\" class=\"data row20 col18\" >0.115251</td>\n",
       "                        <td id=\"T_f42074a6_aeff_11ed_b39b_7642ddf5d38crow20_col19\" class=\"data row20 col19\" >-0.115251</td>\n",
       "                        <td id=\"T_f42074a6_aeff_11ed_b39b_7642ddf5d38crow20_col20\" class=\"data row20 col20\" >1.000000</td>\n",
       "                        <td id=\"T_f42074a6_aeff_11ed_b39b_7642ddf5d38crow20_col21\" class=\"data row20 col21\" >-1.000000</td>\n",
       "                        <td id=\"T_f42074a6_aeff_11ed_b39b_7642ddf5d38crow20_col22\" class=\"data row20 col22\" >0.157389</td>\n",
       "                        <td id=\"T_f42074a6_aeff_11ed_b39b_7642ddf5d38crow20_col23\" class=\"data row20 col23\" >-0.232822</td>\n",
       "                        <td id=\"T_f42074a6_aeff_11ed_b39b_7642ddf5d38crow20_col24\" class=\"data row20 col24\" >0.042612</td>\n",
       "                        <td id=\"T_f42074a6_aeff_11ed_b39b_7642ddf5d38crow20_col25\" class=\"data row20 col25\" >0.075906</td>\n",
       "            </tr>\n",
       "            <tr>\n",
       "                        <th id=\"T_f42074a6_aeff_11ed_b39b_7642ddf5d38clevel0_row21\" class=\"row_heading level0 row21\" >basement_Yes</th>\n",
       "                        <td id=\"T_f42074a6_aeff_11ed_b39b_7642ddf5d38crow21_col0\" class=\"data row21 col0\" >-0.031150</td>\n",
       "                        <td id=\"T_f42074a6_aeff_11ed_b39b_7642ddf5d38crow21_col1\" class=\"data row21 col1\" >0.129556</td>\n",
       "                        <td id=\"T_f42074a6_aeff_11ed_b39b_7642ddf5d38crow21_col2\" class=\"data row21 col2\" >0.151711</td>\n",
       "                        <td id=\"T_f42074a6_aeff_11ed_b39b_7642ddf5d38crow21_col3\" class=\"data row21 col3\" >0.174117</td>\n",
       "                        <td id=\"T_f42074a6_aeff_11ed_b39b_7642ddf5d38crow21_col4\" class=\"data row21 col4\" >0.105241</td>\n",
       "                        <td id=\"T_f42074a6_aeff_11ed_b39b_7642ddf5d38crow21_col5\" class=\"data row21 col5\" >-0.435511</td>\n",
       "                        <td id=\"T_f42074a6_aeff_11ed_b39b_7642ddf5d38crow21_col6\" class=\"data row21 col6\" >0.067897</td>\n",
       "                        <td id=\"T_f42074a6_aeff_11ed_b39b_7642ddf5d38crow21_col7\" class=\"data row21 col7\" >-0.108882</td>\n",
       "                        <td id=\"T_f42074a6_aeff_11ed_b39b_7642ddf5d38crow21_col8\" class=\"data row21 col8\" >-0.017567</td>\n",
       "                        <td id=\"T_f42074a6_aeff_11ed_b39b_7642ddf5d38crow21_col9\" class=\"data row21 col9\" >0.166800</td>\n",
       "                        <td id=\"T_f42074a6_aeff_11ed_b39b_7642ddf5d38crow21_col10\" class=\"data row21 col10\" >-0.228944</td>\n",
       "                        <td id=\"T_f42074a6_aeff_11ed_b39b_7642ddf5d38crow21_col11\" class=\"data row21 col11\" >-0.030571</td>\n",
       "                        <td id=\"T_f42074a6_aeff_11ed_b39b_7642ddf5d38crow21_col12\" class=\"data row21 col12\" >-0.042612</td>\n",
       "                        <td id=\"T_f42074a6_aeff_11ed_b39b_7642ddf5d38crow21_col13\" class=\"data row21 col13\" >0.232822</td>\n",
       "                        <td id=\"T_f42074a6_aeff_11ed_b39b_7642ddf5d38crow21_col14\" class=\"data row21 col14\" >-0.075906</td>\n",
       "                        <td id=\"T_f42074a6_aeff_11ed_b39b_7642ddf5d38crow21_col15\" class=\"data row21 col15\" >-0.157389</td>\n",
       "                        <td id=\"T_f42074a6_aeff_11ed_b39b_7642ddf5d38crow21_col16\" class=\"data row21 col16\" >0.006266</td>\n",
       "                        <td id=\"T_f42074a6_aeff_11ed_b39b_7642ddf5d38crow21_col17\" class=\"data row21 col17\" >-0.006266</td>\n",
       "                        <td id=\"T_f42074a6_aeff_11ed_b39b_7642ddf5d38crow21_col18\" class=\"data row21 col18\" >-0.115251</td>\n",
       "                        <td id=\"T_f42074a6_aeff_11ed_b39b_7642ddf5d38crow21_col19\" class=\"data row21 col19\" >0.115251</td>\n",
       "                        <td id=\"T_f42074a6_aeff_11ed_b39b_7642ddf5d38crow21_col20\" class=\"data row21 col20\" >-1.000000</td>\n",
       "                        <td id=\"T_f42074a6_aeff_11ed_b39b_7642ddf5d38crow21_col21\" class=\"data row21 col21\" >1.000000</td>\n",
       "                        <td id=\"T_f42074a6_aeff_11ed_b39b_7642ddf5d38crow21_col22\" class=\"data row21 col22\" >-0.157389</td>\n",
       "                        <td id=\"T_f42074a6_aeff_11ed_b39b_7642ddf5d38crow21_col23\" class=\"data row21 col23\" >0.232822</td>\n",
       "                        <td id=\"T_f42074a6_aeff_11ed_b39b_7642ddf5d38crow21_col24\" class=\"data row21 col24\" >-0.042612</td>\n",
       "                        <td id=\"T_f42074a6_aeff_11ed_b39b_7642ddf5d38crow21_col25\" class=\"data row21 col25\" >-0.075906</td>\n",
       "            </tr>\n",
       "            <tr>\n",
       "                        <th id=\"T_f42074a6_aeff_11ed_b39b_7642ddf5d38clevel0_row22\" class=\"row_heading level0 row22\" >zip_Newcastle</th>\n",
       "                        <td id=\"T_f42074a6_aeff_11ed_b39b_7642ddf5d38crow22_col0\" class=\"data row22 col0\" >-0.098793</td>\n",
       "                        <td id=\"T_f42074a6_aeff_11ed_b39b_7642ddf5d38crow22_col1\" class=\"data row22 col1\" >0.099922</td>\n",
       "                        <td id=\"T_f42074a6_aeff_11ed_b39b_7642ddf5d38crow22_col2\" class=\"data row22 col2\" >0.091120</td>\n",
       "                        <td id=\"T_f42074a6_aeff_11ed_b39b_7642ddf5d38crow22_col3\" class=\"data row22 col3\" >0.150342</td>\n",
       "                        <td id=\"T_f42074a6_aeff_11ed_b39b_7642ddf5d38crow22_col4\" class=\"data row22 col4\" >-0.099873</td>\n",
       "                        <td id=\"T_f42074a6_aeff_11ed_b39b_7642ddf5d38crow22_col5\" class=\"data row22 col5\" >0.217695</td>\n",
       "                        <td id=\"T_f42074a6_aeff_11ed_b39b_7642ddf5d38crow22_col6\" class=\"data row22 col6\" >0.007594</td>\n",
       "                        <td id=\"T_f42074a6_aeff_11ed_b39b_7642ddf5d38crow22_col7\" class=\"data row22 col7\" >0.075386</td>\n",
       "                        <td id=\"T_f42074a6_aeff_11ed_b39b_7642ddf5d38crow22_col8\" class=\"data row22 col8\" >0.111536</td>\n",
       "                        <td id=\"T_f42074a6_aeff_11ed_b39b_7642ddf5d38crow22_col9\" class=\"data row22 col9\" >-0.042028</td>\n",
       "                        <td id=\"T_f42074a6_aeff_11ed_b39b_7642ddf5d38crow22_col10\" class=\"data row22 col10\" >0.248587</td>\n",
       "                        <td id=\"T_f42074a6_aeff_11ed_b39b_7642ddf5d38crow22_col11\" class=\"data row22 col11\" >0.005039</td>\n",
       "                        <td id=\"T_f42074a6_aeff_11ed_b39b_7642ddf5d38crow22_col12\" class=\"data row22 col12\" >-0.276107</td>\n",
       "                        <td id=\"T_f42074a6_aeff_11ed_b39b_7642ddf5d38crow22_col13\" class=\"data row22 col13\" >-0.490456</td>\n",
       "                        <td id=\"T_f42074a6_aeff_11ed_b39b_7642ddf5d38crow22_col14\" class=\"data row22 col14\" >-0.267512</td>\n",
       "                        <td id=\"T_f42074a6_aeff_11ed_b39b_7642ddf5d38crow22_col15\" class=\"data row22 col15\" >1.000000</td>\n",
       "                        <td id=\"T_f42074a6_aeff_11ed_b39b_7642ddf5d38crow22_col16\" class=\"data row22 col16\" >-0.006122</td>\n",
       "                        <td id=\"T_f42074a6_aeff_11ed_b39b_7642ddf5d38crow22_col17\" class=\"data row22 col17\" >0.006122</td>\n",
       "                        <td id=\"T_f42074a6_aeff_11ed_b39b_7642ddf5d38crow22_col18\" class=\"data row22 col18\" >0.088848</td>\n",
       "                        <td id=\"T_f42074a6_aeff_11ed_b39b_7642ddf5d38crow22_col19\" class=\"data row22 col19\" >-0.088848</td>\n",
       "                        <td id=\"T_f42074a6_aeff_11ed_b39b_7642ddf5d38crow22_col20\" class=\"data row22 col20\" >0.157389</td>\n",
       "                        <td id=\"T_f42074a6_aeff_11ed_b39b_7642ddf5d38crow22_col21\" class=\"data row22 col21\" >-0.157389</td>\n",
       "                        <td id=\"T_f42074a6_aeff_11ed_b39b_7642ddf5d38crow22_col22\" class=\"data row22 col22\" >1.000000</td>\n",
       "                        <td id=\"T_f42074a6_aeff_11ed_b39b_7642ddf5d38crow22_col23\" class=\"data row22 col23\" >-0.490456</td>\n",
       "                        <td id=\"T_f42074a6_aeff_11ed_b39b_7642ddf5d38crow22_col24\" class=\"data row22 col24\" >-0.276107</td>\n",
       "                        <td id=\"T_f42074a6_aeff_11ed_b39b_7642ddf5d38crow22_col25\" class=\"data row22 col25\" >-0.267512</td>\n",
       "            </tr>\n",
       "            <tr>\n",
       "                        <th id=\"T_f42074a6_aeff_11ed_b39b_7642ddf5d38clevel0_row23\" class=\"row_heading level0 row23\" >zip_North KC</th>\n",
       "                        <td id=\"T_f42074a6_aeff_11ed_b39b_7642ddf5d38crow23_col0\" class=\"data row23 col0\" >-0.082635</td>\n",
       "                        <td id=\"T_f42074a6_aeff_11ed_b39b_7642ddf5d38crow23_col1\" class=\"data row23 col1\" >0.055284</td>\n",
       "                        <td id=\"T_f42074a6_aeff_11ed_b39b_7642ddf5d38crow23_col2\" class=\"data row23 col2\" >0.017070</td>\n",
       "                        <td id=\"T_f42074a6_aeff_11ed_b39b_7642ddf5d38crow23_col3\" class=\"data row23 col3\" >0.040166</td>\n",
       "                        <td id=\"T_f42074a6_aeff_11ed_b39b_7642ddf5d38crow23_col4\" class=\"data row23 col4\" >0.003217</td>\n",
       "                        <td id=\"T_f42074a6_aeff_11ed_b39b_7642ddf5d38crow23_col5\" class=\"data row23 col5\" >-0.235538</td>\n",
       "                        <td id=\"T_f42074a6_aeff_11ed_b39b_7642ddf5d38crow23_col6\" class=\"data row23 col6\" >0.009673</td>\n",
       "                        <td id=\"T_f42074a6_aeff_11ed_b39b_7642ddf5d38crow23_col7\" class=\"data row23 col7\" >-0.098989</td>\n",
       "                        <td id=\"T_f42074a6_aeff_11ed_b39b_7642ddf5d38crow23_col8\" class=\"data row23 col8\" >-0.113462</td>\n",
       "                        <td id=\"T_f42074a6_aeff_11ed_b39b_7642ddf5d38crow23_col9\" class=\"data row23 col9\" >0.016513</td>\n",
       "                        <td id=\"T_f42074a6_aeff_11ed_b39b_7642ddf5d38crow23_col10\" class=\"data row23 col10\" >-0.226636</td>\n",
       "                        <td id=\"T_f42074a6_aeff_11ed_b39b_7642ddf5d38crow23_col11\" class=\"data row23 col11\" >0.014279</td>\n",
       "                        <td id=\"T_f42074a6_aeff_11ed_b39b_7642ddf5d38crow23_col12\" class=\"data row23 col12\" >-0.369475</td>\n",
       "                        <td id=\"T_f42074a6_aeff_11ed_b39b_7642ddf5d38crow23_col13\" class=\"data row23 col13\" >1.000000</td>\n",
       "                        <td id=\"T_f42074a6_aeff_11ed_b39b_7642ddf5d38crow23_col14\" class=\"data row23 col14\" >-0.357973</td>\n",
       "                        <td id=\"T_f42074a6_aeff_11ed_b39b_7642ddf5d38crow23_col15\" class=\"data row23 col15\" >-0.490456</td>\n",
       "                        <td id=\"T_f42074a6_aeff_11ed_b39b_7642ddf5d38crow23_col16\" class=\"data row23 col16\" >0.044328</td>\n",
       "                        <td id=\"T_f42074a6_aeff_11ed_b39b_7642ddf5d38crow23_col17\" class=\"data row23 col17\" >-0.044328</td>\n",
       "                        <td id=\"T_f42074a6_aeff_11ed_b39b_7642ddf5d38crow23_col18\" class=\"data row23 col18\" >-0.113940</td>\n",
       "                        <td id=\"T_f42074a6_aeff_11ed_b39b_7642ddf5d38crow23_col19\" class=\"data row23 col19\" >0.113940</td>\n",
       "                        <td id=\"T_f42074a6_aeff_11ed_b39b_7642ddf5d38crow23_col20\" class=\"data row23 col20\" >-0.232822</td>\n",
       "                        <td id=\"T_f42074a6_aeff_11ed_b39b_7642ddf5d38crow23_col21\" class=\"data row23 col21\" >0.232822</td>\n",
       "                        <td id=\"T_f42074a6_aeff_11ed_b39b_7642ddf5d38crow23_col22\" class=\"data row23 col22\" >-0.490456</td>\n",
       "                        <td id=\"T_f42074a6_aeff_11ed_b39b_7642ddf5d38crow23_col23\" class=\"data row23 col23\" >1.000000</td>\n",
       "                        <td id=\"T_f42074a6_aeff_11ed_b39b_7642ddf5d38crow23_col24\" class=\"data row23 col24\" >-0.369475</td>\n",
       "                        <td id=\"T_f42074a6_aeff_11ed_b39b_7642ddf5d38crow23_col25\" class=\"data row23 col25\" >-0.357973</td>\n",
       "            </tr>\n",
       "            <tr>\n",
       "                        <th id=\"T_f42074a6_aeff_11ed_b39b_7642ddf5d38clevel0_row24\" class=\"row_heading level0 row24\" >zip_Redmond</th>\n",
       "                        <td id=\"T_f42074a6_aeff_11ed_b39b_7642ddf5d38crow24_col0\" class=\"data row24 col0\" >0.156438</td>\n",
       "                        <td id=\"T_f42074a6_aeff_11ed_b39b_7642ddf5d38crow24_col1\" class=\"data row24 col1\" >-0.051326</td>\n",
       "                        <td id=\"T_f42074a6_aeff_11ed_b39b_7642ddf5d38crow24_col2\" class=\"data row24 col2\" >-0.182420</td>\n",
       "                        <td id=\"T_f42074a6_aeff_11ed_b39b_7642ddf5d38crow24_col3\" class=\"data row24 col3\" >-0.164032</td>\n",
       "                        <td id=\"T_f42074a6_aeff_11ed_b39b_7642ddf5d38crow24_col4\" class=\"data row24 col4\" >-0.070582</td>\n",
       "                        <td id=\"T_f42074a6_aeff_11ed_b39b_7642ddf5d38crow24_col5\" class=\"data row24 col5\" >-0.175728</td>\n",
       "                        <td id=\"T_f42074a6_aeff_11ed_b39b_7642ddf5d38crow24_col6\" class=\"data row24 col6\" >0.087353</td>\n",
       "                        <td id=\"T_f42074a6_aeff_11ed_b39b_7642ddf5d38crow24_col7\" class=\"data row24 col7\" >-0.063247</td>\n",
       "                        <td id=\"T_f42074a6_aeff_11ed_b39b_7642ddf5d38crow24_col8\" class=\"data row24 col8\" >-0.033437</td>\n",
       "                        <td id=\"T_f42074a6_aeff_11ed_b39b_7642ddf5d38crow24_col9\" class=\"data row24 col9\" >-0.022748</td>\n",
       "                        <td id=\"T_f42074a6_aeff_11ed_b39b_7642ddf5d38crow24_col10\" class=\"data row24 col10\" >-0.242283</td>\n",
       "                        <td id=\"T_f42074a6_aeff_11ed_b39b_7642ddf5d38crow24_col11\" class=\"data row24 col11\" >0.012711</td>\n",
       "                        <td id=\"T_f42074a6_aeff_11ed_b39b_7642ddf5d38crow24_col12\" class=\"data row24 col12\" >1.000000</td>\n",
       "                        <td id=\"T_f42074a6_aeff_11ed_b39b_7642ddf5d38crow24_col13\" class=\"data row24 col13\" >-0.369475</td>\n",
       "                        <td id=\"T_f42074a6_aeff_11ed_b39b_7642ddf5d38crow24_col14\" class=\"data row24 col14\" >-0.201525</td>\n",
       "                        <td id=\"T_f42074a6_aeff_11ed_b39b_7642ddf5d38crow24_col15\" class=\"data row24 col15\" >-0.276107</td>\n",
       "                        <td id=\"T_f42074a6_aeff_11ed_b39b_7642ddf5d38crow24_col16\" class=\"data row24 col16\" >-0.128381</td>\n",
       "                        <td id=\"T_f42074a6_aeff_11ed_b39b_7642ddf5d38crow24_col17\" class=\"data row24 col17\" >0.128381</td>\n",
       "                        <td id=\"T_f42074a6_aeff_11ed_b39b_7642ddf5d38crow24_col18\" class=\"data row24 col18\" >0.023915</td>\n",
       "                        <td id=\"T_f42074a6_aeff_11ed_b39b_7642ddf5d38crow24_col19\" class=\"data row24 col19\" >-0.023915</td>\n",
       "                        <td id=\"T_f42074a6_aeff_11ed_b39b_7642ddf5d38crow24_col20\" class=\"data row24 col20\" >0.042612</td>\n",
       "                        <td id=\"T_f42074a6_aeff_11ed_b39b_7642ddf5d38crow24_col21\" class=\"data row24 col21\" >-0.042612</td>\n",
       "                        <td id=\"T_f42074a6_aeff_11ed_b39b_7642ddf5d38crow24_col22\" class=\"data row24 col22\" >-0.276107</td>\n",
       "                        <td id=\"T_f42074a6_aeff_11ed_b39b_7642ddf5d38crow24_col23\" class=\"data row24 col23\" >-0.369475</td>\n",
       "                        <td id=\"T_f42074a6_aeff_11ed_b39b_7642ddf5d38crow24_col24\" class=\"data row24 col24\" >1.000000</td>\n",
       "                        <td id=\"T_f42074a6_aeff_11ed_b39b_7642ddf5d38crow24_col25\" class=\"data row24 col25\" >-0.201525</td>\n",
       "            </tr>\n",
       "            <tr>\n",
       "                        <th id=\"T_f42074a6_aeff_11ed_b39b_7642ddf5d38clevel0_row25\" class=\"row_heading level0 row25\" >zip_Sammamish</th>\n",
       "                        <td id=\"T_f42074a6_aeff_11ed_b39b_7642ddf5d38crow25_col0\" class=\"data row25 col0\" >0.067960</td>\n",
       "                        <td id=\"T_f42074a6_aeff_11ed_b39b_7642ddf5d38crow25_col1\" class=\"data row25 col1\" >-0.140471</td>\n",
       "                        <td id=\"T_f42074a6_aeff_11ed_b39b_7642ddf5d38crow25_col2\" class=\"data row25 col2\" >0.054514</td>\n",
       "                        <td id=\"T_f42074a6_aeff_11ed_b39b_7642ddf5d38crow25_col3\" class=\"data row25 col3\" >-0.065793</td>\n",
       "                        <td id=\"T_f42074a6_aeff_11ed_b39b_7642ddf5d38crow25_col4\" class=\"data row25 col4\" >0.187510</td>\n",
       "                        <td id=\"T_f42074a6_aeff_11ed_b39b_7642ddf5d38crow25_col5\" class=\"data row25 col5\" >0.230207</td>\n",
       "                        <td id=\"T_f42074a6_aeff_11ed_b39b_7642ddf5d38crow25_col6\" class=\"data row25 col6\" >-0.111106</td>\n",
       "                        <td id=\"T_f42074a6_aeff_11ed_b39b_7642ddf5d38crow25_col7\" class=\"data row25 col7\" >0.105216</td>\n",
       "                        <td id=\"T_f42074a6_aeff_11ed_b39b_7642ddf5d38crow25_col8\" class=\"data row25 col8\" >0.050601</td>\n",
       "                        <td id=\"T_f42074a6_aeff_11ed_b39b_7642ddf5d38crow25_col9\" class=\"data row25 col9\" >0.051750</td>\n",
       "                        <td id=\"T_f42074a6_aeff_11ed_b39b_7642ddf5d38crow25_col10\" class=\"data row25 col10\" >0.249377</td>\n",
       "                        <td id=\"T_f42074a6_aeff_11ed_b39b_7642ddf5d38crow25_col11\" class=\"data row25 col11\" >-0.037912</td>\n",
       "                        <td id=\"T_f42074a6_aeff_11ed_b39b_7642ddf5d38crow25_col12\" class=\"data row25 col12\" >-0.201525</td>\n",
       "                        <td id=\"T_f42074a6_aeff_11ed_b39b_7642ddf5d38crow25_col13\" class=\"data row25 col13\" >-0.357973</td>\n",
       "                        <td id=\"T_f42074a6_aeff_11ed_b39b_7642ddf5d38crow25_col14\" class=\"data row25 col14\" >1.000000</td>\n",
       "                        <td id=\"T_f42074a6_aeff_11ed_b39b_7642ddf5d38crow25_col15\" class=\"data row25 col15\" >-0.267512</td>\n",
       "                        <td id=\"T_f42074a6_aeff_11ed_b39b_7642ddf5d38crow25_col16\" class=\"data row25 col16\" >0.079796</td>\n",
       "                        <td id=\"T_f42074a6_aeff_11ed_b39b_7642ddf5d38crow25_col17\" class=\"data row25 col17\" >-0.079796</td>\n",
       "                        <td id=\"T_f42074a6_aeff_11ed_b39b_7642ddf5d38crow25_col18\" class=\"data row25 col18\" >0.019852</td>\n",
       "                        <td id=\"T_f42074a6_aeff_11ed_b39b_7642ddf5d38crow25_col19\" class=\"data row25 col19\" >-0.019852</td>\n",
       "                        <td id=\"T_f42074a6_aeff_11ed_b39b_7642ddf5d38crow25_col20\" class=\"data row25 col20\" >0.075906</td>\n",
       "                        <td id=\"T_f42074a6_aeff_11ed_b39b_7642ddf5d38crow25_col21\" class=\"data row25 col21\" >-0.075906</td>\n",
       "                        <td id=\"T_f42074a6_aeff_11ed_b39b_7642ddf5d38crow25_col22\" class=\"data row25 col22\" >-0.267512</td>\n",
       "                        <td id=\"T_f42074a6_aeff_11ed_b39b_7642ddf5d38crow25_col23\" class=\"data row25 col23\" >-0.357973</td>\n",
       "                        <td id=\"T_f42074a6_aeff_11ed_b39b_7642ddf5d38crow25_col24\" class=\"data row25 col24\" >-0.201525</td>\n",
       "                        <td id=\"T_f42074a6_aeff_11ed_b39b_7642ddf5d38crow25_col25\" class=\"data row25 col25\" >1.000000</td>\n",
       "            </tr>\n",
       "    </tbody></table>"
      ],
      "text/plain": [
       "<pandas.io.formats.style.Styler at 0x7fc685840820>"
      ]
     },
     "execution_count": 49,
     "metadata": {},
     "output_type": "execute_result"
    }
   ],
   "source": [
    "#Correlation b/w x-predictors\n",
    "nice_houses['avg_price'] = nice_houses['price'].mean()\n",
    "nh=pd.get_dummies(nice_houses.drop(columns=['address', 'date', 'avg_price']))\n",
    "nh.corr().style.background_gradient(cmap='coolwarm')"
   ]
  },
  {
   "cell_type": "markdown",
   "metadata": {},
   "source": [
    "## Checking for Linearity  "
   ]
  },
  {
   "cell_type": "code",
   "execution_count": 50,
   "metadata": {},
   "outputs": [
    {
     "data": {
      "text/plain": [
       "price           1.000000\n",
       "grade           0.232673\n",
       "sqft_living     0.206432\n",
       "Redmond         0.156438\n",
       "bedrooms        0.150696\n",
       "bathrooms       0.135674\n",
       "condition       0.117054\n",
       "sqft_garage     0.113183\n",
       "floors          0.107017\n",
       "sqft_patio      0.082960\n",
       "Sammamish       0.067960\n",
       "yr_built        0.056117\n",
       "yr_renovated   -0.016327\n",
       "sqft_lot       -0.016961\n",
       "North KC       -0.082635\n",
       "Newcastle      -0.098793\n",
       "Name: price, dtype: float64"
      ]
     },
     "execution_count": 50,
     "metadata": {},
     "output_type": "execute_result"
    }
   ],
   "source": [
    "#Checking numerical columns for correlation b/w x and y\n",
    "y_linear=nice_houses['price']\n",
    "X_linear=nice_houses.drop(columns=['price', 'avg_price'])\n",
    "dp = pd.concat([X_linear,y_linear],axis=1)\n",
    "dp.corr().price.sort_values(ascending=False)"
   ]
  },
  {
   "cell_type": "code",
   "execution_count": 51,
   "metadata": {},
   "outputs": [
    {
     "data": {
      "text/plain": [
       "price            1.000000\n",
       "zip_Redmond      0.156438\n",
       "zip_Sammamish    0.067960\n",
       "nuisance_NO      0.057643\n",
       "basement_No      0.031150\n",
       "view_view        0.026976\n",
       "view_no view    -0.026976\n",
       "basement_Yes    -0.031150\n",
       "nuisance_YES    -0.057643\n",
       "zip_North KC    -0.082635\n",
       "zip_Newcastle   -0.098793\n",
       "Name: price, dtype: float64"
      ]
     },
     "execution_count": 51,
     "metadata": {},
     "output_type": "execute_result"
    }
   ],
   "source": [
    "#Check correlation for non-numerical columns\n",
    "y_1 = nice_houses['price']\n",
    "x_1 = pd.get_dummies(nice_houses[['nuisance','view', 'basement','zip']])\n",
    "model = sm.OLS(y_1,sm.add_constant(x_1)).fit()\n",
    "\n",
    "dp_1 = pd.concat([x_1,y_1],axis=1)\n",
    "dp_1.corr().price.sort_values(ascending=False)"
   ]
  },
  {
   "cell_type": "markdown",
   "metadata": {},
   "source": [
    "# Models"
   ]
  },
  {
   "cell_type": "markdown",
   "metadata": {},
   "source": [
    "## Baseline Model-DummyRegressor"
   ]
  },
  {
   "cell_type": "code",
   "execution_count": 52,
   "metadata": {},
   "outputs": [
    {
     "data": {
      "text/html": [
       "<table class=\"simpletable\">\n",
       "<caption>OLS Regression Results</caption>\n",
       "<tr>\n",
       "  <th>Dep. Variable:</th>          <td>price</td>      <th>  R-squared:         </th> <td>  -0.000</td> \n",
       "</tr>\n",
       "<tr>\n",
       "  <th>Model:</th>                   <td>OLS</td>       <th>  Adj. R-squared:    </th> <td>  -0.000</td> \n",
       "</tr>\n",
       "<tr>\n",
       "  <th>Method:</th>             <td>Least Squares</td>  <th>  F-statistic:       </th> <td>     nan</td> \n",
       "</tr>\n",
       "<tr>\n",
       "  <th>Date:</th>             <td>Fri, 17 Feb 2023</td> <th>  Prob (F-statistic):</th>  <td>   nan</td>  \n",
       "</tr>\n",
       "<tr>\n",
       "  <th>Time:</th>                 <td>15:16:25</td>     <th>  Log-Likelihood:    </th> <td> -12407.</td> \n",
       "</tr>\n",
       "<tr>\n",
       "  <th>No. Observations:</th>      <td>   906</td>      <th>  AIC:               </th> <td>2.482e+04</td>\n",
       "</tr>\n",
       "<tr>\n",
       "  <th>Df Residuals:</th>          <td>   905</td>      <th>  BIC:               </th> <td>2.482e+04</td>\n",
       "</tr>\n",
       "<tr>\n",
       "  <th>Df Model:</th>              <td>     0</td>      <th>                     </th>     <td> </td>    \n",
       "</tr>\n",
       "<tr>\n",
       "  <th>Covariance Type:</th>      <td>nonrobust</td>    <th>                     </th>     <td> </td>    \n",
       "</tr>\n",
       "</table>\n",
       "<table class=\"simpletable\">\n",
       "<tr>\n",
       "      <td></td>         <th>coef</th>     <th>std err</th>      <th>t</th>      <th>P>|t|</th>  <th>[0.025</th>    <th>0.975]</th>  \n",
       "</tr>\n",
       "<tr>\n",
       "  <th>avg_price</th> <td>    1.0000</td> <td>    0.008</td> <td>  130.234</td> <td> 0.000</td> <td>    0.985</td> <td>    1.015</td>\n",
       "</tr>\n",
       "</table>\n",
       "<table class=\"simpletable\">\n",
       "<tr>\n",
       "  <th>Omnibus:</th>       <td>185.773</td> <th>  Durbin-Watson:     </th> <td>   1.969</td>\n",
       "</tr>\n",
       "<tr>\n",
       "  <th>Prob(Omnibus):</th> <td> 0.000</td>  <th>  Jarque-Bera (JB):  </th> <td> 363.454</td>\n",
       "</tr>\n",
       "<tr>\n",
       "  <th>Skew:</th>          <td>-1.184</td>  <th>  Prob(JB):          </th> <td>1.19e-79</td>\n",
       "</tr>\n",
       "<tr>\n",
       "  <th>Kurtosis:</th>      <td> 5.006</td>  <th>  Cond. No.          </th> <td>    1.00</td>\n",
       "</tr>\n",
       "</table><br/><br/>Notes:<br/>[1] Standard Errors assume that the covariance matrix of the errors is correctly specified."
      ],
      "text/plain": [
       "<class 'statsmodels.iolib.summary.Summary'>\n",
       "\"\"\"\n",
       "                            OLS Regression Results                            \n",
       "==============================================================================\n",
       "Dep. Variable:                  price   R-squared:                      -0.000\n",
       "Model:                            OLS   Adj. R-squared:                 -0.000\n",
       "Method:                 Least Squares   F-statistic:                       nan\n",
       "Date:                Fri, 17 Feb 2023   Prob (F-statistic):                nan\n",
       "Time:                        15:16:25   Log-Likelihood:                -12407.\n",
       "No. Observations:                 906   AIC:                         2.482e+04\n",
       "Df Residuals:                     905   BIC:                         2.482e+04\n",
       "Df Model:                           0                                         \n",
       "Covariance Type:            nonrobust                                         \n",
       "==============================================================================\n",
       "                 coef    std err          t      P>|t|      [0.025      0.975]\n",
       "------------------------------------------------------------------------------\n",
       "avg_price      1.0000      0.008    130.234      0.000       0.985       1.015\n",
       "==============================================================================\n",
       "Omnibus:                      185.773   Durbin-Watson:                   1.969\n",
       "Prob(Omnibus):                  0.000   Jarque-Bera (JB):              363.454\n",
       "Skew:                          -1.184   Prob(JB):                     1.19e-79\n",
       "Kurtosis:                       5.006   Cond. No.                         1.00\n",
       "==============================================================================\n",
       "\n",
       "Notes:\n",
       "[1] Standard Errors assume that the covariance matrix of the errors is correctly specified.\n",
       "\"\"\""
      ]
     },
     "execution_count": 52,
     "metadata": {},
     "output_type": "execute_result"
    }
   ],
   "source": [
    "# Baseline Model\n",
    "nice_houses['avg_price'] = nice_houses['price'].mean()\n",
    "X_base = nice_houses['avg_price']\n",
    "y_base = nice_houses['price']\n",
    "baseline_model=sm.OLS(y_base, sm.add_constant(X_base)).fit()\n",
    "baseline_model.summary()"
   ]
  },
  {
   "cell_type": "code",
   "execution_count": 53,
   "metadata": {},
   "outputs": [
    {
     "data": {
      "text/plain": [
       "29       928393.113687\n",
       "192      928393.113687\n",
       "208      928393.113687\n",
       "307      928393.113687\n",
       "337      928393.113687\n",
       "             ...      \n",
       "30056    928393.113687\n",
       "30096    928393.113687\n",
       "30108    928393.113687\n",
       "30110    928393.113687\n",
       "30113    928393.113687\n",
       "Name: avg_price, Length: 906, dtype: float64"
      ]
     },
     "execution_count": 53,
     "metadata": {},
     "output_type": "execute_result"
    }
   ],
   "source": [
    "nice_houses['avg_price']#sanity check"
   ]
  },
  {
   "cell_type": "markdown",
   "metadata": {},
   "source": [
    "## First Simple Model"
   ]
  },
  {
   "cell_type": "code",
   "execution_count": 54,
   "metadata": {
    "scrolled": false
   },
   "outputs": [
    {
     "data": {
      "text/html": [
       "<table class=\"simpletable\">\n",
       "<caption>OLS Regression Results</caption>\n",
       "<tr>\n",
       "  <th>Dep. Variable:</th>          <td>price</td>      <th>  R-squared:         </th> <td>   0.043</td> \n",
       "</tr>\n",
       "<tr>\n",
       "  <th>Model:</th>                   <td>OLS</td>       <th>  Adj. R-squared:    </th> <td>   0.042</td> \n",
       "</tr>\n",
       "<tr>\n",
       "  <th>Method:</th>             <td>Least Squares</td>  <th>  F-statistic:       </th> <td>   40.24</td> \n",
       "</tr>\n",
       "<tr>\n",
       "  <th>Date:</th>             <td>Fri, 17 Feb 2023</td> <th>  Prob (F-statistic):</th> <td>3.55e-10</td> \n",
       "</tr>\n",
       "<tr>\n",
       "  <th>Time:</th>                 <td>15:16:25</td>     <th>  Log-Likelihood:    </th> <td> -12388.</td> \n",
       "</tr>\n",
       "<tr>\n",
       "  <th>No. Observations:</th>      <td>   906</td>      <th>  AIC:               </th> <td>2.478e+04</td>\n",
       "</tr>\n",
       "<tr>\n",
       "  <th>Df Residuals:</th>          <td>   904</td>      <th>  BIC:               </th> <td>2.479e+04</td>\n",
       "</tr>\n",
       "<tr>\n",
       "  <th>Df Model:</th>              <td>     1</td>      <th>                     </th>     <td> </td>    \n",
       "</tr>\n",
       "<tr>\n",
       "  <th>Covariance Type:</th>      <td>nonrobust</td>    <th>                     </th>     <td> </td>    \n",
       "</tr>\n",
       "</table>\n",
       "<table class=\"simpletable\">\n",
       "<tr>\n",
       "       <td></td>          <th>coef</th>     <th>std err</th>      <th>t</th>      <th>P>|t|</th>  <th>[0.025</th>    <th>0.975]</th>  \n",
       "</tr>\n",
       "<tr>\n",
       "  <th>const</th>       <td> 7.732e+05</td> <td> 2.54e+04</td> <td>   30.401</td> <td> 0.000</td> <td> 7.23e+05</td> <td> 8.23e+05</td>\n",
       "</tr>\n",
       "<tr>\n",
       "  <th>sqft_living</th> <td>   77.3186</td> <td>   12.189</td> <td>    6.343</td> <td> 0.000</td> <td>   53.397</td> <td>  101.241</td>\n",
       "</tr>\n",
       "</table>\n",
       "<table class=\"simpletable\">\n",
       "<tr>\n",
       "  <th>Omnibus:</th>       <td>229.233</td> <th>  Durbin-Watson:     </th> <td>   1.973</td> \n",
       "</tr>\n",
       "<tr>\n",
       "  <th>Prob(Omnibus):</th> <td> 0.000</td>  <th>  Jarque-Bera (JB):  </th> <td> 568.033</td> \n",
       "</tr>\n",
       "<tr>\n",
       "  <th>Skew:</th>          <td>-1.325</td>  <th>  Prob(JB):          </th> <td>4.50e-124</td>\n",
       "</tr>\n",
       "<tr>\n",
       "  <th>Kurtosis:</th>      <td> 5.833</td>  <th>  Cond. No.          </th> <td>7.60e+03</td> \n",
       "</tr>\n",
       "</table><br/><br/>Notes:<br/>[1] Standard Errors assume that the covariance matrix of the errors is correctly specified.<br/>[2] The condition number is large, 7.6e+03. This might indicate that there are<br/>strong multicollinearity or other numerical problems."
      ],
      "text/plain": [
       "<class 'statsmodels.iolib.summary.Summary'>\n",
       "\"\"\"\n",
       "                            OLS Regression Results                            \n",
       "==============================================================================\n",
       "Dep. Variable:                  price   R-squared:                       0.043\n",
       "Model:                            OLS   Adj. R-squared:                  0.042\n",
       "Method:                 Least Squares   F-statistic:                     40.24\n",
       "Date:                Fri, 17 Feb 2023   Prob (F-statistic):           3.55e-10\n",
       "Time:                        15:16:25   Log-Likelihood:                -12388.\n",
       "No. Observations:                 906   AIC:                         2.478e+04\n",
       "Df Residuals:                     904   BIC:                         2.479e+04\n",
       "Df Model:                           1                                         \n",
       "Covariance Type:            nonrobust                                         \n",
       "===============================================================================\n",
       "                  coef    std err          t      P>|t|      [0.025      0.975]\n",
       "-------------------------------------------------------------------------------\n",
       "const        7.732e+05   2.54e+04     30.401      0.000    7.23e+05    8.23e+05\n",
       "sqft_living    77.3186     12.189      6.343      0.000      53.397     101.241\n",
       "==============================================================================\n",
       "Omnibus:                      229.233   Durbin-Watson:                   1.973\n",
       "Prob(Omnibus):                  0.000   Jarque-Bera (JB):              568.033\n",
       "Skew:                          -1.325   Prob(JB):                    4.50e-124\n",
       "Kurtosis:                       5.833   Cond. No.                     7.60e+03\n",
       "==============================================================================\n",
       "\n",
       "Notes:\n",
       "[1] Standard Errors assume that the covariance matrix of the errors is correctly specified.\n",
       "[2] The condition number is large, 7.6e+03. This might indicate that there are\n",
       "strong multicollinearity or other numerical problems.\n",
       "\"\"\""
      ]
     },
     "execution_count": 54,
     "metadata": {},
     "output_type": "execute_result"
    }
   ],
   "source": [
    "y_fsm = nice_houses['price']\n",
    "x_fsm = nice_houses[['sqft_living']]\n",
    "fsm_data = sm.OLS(y_fsm, sm.add_constant(x_fsm))\n",
    "fsm_results = fsm_data.fit()\n",
    "fsm_results.summary()"
   ]
  },
  {
   "cell_type": "markdown",
   "metadata": {},
   "source": [
    "#### Results -->"
   ]
  },
  {
   "cell_type": "markdown",
   "metadata": {},
   "source": [
    "### The Assumptions of Linear Regression\n",
    ">We have checked for linearity before Models\n",
    "\n",
    ">We have checked for multicollinearity before Models"
   ]
  },
  {
   "cell_type": "code",
   "execution_count": 55,
   "metadata": {},
   "outputs": [],
   "source": [
    "#LinearRegression for y-predictions\n",
    "lr = LinearRegression()\n",
    "lr.fit(x_fsm, y_fsm)\n",
    "y_pred_fsm = lr.predict(x_fsm)"
   ]
  },
  {
   "cell_type": "markdown",
   "metadata": {},
   "source": [
    "##### Checking for Normality"
   ]
  },
  {
   "cell_type": "code",
   "execution_count": 56,
   "metadata": {},
   "outputs": [
    {
     "data": {
      "image/png": "[encoded data removed]",
      "text/plain": [
       "<Figure size 432x288 with 1 Axes>"
      ]
     },
     "metadata": {
      "needs_background": "light"
     },
     "output_type": "display_data"
    }
   ],
   "source": [
    "y_true = nice_houses['price']\n",
    "y_pred = y_pred_fsm\n",
    "fsm_residual = y_true - y_pred\n",
    "sm.qqplot(fsm_residual, line = 'r');"
   ]
  },
  {
   "cell_type": "markdown",
   "metadata": {},
   "source": [
    ">The residuals seem to have a normal distribution"
   ]
  },
  {
   "cell_type": "code",
   "execution_count": 57,
   "metadata": {},
   "outputs": [
    {
     "data": {
      "text/plain": [
       "209833.53357209646"
      ]
     },
     "execution_count": 57,
     "metadata": {},
     "output_type": "execute_result"
    }
   ],
   "source": [
    "#Mean Squared Error\n",
    "y_true = nice_houses['price']\n",
    "y_pred = y_pred_fsm\n",
    "rmse_fsm=(mean_squared_error(y_true,y_pred))**0.5\n",
    "rmse_fsm"
   ]
  },
  {
   "cell_type": "markdown",
   "metadata": {},
   "source": [
    ">MSE tells us that our FSM is $209,833 off while predicting the price"
   ]
  },
  {
   "cell_type": "code",
   "execution_count": 58,
   "metadata": {},
   "outputs": [
    {
     "data": {
      "image/png": "[encoded data removed]",
      "text/plain": [
       "<Figure size 432x288 with 1 Axes>"
      ]
     },
     "metadata": {
      "needs_background": "light"
     },
     "output_type": "display_data"
    }
   ],
   "source": [
    "#Checking if residuals are homoskedastic\n",
    "sns.residplot(x=x_fsm, y=y_fsm)\n",
    "plt.show()"
   ]
  },
  {
   "cell_type": "markdown",
   "metadata": {},
   "source": [
    ">This assumption of linear regression is broken because our residuals are heteroscedastic and biased"
   ]
  },
  {
   "cell_type": "code",
   "execution_count": 59,
   "metadata": {},
   "outputs": [
    {
     "data": {
      "text/plain": [
       "<AxesSubplot:ylabel='price'>"
      ]
     },
     "execution_count": 59,
     "metadata": {},
     "output_type": "execute_result"
    },
    {
     "data": {
      "image/png": "[encoded data removed]",
      "text/plain": [
       "<Figure size 432x288 with 1 Axes>"
      ]
     },
     "metadata": {
      "needs_background": "light"
     },
     "output_type": "display_data"
    }
   ],
   "source": [
    "#Checking to see if residuals are correlated\n",
    "sns.scatterplot(x=y_pred, y=fsm_residual)"
   ]
  },
  {
   "cell_type": "markdown",
   "metadata": {},
   "source": [
    ">No trends in error terms"
   ]
  },
  {
   "cell_type": "markdown",
   "metadata": {},
   "source": [
    "## Model 2 - Redmond"
   ]
  },
  {
   "cell_type": "code",
   "execution_count": 60,
   "metadata": {
    "scrolled": false
   },
   "outputs": [
    {
     "data": {
      "text/html": [
       "<table class=\"simpletable\">\n",
       "<caption>OLS Regression Results</caption>\n",
       "<tr>\n",
       "  <th>Dep. Variable:</th>          <td>price</td>      <th>  R-squared:         </th> <td>   0.121</td> \n",
       "</tr>\n",
       "<tr>\n",
       "  <th>Model:</th>                   <td>OLS</td>       <th>  Adj. R-squared:    </th> <td>   0.116</td> \n",
       "</tr>\n",
       "<tr>\n",
       "  <th>Method:</th>             <td>Least Squares</td>  <th>  F-statistic:       </th> <td>   24.79</td> \n",
       "</tr>\n",
       "<tr>\n",
       "  <th>Date:</th>             <td>Fri, 17 Feb 2023</td> <th>  Prob (F-statistic):</th> <td>1.90e-23</td> \n",
       "</tr>\n",
       "<tr>\n",
       "  <th>Time:</th>                 <td>15:16:57</td>     <th>  Log-Likelihood:    </th> <td> -12349.</td> \n",
       "</tr>\n",
       "<tr>\n",
       "  <th>No. Observations:</th>      <td>   906</td>      <th>  AIC:               </th> <td>2.471e+04</td>\n",
       "</tr>\n",
       "<tr>\n",
       "  <th>Df Residuals:</th>          <td>   900</td>      <th>  BIC:               </th> <td>2.474e+04</td>\n",
       "</tr>\n",
       "<tr>\n",
       "  <th>Df Model:</th>              <td>     5</td>      <th>                     </th>     <td> </td>    \n",
       "</tr>\n",
       "<tr>\n",
       "  <th>Covariance Type:</th>      <td>nonrobust</td>    <th>                     </th>     <td> </td>    \n",
       "</tr>\n",
       "</table>\n",
       "<table class=\"simpletable\">\n",
       "<tr>\n",
       "      <td></td>         <th>coef</th>     <th>std err</th>      <th>t</th>      <th>P>|t|</th>  <th>[0.025</th>    <th>0.975]</th>  \n",
       "</tr>\n",
       "<tr>\n",
       "  <th>const</th>     <td> 3.816e+04</td> <td> 9.09e+04</td> <td>    0.420</td> <td> 0.675</td> <td> -1.4e+05</td> <td> 2.17e+05</td>\n",
       "</tr>\n",
       "<tr>\n",
       "  <th>bedrooms</th>  <td> 3.448e+04</td> <td> 1.05e+04</td> <td>    3.284</td> <td> 0.001</td> <td> 1.39e+04</td> <td> 5.51e+04</td>\n",
       "</tr>\n",
       "<tr>\n",
       "  <th>condition</th> <td> 4.217e+04</td> <td> 9916.694</td> <td>    4.252</td> <td> 0.000</td> <td> 2.27e+04</td> <td> 6.16e+04</td>\n",
       "</tr>\n",
       "<tr>\n",
       "  <th>Redmond</th>   <td> 9.937e+04</td> <td> 1.81e+04</td> <td>    5.488</td> <td> 0.000</td> <td> 6.38e+04</td> <td> 1.35e+05</td>\n",
       "</tr>\n",
       "<tr>\n",
       "  <th>grade</th>     <td> 7.287e+04</td> <td> 1.06e+04</td> <td>    6.871</td> <td> 0.000</td> <td> 5.21e+04</td> <td> 9.37e+04</td>\n",
       "</tr>\n",
       "<tr>\n",
       "  <th>bathrooms</th> <td> 2.178e+04</td> <td> 1.48e+04</td> <td>    1.470</td> <td> 0.142</td> <td>-7304.989</td> <td> 5.09e+04</td>\n",
       "</tr>\n",
       "</table>\n",
       "<table class=\"simpletable\">\n",
       "<tr>\n",
       "  <th>Omnibus:</th>       <td>235.399</td> <th>  Durbin-Watson:     </th> <td>   1.937</td> \n",
       "</tr>\n",
       "<tr>\n",
       "  <th>Prob(Omnibus):</th> <td> 0.000</td>  <th>  Jarque-Bera (JB):  </th> <td> 630.310</td> \n",
       "</tr>\n",
       "<tr>\n",
       "  <th>Skew:</th>          <td>-1.325</td>  <th>  Prob(JB):          </th> <td>1.35e-137</td>\n",
       "</tr>\n",
       "<tr>\n",
       "  <th>Kurtosis:</th>      <td> 6.110</td>  <th>  Cond. No.          </th> <td>    129.</td> \n",
       "</tr>\n",
       "</table><br/><br/>Notes:<br/>[1] Standard Errors assume that the covariance matrix of the errors is correctly specified."
      ],
      "text/plain": [
       "<class 'statsmodels.iolib.summary.Summary'>\n",
       "\"\"\"\n",
       "                            OLS Regression Results                            \n",
       "==============================================================================\n",
       "Dep. Variable:                  price   R-squared:                       0.121\n",
       "Model:                            OLS   Adj. R-squared:                  0.116\n",
       "Method:                 Least Squares   F-statistic:                     24.79\n",
       "Date:                Fri, 17 Feb 2023   Prob (F-statistic):           1.90e-23\n",
       "Time:                        15:16:57   Log-Likelihood:                -12349.\n",
       "No. Observations:                 906   AIC:                         2.471e+04\n",
       "Df Residuals:                     900   BIC:                         2.474e+04\n",
       "Df Model:                           5                                         \n",
       "Covariance Type:            nonrobust                                         \n",
       "==============================================================================\n",
       "                 coef    std err          t      P>|t|      [0.025      0.975]\n",
       "------------------------------------------------------------------------------\n",
       "const       3.816e+04   9.09e+04      0.420      0.675    -1.4e+05    2.17e+05\n",
       "bedrooms    3.448e+04   1.05e+04      3.284      0.001    1.39e+04    5.51e+04\n",
       "condition   4.217e+04   9916.694      4.252      0.000    2.27e+04    6.16e+04\n",
       "Redmond     9.937e+04   1.81e+04      5.488      0.000    6.38e+04    1.35e+05\n",
       "grade       7.287e+04   1.06e+04      6.871      0.000    5.21e+04    9.37e+04\n",
       "bathrooms   2.178e+04   1.48e+04      1.470      0.142   -7304.989    5.09e+04\n",
       "==============================================================================\n",
       "Omnibus:                      235.399   Durbin-Watson:                   1.937\n",
       "Prob(Omnibus):                  0.000   Jarque-Bera (JB):              630.310\n",
       "Skew:                          -1.325   Prob(JB):                    1.35e-137\n",
       "Kurtosis:                       6.110   Cond. No.                         129.\n",
       "==============================================================================\n",
       "\n",
       "Notes:\n",
       "[1] Standard Errors assume that the covariance matrix of the errors is correctly specified.\n",
       "\"\"\""
      ]
     },
     "execution_count": 60,
     "metadata": {},
     "output_type": "execute_result"
    }
   ],
   "source": [
    "y_model2 = nice_houses['price']\n",
    "x_model2 = pd.get_dummies(nice_houses[['bedrooms', 'condition','Redmond', 'grade', 'bathrooms']])\n",
    "model2_data = sm.OLS(y_model2, sm.add_constant(x_model2))\n",
    "model2_results = model2_data.fit()\n",
    "model2_results.summary()"
   ]
  },
  {
   "cell_type": "markdown",
   "metadata": {},
   "source": [
    "### The Assumptions of Linear Regression\n",
    ">We have checked for linearity before Models\n",
    "\n",
    ">We have checked for multicollinearity before Models"
   ]
  },
  {
   "cell_type": "code",
   "execution_count": 61,
   "metadata": {},
   "outputs": [],
   "source": [
    "#LinearRegression for y-predictions\n",
    "lr = LinearRegression()\n",
    "lr.fit(x_model2, y_model2)\n",
    "y_pred_model2 = lr.predict(x_model2)"
   ]
  },
  {
   "cell_type": "markdown",
   "metadata": {},
   "source": [
    "##### Checking for Normality"
   ]
  },
  {
   "cell_type": "code",
   "execution_count": 62,
   "metadata": {},
   "outputs": [
    {
     "data": {
      "image/png": "[encoded data removed]",
      "text/plain": [
       "<Figure size 432x288 with 1 Axes>"
      ]
     },
     "metadata": {
      "needs_background": "light"
     },
     "output_type": "display_data"
    }
   ],
   "source": [
    "y_true2 = nice_houses['price']\n",
    "y_pred2 = y_pred_model2\n",
    "model2_residual = y_true2 - y_pred2\n",
    "sm.qqplot(model2_residual, line = 'r');"
   ]
  },
  {
   "cell_type": "markdown",
   "metadata": {},
   "source": [
    ">The residuals seem to have a normal distribution"
   ]
  },
  {
   "cell_type": "code",
   "execution_count": 63,
   "metadata": {},
   "outputs": [
    {
     "data": {
      "text/plain": [
       "201055.84543174016"
      ]
     },
     "execution_count": 63,
     "metadata": {},
     "output_type": "execute_result"
    }
   ],
   "source": [
    "#Mean Squared Error\n",
    "y_true2 = nice_houses['price']\n",
    "y_pred2 = y_pred_model2\n",
    "rmse_model2=(mean_squared_error(y_true2,y_pred2))**0.5\n",
    "rmse_model2"
   ]
  },
  {
   "cell_type": "markdown",
   "metadata": {},
   "source": [
    ">MSE tells us that our FSM is $201,055 off while predicting the price"
   ]
  },
  {
   "cell_type": "code",
   "execution_count": 64,
   "metadata": {},
   "outputs": [
    {
     "name": "stderr",
     "output_type": "stream",
     "text": [
      "/Users/vincentamadio3/opt/anaconda3/envs/learn-env/lib/python3.8/site-packages/seaborn/_decorators.py:36: FutureWarning: Pass the following variables as keyword args: x, y. From version 0.12, the only valid positional argument will be `data`, and passing other arguments without an explicit keyword will result in an error or misinterpretation.\n",
      "  warnings.warn(\n"
     ]
    },
    {
     "data": {
      "image/png": "[encoded data removed]",
      "text/plain": [
       "<Figure size 432x288 with 1 Axes>"
      ]
     },
     "metadata": {
      "needs_background": "light"
     },
     "output_type": "display_data"
    }
   ],
   "source": [
    "#Checking if residuals are homoskedastic\n",
    "sns.scatterplot (y_model2, model2_residual);"
   ]
  },
  {
   "cell_type": "markdown",
   "metadata": {},
   "source": [
    ">The residuals are homoskedastic and biased"
   ]
  },
  {
   "cell_type": "code",
   "execution_count": 65,
   "metadata": {},
   "outputs": [
    {
     "data": {
      "text/plain": [
       "<AxesSubplot:ylabel='price'>"
      ]
     },
     "execution_count": 65,
     "metadata": {},
     "output_type": "execute_result"
    },
    {
     "data": {
      "image/png": "[encoded data removed]",
      "text/plain": [
       "<Figure size 432x288 with 1 Axes>"
      ]
     },
     "metadata": {
      "needs_background": "light"
     },
     "output_type": "display_data"
    }
   ],
   "source": [
    "#Checking to see if residuals are correlated\n",
    "sns.scatterplot(x=y_pred2, y=model2_residual)"
   ]
  },
  {
   "cell_type": "markdown",
   "metadata": {},
   "source": [
    ">No trends in error terms"
   ]
  },
  {
   "cell_type": "markdown",
   "metadata": {},
   "source": [
    "## Model 3 - North King County"
   ]
  },
  {
   "cell_type": "code",
   "execution_count": 66,
   "metadata": {},
   "outputs": [
    {
     "data": {
      "text/html": [
       "<table class=\"simpletable\">\n",
       "<caption>OLS Regression Results</caption>\n",
       "<tr>\n",
       "  <th>Dep. Variable:</th>          <td>price</td>      <th>  R-squared:         </th> <td>   0.096</td> \n",
       "</tr>\n",
       "<tr>\n",
       "  <th>Model:</th>                   <td>OLS</td>       <th>  Adj. R-squared:    </th> <td>   0.091</td> \n",
       "</tr>\n",
       "<tr>\n",
       "  <th>Method:</th>             <td>Least Squares</td>  <th>  F-statistic:       </th> <td>   19.18</td> \n",
       "</tr>\n",
       "<tr>\n",
       "  <th>Date:</th>             <td>Fri, 17 Feb 2023</td> <th>  Prob (F-statistic):</th> <td>3.58e-18</td> \n",
       "</tr>\n",
       "<tr>\n",
       "  <th>Time:</th>                 <td>15:17:07</td>     <th>  Log-Likelihood:    </th> <td> -12362.</td> \n",
       "</tr>\n",
       "<tr>\n",
       "  <th>No. Observations:</th>      <td>   906</td>      <th>  AIC:               </th> <td>2.474e+04</td>\n",
       "</tr>\n",
       "<tr>\n",
       "  <th>Df Residuals:</th>          <td>   900</td>      <th>  BIC:               </th> <td>2.476e+04</td>\n",
       "</tr>\n",
       "<tr>\n",
       "  <th>Df Model:</th>              <td>     5</td>      <th>                     </th>     <td> </td>    \n",
       "</tr>\n",
       "<tr>\n",
       "  <th>Covariance Type:</th>      <td>nonrobust</td>    <th>                     </th>     <td> </td>    \n",
       "</tr>\n",
       "</table>\n",
       "<table class=\"simpletable\">\n",
       "<tr>\n",
       "      <td></td>         <th>coef</th>     <th>std err</th>      <th>t</th>      <th>P>|t|</th>  <th>[0.025</th>    <th>0.975]</th>  \n",
       "</tr>\n",
       "<tr>\n",
       "  <th>const</th>     <td> 9.052e+04</td> <td> 9.28e+04</td> <td>    0.976</td> <td> 0.329</td> <td>-9.15e+04</td> <td> 2.73e+05</td>\n",
       "</tr>\n",
       "<tr>\n",
       "  <th>North KC</th>  <td>-3.027e+04</td> <td>  1.4e+04</td> <td>   -2.163</td> <td> 0.031</td> <td>-5.77e+04</td> <td>-2800.197</td>\n",
       "</tr>\n",
       "<tr>\n",
       "  <th>bedrooms</th>  <td> 3.696e+04</td> <td> 1.07e+04</td> <td>    3.469</td> <td> 0.001</td> <td> 1.61e+04</td> <td> 5.79e+04</td>\n",
       "</tr>\n",
       "<tr>\n",
       "  <th>bathrooms</th> <td> 9500.7938</td> <td> 1.48e+04</td> <td>    0.641</td> <td> 0.522</td> <td>-1.96e+04</td> <td> 3.86e+04</td>\n",
       "</tr>\n",
       "<tr>\n",
       "  <th>condition</th> <td> 4.599e+04</td> <td>    1e+04</td> <td>    4.585</td> <td> 0.000</td> <td> 2.63e+04</td> <td> 6.57e+04</td>\n",
       "</tr>\n",
       "<tr>\n",
       "  <th>grade</th>     <td> 7.076e+04</td> <td> 1.08e+04</td> <td>    6.540</td> <td> 0.000</td> <td> 4.95e+04</td> <td>  9.2e+04</td>\n",
       "</tr>\n",
       "</table>\n",
       "<table class=\"simpletable\">\n",
       "<tr>\n",
       "  <th>Omnibus:</th>       <td>209.100</td> <th>  Durbin-Watson:     </th> <td>   1.944</td> \n",
       "</tr>\n",
       "<tr>\n",
       "  <th>Prob(Omnibus):</th> <td> 0.000</td>  <th>  Jarque-Bera (JB):  </th> <td> 484.824</td> \n",
       "</tr>\n",
       "<tr>\n",
       "  <th>Skew:</th>          <td>-1.238</td>  <th>  Prob(JB):          </th> <td>5.27e-106</td>\n",
       "</tr>\n",
       "<tr>\n",
       "  <th>Kurtosis:</th>      <td> 5.590</td>  <th>  Cond. No.          </th> <td>    130.</td> \n",
       "</tr>\n",
       "</table><br/><br/>Notes:<br/>[1] Standard Errors assume that the covariance matrix of the errors is correctly specified."
      ],
      "text/plain": [
       "<class 'statsmodels.iolib.summary.Summary'>\n",
       "\"\"\"\n",
       "                            OLS Regression Results                            \n",
       "==============================================================================\n",
       "Dep. Variable:                  price   R-squared:                       0.096\n",
       "Model:                            OLS   Adj. R-squared:                  0.091\n",
       "Method:                 Least Squares   F-statistic:                     19.18\n",
       "Date:                Fri, 17 Feb 2023   Prob (F-statistic):           3.58e-18\n",
       "Time:                        15:17:07   Log-Likelihood:                -12362.\n",
       "No. Observations:                 906   AIC:                         2.474e+04\n",
       "Df Residuals:                     900   BIC:                         2.476e+04\n",
       "Df Model:                           5                                         \n",
       "Covariance Type:            nonrobust                                         \n",
       "==============================================================================\n",
       "                 coef    std err          t      P>|t|      [0.025      0.975]\n",
       "------------------------------------------------------------------------------\n",
       "const       9.052e+04   9.28e+04      0.976      0.329   -9.15e+04    2.73e+05\n",
       "North KC   -3.027e+04    1.4e+04     -2.163      0.031   -5.77e+04   -2800.197\n",
       "bedrooms    3.696e+04   1.07e+04      3.469      0.001    1.61e+04    5.79e+04\n",
       "bathrooms   9500.7938   1.48e+04      0.641      0.522   -1.96e+04    3.86e+04\n",
       "condition   4.599e+04      1e+04      4.585      0.000    2.63e+04    6.57e+04\n",
       "grade       7.076e+04   1.08e+04      6.540      0.000    4.95e+04     9.2e+04\n",
       "==============================================================================\n",
       "Omnibus:                      209.100   Durbin-Watson:                   1.944\n",
       "Prob(Omnibus):                  0.000   Jarque-Bera (JB):              484.824\n",
       "Skew:                          -1.238   Prob(JB):                    5.27e-106\n",
       "Kurtosis:                       5.590   Cond. No.                         130.\n",
       "==============================================================================\n",
       "\n",
       "Notes:\n",
       "[1] Standard Errors assume that the covariance matrix of the errors is correctly specified.\n",
       "\"\"\""
      ]
     },
     "execution_count": 66,
     "metadata": {},
     "output_type": "execute_result"
    }
   ],
   "source": [
    "y_model3 = nice_houses['price']\n",
    "x_model3 = pd.get_dummies(nice_houses[['North KC','bedrooms','bathrooms', 'condition', 'grade']])\n",
    "model3_data = sm.OLS(y_model3, sm.add_constant(x_model3))\n",
    "model3_results = model3_data.fit()\n",
    "model3_results.summary()"
   ]
  },
  {
   "cell_type": "markdown",
   "metadata": {},
   "source": [
    "### Results-->"
   ]
  },
  {
   "cell_type": "markdown",
   "metadata": {},
   "source": [
    "### The Assumptions of Linear Regression\n",
    ">We have checked for linearity before Models\n",
    "\n",
    ">We have checked for multicollinearity before Models"
   ]
  },
  {
   "cell_type": "code",
   "execution_count": 67,
   "metadata": {},
   "outputs": [],
   "source": [
    "#LinearRegression for y-predictions\n",
    "lr = LinearRegression()\n",
    "lr.fit(x_model3, y_model3)\n",
    "y_pred_model3 = lr.predict(x_model3)"
   ]
  },
  {
   "cell_type": "markdown",
   "metadata": {},
   "source": [
    "##### Checking for Normality"
   ]
  },
  {
   "cell_type": "code",
   "execution_count": 68,
   "metadata": {},
   "outputs": [
    {
     "data": {
      "image/png": "[encoded data removed]",
      "text/plain": [
       "<Figure size 432x288 with 1 Axes>"
      ]
     },
     "metadata": {
      "needs_background": "light"
     },
     "output_type": "display_data"
    }
   ],
   "source": [
    "y_true3 = nice_houses['price']\n",
    "y_pred3 = y_pred_model3\n",
    "model3_residual = y_true3 - y_pred3\n",
    "sm.qqplot(model3_residual, line = 'r');"
   ]
  },
  {
   "cell_type": "markdown",
   "metadata": {},
   "source": [
    ">The residuals seem to have a normal distribution"
   ]
  },
  {
   "cell_type": "code",
   "execution_count": 69,
   "metadata": {},
   "outputs": [
    {
     "data": {
      "text/plain": [
       "203863.58270089029"
      ]
     },
     "execution_count": 69,
     "metadata": {},
     "output_type": "execute_result"
    }
   ],
   "source": [
    "#Mean Squared Error\n",
    "y_true3 = nice_houses['price']\n",
    "y_pred3 = y_pred_model3\n",
    "rmse_model3=(mean_squared_error(y_true3,y_pred3))**0.5\n",
    "rmse_model3"
   ]
  },
  {
   "cell_type": "markdown",
   "metadata": {},
   "source": [
    ">MSE tells us that our FSM is $203,863 off while predicting the price"
   ]
  },
  {
   "cell_type": "code",
   "execution_count": 70,
   "metadata": {},
   "outputs": [
    {
     "name": "stderr",
     "output_type": "stream",
     "text": [
      "/Users/vincentamadio3/opt/anaconda3/envs/learn-env/lib/python3.8/site-packages/seaborn/_decorators.py:36: FutureWarning: Pass the following variables as keyword args: x, y. From version 0.12, the only valid positional argument will be `data`, and passing other arguments without an explicit keyword will result in an error or misinterpretation.\n",
      "  warnings.warn(\n"
     ]
    },
    {
     "data": {
      "image/png": "[encoded data removed]",
      "text/plain": [
       "<Figure size 432x288 with 1 Axes>"
      ]
     },
     "metadata": {
      "needs_background": "light"
     },
     "output_type": "display_data"
    }
   ],
   "source": [
    "#Checking if residuals are homoskedastic\n",
    "sns.scatterplot (y_model3, model3_residual);"
   ]
  },
  {
   "cell_type": "markdown",
   "metadata": {},
   "source": [
    ">The residuals are homoskedastic and biased"
   ]
  },
  {
   "cell_type": "code",
   "execution_count": 71,
   "metadata": {},
   "outputs": [
    {
     "data": {
      "text/plain": [
       "<AxesSubplot:ylabel='price'>"
      ]
     },
     "execution_count": 71,
     "metadata": {},
     "output_type": "execute_result"
    },
    {
     "data": {
      "image/png": "[encoded data removed]",
      "text/plain": [
       "<Figure size 432x288 with 1 Axes>"
      ]
     },
     "metadata": {
      "needs_background": "light"
     },
     "output_type": "display_data"
    }
   ],
   "source": [
    "#Checking to see if residuals are correlated\n",
    "sns.scatterplot(x=y_pred3, y=model3_residual)"
   ]
  },
  {
   "cell_type": "markdown",
   "metadata": {},
   "source": [
    ">There seems to be a trend in error terms-Autocorrelation"
   ]
  },
  {
   "cell_type": "markdown",
   "metadata": {},
   "source": [
    "## Model 4 - Newcastle"
   ]
  },
  {
   "cell_type": "code",
   "execution_count": 72,
   "metadata": {},
   "outputs": [
    {
     "data": {
      "text/html": [
       "<table class=\"simpletable\">\n",
       "<caption>OLS Regression Results</caption>\n",
       "<tr>\n",
       "  <th>Dep. Variable:</th>          <td>price</td>      <th>  R-squared:         </th> <td>   0.109</td> \n",
       "</tr>\n",
       "<tr>\n",
       "  <th>Model:</th>                   <td>OLS</td>       <th>  Adj. R-squared:    </th> <td>   0.104</td> \n",
       "</tr>\n",
       "<tr>\n",
       "  <th>Method:</th>             <td>Least Squares</td>  <th>  F-statistic:       </th> <td>   22.03</td> \n",
       "</tr>\n",
       "<tr>\n",
       "  <th>Date:</th>             <td>Fri, 17 Feb 2023</td> <th>  Prob (F-statistic):</th> <td>7.20e-21</td> \n",
       "</tr>\n",
       "<tr>\n",
       "  <th>Time:</th>                 <td>15:17:24</td>     <th>  Log-Likelihood:    </th> <td> -12355.</td> \n",
       "</tr>\n",
       "<tr>\n",
       "  <th>No. Observations:</th>      <td>   906</td>      <th>  AIC:               </th> <td>2.472e+04</td>\n",
       "</tr>\n",
       "<tr>\n",
       "  <th>Df Residuals:</th>          <td>   900</td>      <th>  BIC:               </th> <td>2.475e+04</td>\n",
       "</tr>\n",
       "<tr>\n",
       "  <th>Df Model:</th>              <td>     5</td>      <th>                     </th>     <td> </td>    \n",
       "</tr>\n",
       "<tr>\n",
       "  <th>Covariance Type:</th>      <td>nonrobust</td>    <th>                     </th>     <td> </td>    \n",
       "</tr>\n",
       "</table>\n",
       "<table class=\"simpletable\">\n",
       "<tr>\n",
       "      <td></td>         <th>coef</th>     <th>std err</th>      <th>t</th>      <th>P>|t|</th>  <th>[0.025</th>    <th>0.975]</th>  \n",
       "</tr>\n",
       "<tr>\n",
       "  <th>const</th>     <td> 4.597e+04</td> <td> 9.15e+04</td> <td>    0.502</td> <td> 0.615</td> <td>-1.34e+05</td> <td> 2.26e+05</td>\n",
       "</tr>\n",
       "<tr>\n",
       "  <th>Newcastle</th> <td>-6.444e+04</td> <td> 1.54e+04</td> <td>   -4.198</td> <td> 0.000</td> <td>-9.46e+04</td> <td>-3.43e+04</td>\n",
       "</tr>\n",
       "<tr>\n",
       "  <th>bedrooms</th>  <td> 3.897e+04</td> <td> 1.06e+04</td> <td>    3.679</td> <td> 0.000</td> <td> 1.82e+04</td> <td> 5.98e+04</td>\n",
       "</tr>\n",
       "<tr>\n",
       "  <th>bathrooms</th> <td> 1.076e+04</td> <td> 1.47e+04</td> <td>    0.731</td> <td> 0.465</td> <td>-1.81e+04</td> <td> 3.97e+04</td>\n",
       "</tr>\n",
       "<tr>\n",
       "  <th>condition</th> <td> 4.677e+04</td> <td> 9960.515</td> <td>    4.696</td> <td> 0.000</td> <td> 2.72e+04</td> <td> 6.63e+04</td>\n",
       "</tr>\n",
       "<tr>\n",
       "  <th>grade</th>     <td> 7.564e+04</td> <td> 1.07e+04</td> <td>    7.074</td> <td> 0.000</td> <td> 5.47e+04</td> <td> 9.66e+04</td>\n",
       "</tr>\n",
       "</table>\n",
       "<table class=\"simpletable\">\n",
       "<tr>\n",
       "  <th>Omnibus:</th>       <td>225.303</td> <th>  Durbin-Watson:     </th> <td>   1.917</td> \n",
       "</tr>\n",
       "<tr>\n",
       "  <th>Prob(Omnibus):</th> <td> 0.000</td>  <th>  Jarque-Bera (JB):  </th> <td> 583.708</td> \n",
       "</tr>\n",
       "<tr>\n",
       "  <th>Skew:</th>          <td>-1.282</td>  <th>  Prob(JB):          </th> <td>1.78e-127</td>\n",
       "</tr>\n",
       "<tr>\n",
       "  <th>Kurtosis:</th>      <td> 5.982</td>  <th>  Cond. No.          </th> <td>    129.</td> \n",
       "</tr>\n",
       "</table><br/><br/>Notes:<br/>[1] Standard Errors assume that the covariance matrix of the errors is correctly specified."
      ],
      "text/plain": [
       "<class 'statsmodels.iolib.summary.Summary'>\n",
       "\"\"\"\n",
       "                            OLS Regression Results                            \n",
       "==============================================================================\n",
       "Dep. Variable:                  price   R-squared:                       0.109\n",
       "Model:                            OLS   Adj. R-squared:                  0.104\n",
       "Method:                 Least Squares   F-statistic:                     22.03\n",
       "Date:                Fri, 17 Feb 2023   Prob (F-statistic):           7.20e-21\n",
       "Time:                        15:17:24   Log-Likelihood:                -12355.\n",
       "No. Observations:                 906   AIC:                         2.472e+04\n",
       "Df Residuals:                     900   BIC:                         2.475e+04\n",
       "Df Model:                           5                                         \n",
       "Covariance Type:            nonrobust                                         \n",
       "==============================================================================\n",
       "                 coef    std err          t      P>|t|      [0.025      0.975]\n",
       "------------------------------------------------------------------------------\n",
       "const       4.597e+04   9.15e+04      0.502      0.615   -1.34e+05    2.26e+05\n",
       "Newcastle  -6.444e+04   1.54e+04     -4.198      0.000   -9.46e+04   -3.43e+04\n",
       "bedrooms    3.897e+04   1.06e+04      3.679      0.000    1.82e+04    5.98e+04\n",
       "bathrooms   1.076e+04   1.47e+04      0.731      0.465   -1.81e+04    3.97e+04\n",
       "condition   4.677e+04   9960.515      4.696      0.000    2.72e+04    6.63e+04\n",
       "grade       7.564e+04   1.07e+04      7.074      0.000    5.47e+04    9.66e+04\n",
       "==============================================================================\n",
       "Omnibus:                      225.303   Durbin-Watson:                   1.917\n",
       "Prob(Omnibus):                  0.000   Jarque-Bera (JB):              583.708\n",
       "Skew:                          -1.282   Prob(JB):                    1.78e-127\n",
       "Kurtosis:                       5.982   Cond. No.                         129.\n",
       "==============================================================================\n",
       "\n",
       "Notes:\n",
       "[1] Standard Errors assume that the covariance matrix of the errors is correctly specified.\n",
       "\"\"\""
      ]
     },
     "execution_count": 72,
     "metadata": {},
     "output_type": "execute_result"
    }
   ],
   "source": [
    "y_model4 = nice_houses['price']\n",
    "x_model4 = pd.get_dummies(nice_houses[['Newcastle', 'bedrooms','bathrooms', 'condition', 'grade']])\n",
    "model4_data = sm.OLS(y_model4, sm.add_constant(x_model4))\n",
    "model4_results = model4_data.fit()\n",
    "model4_results.summary()"
   ]
  },
  {
   "cell_type": "markdown",
   "metadata": {},
   "source": [
    "### Results-->"
   ]
  },
  {
   "cell_type": "markdown",
   "metadata": {},
   "source": [
    "### The Assumptions of Linear Regression\n",
    ">We have checked for linearity before Models\n",
    "\n",
    ">We have checked for multicollinearity before Models"
   ]
  },
  {
   "cell_type": "code",
   "execution_count": 73,
   "metadata": {},
   "outputs": [],
   "source": [
    "#LinearRegression for y-predictions\n",
    "lr = LinearRegression()\n",
    "lr.fit(x_model4, y_model4)\n",
    "y_pred_model4 = lr.predict(x_model4)"
   ]
  },
  {
   "cell_type": "markdown",
   "metadata": {},
   "source": [
    "##### Checking for Normality"
   ]
  },
  {
   "cell_type": "code",
   "execution_count": 74,
   "metadata": {},
   "outputs": [
    {
     "data": {
      "image/png": "[encoded data removed]",
      "text/plain": [
       "<Figure size 432x288 with 1 Axes>"
      ]
     },
     "metadata": {
      "needs_background": "light"
     },
     "output_type": "display_data"
    }
   ],
   "source": [
    "y_true4 = nice_houses['price']\n",
    "y_pred4 = y_pred_model4\n",
    "model4_residual = y_true4 - y_pred4\n",
    "sm.qqplot(model4_residual, line = 'r');"
   ]
  },
  {
   "cell_type": "markdown",
   "metadata": {},
   "source": [
    ">The residuals seem to have a normal distribution"
   ]
  },
  {
   "cell_type": "code",
   "execution_count": 75,
   "metadata": {},
   "outputs": [
    {
     "data": {
      "text/plain": [
       "202420.54144755128"
      ]
     },
     "execution_count": 75,
     "metadata": {},
     "output_type": "execute_result"
    }
   ],
   "source": [
    "#Mean Squared Error\n",
    "y_true4 = nice_houses['price']\n",
    "y_pred4 = y_pred_model4\n",
    "rmse_model4=(mean_squared_error(y_true4,y_pred4))**0.5\n",
    "rmse_model4"
   ]
  },
  {
   "cell_type": "markdown",
   "metadata": {},
   "source": [
    ">MSE tells us that our FSM is $204,420 off while predicting the price"
   ]
  },
  {
   "cell_type": "code",
   "execution_count": 76,
   "metadata": {},
   "outputs": [
    {
     "name": "stderr",
     "output_type": "stream",
     "text": [
      "/Users/vincentamadio3/opt/anaconda3/envs/learn-env/lib/python3.8/site-packages/seaborn/_decorators.py:36: FutureWarning: Pass the following variables as keyword args: x, y. From version 0.12, the only valid positional argument will be `data`, and passing other arguments without an explicit keyword will result in an error or misinterpretation.\n",
      "  warnings.warn(\n"
     ]
    },
    {
     "data": {
      "image/png": "[encoded data removed]",
      "text/plain": [
       "<Figure size 432x288 with 1 Axes>"
      ]
     },
     "metadata": {
      "needs_background": "light"
     },
     "output_type": "display_data"
    }
   ],
   "source": [
    "#Checking if residuals are homoskedastic\n",
    "sns.scatterplot (y_model4, model4_residual);"
   ]
  },
  {
   "cell_type": "markdown",
   "metadata": {},
   "source": [
    ">The residuals are homoskedastic and biased"
   ]
  },
  {
   "cell_type": "code",
   "execution_count": 77,
   "metadata": {},
   "outputs": [
    {
     "data": {
      "text/plain": [
       "<AxesSubplot:ylabel='price'>"
      ]
     },
     "execution_count": 77,
     "metadata": {},
     "output_type": "execute_result"
    },
    {
     "data": {
      "image/png": "[encoded data removed]",
      "text/plain": [
       "<Figure size 432x288 with 1 Axes>"
      ]
     },
     "metadata": {
      "needs_background": "light"
     },
     "output_type": "display_data"
    }
   ],
   "source": [
    "#Checking to see if residuals are correlated\n",
    "sns.scatterplot(x=y_pred4, y=model4_residual)"
   ]
  },
  {
   "cell_type": "markdown",
   "metadata": {},
   "source": [
    ">There seems to be a trend in error terms-Autocorrelation"
   ]
  },
  {
   "cell_type": "markdown",
   "metadata": {},
   "source": [
    "## Model 5 - Sammamish"
   ]
  },
  {
   "cell_type": "code",
   "execution_count": 78,
   "metadata": {
    "scrolled": false
   },
   "outputs": [
    {
     "data": {
      "text/html": [
       "<table class=\"simpletable\">\n",
       "<caption>OLS Regression Results</caption>\n",
       "<tr>\n",
       "  <th>Dep. Variable:</th>          <td>price</td>      <th>  R-squared:         </th> <td>   0.098</td> \n",
       "</tr>\n",
       "<tr>\n",
       "  <th>Model:</th>                   <td>OLS</td>       <th>  Adj. R-squared:    </th> <td>   0.093</td> \n",
       "</tr>\n",
       "<tr>\n",
       "  <th>Method:</th>             <td>Least Squares</td>  <th>  F-statistic:       </th> <td>   19.47</td> \n",
       "</tr>\n",
       "<tr>\n",
       "  <th>Date:</th>             <td>Fri, 17 Feb 2023</td> <th>  Prob (F-statistic):</th> <td>1.94e-18</td> \n",
       "</tr>\n",
       "<tr>\n",
       "  <th>Time:</th>                 <td>15:17:36</td>     <th>  Log-Likelihood:    </th> <td> -12361.</td> \n",
       "</tr>\n",
       "<tr>\n",
       "  <th>No. Observations:</th>      <td>   906</td>      <th>  AIC:               </th> <td>2.473e+04</td>\n",
       "</tr>\n",
       "<tr>\n",
       "  <th>Df Residuals:</th>          <td>   900</td>      <th>  BIC:               </th> <td>2.476e+04</td>\n",
       "</tr>\n",
       "<tr>\n",
       "  <th>Df Model:</th>              <td>     5</td>      <th>                     </th>     <td> </td>    \n",
       "</tr>\n",
       "<tr>\n",
       "  <th>Covariance Type:</th>      <td>nonrobust</td>    <th>                     </th>     <td> </td>    \n",
       "</tr>\n",
       "</table>\n",
       "<table class=\"simpletable\">\n",
       "<tr>\n",
       "      <td></td>         <th>coef</th>     <th>std err</th>      <th>t</th>      <th>P>|t|</th>  <th>[0.025</th>    <th>0.975]</th>  \n",
       "</tr>\n",
       "<tr>\n",
       "  <th>const</th>     <td> 5.635e+04</td> <td>  9.2e+04</td> <td>    0.612</td> <td> 0.541</td> <td>-1.24e+05</td> <td> 2.37e+05</td>\n",
       "</tr>\n",
       "<tr>\n",
       "  <th>Sammamish</th> <td> 4.598e+04</td> <td> 1.88e+04</td> <td>    2.439</td> <td> 0.015</td> <td> 8987.192</td> <td>  8.3e+04</td>\n",
       "</tr>\n",
       "<tr>\n",
       "  <th>bedrooms</th>  <td>  4.04e+04</td> <td> 1.08e+04</td> <td>    3.742</td> <td> 0.000</td> <td> 1.92e+04</td> <td> 6.16e+04</td>\n",
       "</tr>\n",
       "<tr>\n",
       "  <th>bathrooms</th> <td> 5473.7020</td> <td> 1.49e+04</td> <td>    0.368</td> <td> 0.713</td> <td>-2.37e+04</td> <td> 3.47e+04</td>\n",
       "</tr>\n",
       "<tr>\n",
       "  <th>condition</th> <td> 4.829e+04</td> <td> 1.01e+04</td> <td>    4.798</td> <td> 0.000</td> <td> 2.85e+04</td> <td>  6.8e+04</td>\n",
       "</tr>\n",
       "<tr>\n",
       "  <th>grade</th>     <td>  7.13e+04</td> <td> 1.08e+04</td> <td>    6.615</td> <td> 0.000</td> <td> 5.01e+04</td> <td> 9.25e+04</td>\n",
       "</tr>\n",
       "</table>\n",
       "<table class=\"simpletable\">\n",
       "<tr>\n",
       "  <th>Omnibus:</th>       <td>207.425</td> <th>  Durbin-Watson:     </th> <td>   1.929</td> \n",
       "</tr>\n",
       "<tr>\n",
       "  <th>Prob(Omnibus):</th> <td> 0.000</td>  <th>  Jarque-Bera (JB):  </th> <td> 486.722</td> \n",
       "</tr>\n",
       "<tr>\n",
       "  <th>Skew:</th>          <td>-1.223</td>  <th>  Prob(JB):          </th> <td>2.04e-106</td>\n",
       "</tr>\n",
       "<tr>\n",
       "  <th>Kurtosis:</th>      <td> 5.629</td>  <th>  Cond. No.          </th> <td>    129.</td> \n",
       "</tr>\n",
       "</table><br/><br/>Notes:<br/>[1] Standard Errors assume that the covariance matrix of the errors is correctly specified."
      ],
      "text/plain": [
       "<class 'statsmodels.iolib.summary.Summary'>\n",
       "\"\"\"\n",
       "                            OLS Regression Results                            \n",
       "==============================================================================\n",
       "Dep. Variable:                  price   R-squared:                       0.098\n",
       "Model:                            OLS   Adj. R-squared:                  0.093\n",
       "Method:                 Least Squares   F-statistic:                     19.47\n",
       "Date:                Fri, 17 Feb 2023   Prob (F-statistic):           1.94e-18\n",
       "Time:                        15:17:36   Log-Likelihood:                -12361.\n",
       "No. Observations:                 906   AIC:                         2.473e+04\n",
       "Df Residuals:                     900   BIC:                         2.476e+04\n",
       "Df Model:                           5                                         \n",
       "Covariance Type:            nonrobust                                         \n",
       "==============================================================================\n",
       "                 coef    std err          t      P>|t|      [0.025      0.975]\n",
       "------------------------------------------------------------------------------\n",
       "const       5.635e+04    9.2e+04      0.612      0.541   -1.24e+05    2.37e+05\n",
       "Sammamish   4.598e+04   1.88e+04      2.439      0.015    8987.192     8.3e+04\n",
       "bedrooms     4.04e+04   1.08e+04      3.742      0.000    1.92e+04    6.16e+04\n",
       "bathrooms   5473.7020   1.49e+04      0.368      0.713   -2.37e+04    3.47e+04\n",
       "condition   4.829e+04   1.01e+04      4.798      0.000    2.85e+04     6.8e+04\n",
       "grade        7.13e+04   1.08e+04      6.615      0.000    5.01e+04    9.25e+04\n",
       "==============================================================================\n",
       "Omnibus:                      207.425   Durbin-Watson:                   1.929\n",
       "Prob(Omnibus):                  0.000   Jarque-Bera (JB):              486.722\n",
       "Skew:                          -1.223   Prob(JB):                    2.04e-106\n",
       "Kurtosis:                       5.629   Cond. No.                         129.\n",
       "==============================================================================\n",
       "\n",
       "Notes:\n",
       "[1] Standard Errors assume that the covariance matrix of the errors is correctly specified.\n",
       "\"\"\""
      ]
     },
     "execution_count": 78,
     "metadata": {},
     "output_type": "execute_result"
    }
   ],
   "source": [
    "#zip sammamish\n",
    "y_model5 = nice_houses['price']\n",
    "x_model5 = pd.get_dummies(nice_houses[['Sammamish', 'bedrooms', 'bathrooms', 'condition', 'grade']])\n",
    "model5_data = sm.OLS(y_model5, sm.add_constant(x_model5))\n",
    "model5_results = model5_data.fit()\n",
    "model5_results.summary()"
   ]
  },
  {
   "cell_type": "markdown",
   "metadata": {},
   "source": [
    "### Results-->"
   ]
  },
  {
   "cell_type": "markdown",
   "metadata": {},
   "source": [
    "### The Assumptions of Linear Regression\n",
    ">We have checked for linearity before Models\n",
    "\n",
    ">We have checked for multicollinearity before Models"
   ]
  },
  {
   "cell_type": "code",
   "execution_count": 79,
   "metadata": {},
   "outputs": [],
   "source": [
    "#LinearRegression for y-predictions\n",
    "lr = LinearRegression()\n",
    "lr.fit(x_model5, y_model5)\n",
    "y_pred_model5 = lr.predict(x_model5)"
   ]
  },
  {
   "cell_type": "markdown",
   "metadata": {},
   "source": [
    "##### Checking for Normality"
   ]
  },
  {
   "cell_type": "code",
   "execution_count": 80,
   "metadata": {},
   "outputs": [
    {
     "data": {
      "image/png": "[encoded data removed]",
      "text/plain": [
       "<Figure size 432x288 with 1 Axes>"
      ]
     },
     "metadata": {
      "needs_background": "light"
     },
     "output_type": "display_data"
    }
   ],
   "source": [
    "y_true5 = nice_houses['price']\n",
    "y_pred5 = y_pred_model5\n",
    "model5_residual = y_true5 - y_pred5\n",
    "sm.qqplot(model5_residual, line = 'r');"
   ]
  },
  {
   "cell_type": "markdown",
   "metadata": {},
   "source": [
    ">The residuals seem to have a normal distribution"
   ]
  },
  {
   "cell_type": "code",
   "execution_count": 81,
   "metadata": {},
   "outputs": [
    {
     "data": {
      "text/plain": [
       "203720.2054725746"
      ]
     },
     "execution_count": 81,
     "metadata": {},
     "output_type": "execute_result"
    }
   ],
   "source": [
    "#Mean Squared Error\n",
    "y_true5 = nice_houses['price']\n",
    "y_pred5 = y_pred_model5\n",
    "rmse_model5=(mean_squared_error(y_true5,y_pred5))**0.5\n",
    "rmse_model5"
   ]
  },
  {
   "cell_type": "markdown",
   "metadata": {},
   "source": [
    ">MSE tells us that our FSM is $203,863 off while predicting the price"
   ]
  },
  {
   "cell_type": "code",
   "execution_count": 82,
   "metadata": {},
   "outputs": [
    {
     "name": "stderr",
     "output_type": "stream",
     "text": [
      "/Users/vincentamadio3/opt/anaconda3/envs/learn-env/lib/python3.8/site-packages/seaborn/_decorators.py:36: FutureWarning: Pass the following variables as keyword args: x, y. From version 0.12, the only valid positional argument will be `data`, and passing other arguments without an explicit keyword will result in an error or misinterpretation.\n",
      "  warnings.warn(\n"
     ]
    },
    {
     "data": {
      "image/png": "[encoded data removed]",
      "text/plain": [
       "<Figure size 432x288 with 1 Axes>"
      ]
     },
     "metadata": {
      "needs_background": "light"
     },
     "output_type": "display_data"
    }
   ],
   "source": [
    "#Checking if residuals are homoskedastic\n",
    "sns.scatterplot (y_model5, model5_residual);"
   ]
  },
  {
   "cell_type": "markdown",
   "metadata": {},
   "source": [
    ">The residuals are homoskedastic and biased"
   ]
  },
  {
   "cell_type": "code",
   "execution_count": 83,
   "metadata": {},
   "outputs": [
    {
     "data": {
      "text/plain": [
       "<AxesSubplot:ylabel='price'>"
      ]
     },
     "execution_count": 83,
     "metadata": {},
     "output_type": "execute_result"
    },
    {
     "data": {
      "image/png": "[encoded data removed]",
      "text/plain": [
       "<Figure size 432x288 with 1 Axes>"
      ]
     },
     "metadata": {
      "needs_background": "light"
     },
     "output_type": "display_data"
    }
   ],
   "source": [
    "#Checking to see if residuals are correlated\n",
    "sns.scatterplot(x=y_pred5, y=model5_residual)"
   ]
  },
  {
   "cell_type": "markdown",
   "metadata": {},
   "source": [
    ">There seems to be a trend in error terms-Autocorrelation"
   ]
  },
  {
   "cell_type": "markdown",
   "metadata": {},
   "source": [
    "# Evaluation"
   ]
  },
  {
   "cell_type": "markdown",
   "metadata": {},
   "source": [
    "### Average Price in King County vs Average Price in Top Areas"
   ]
  },
  {
   "cell_type": "markdown",
   "metadata": {},
   "source": [
    "<figure>\n",
    "    <img src=\"data/avgprice.png\"\n",
    "         align=\"Center\"\n",
    "         width=\"600\"\n",
    "         height=\"300\">\n",
    "</figure>"
   ]
  },
  {
   "cell_type": "markdown",
   "metadata": {},
   "source": [
    "- The graph shows that the average price of houses in Redmond and Sammamish are above the King County average of $928k. Meanwhile, the average price of houses in North King County and Newcastle are below the average for the county."
   ]
  },
  {
   "cell_type": "markdown",
   "metadata": {},
   "source": [
    "### Price of One Bathroom in Top Areas"
   ]
  },
  {
   "cell_type": "markdown",
   "metadata": {},
   "source": [
    "<figure>\n",
    "    <img src=\"data/bathroom.png\"\n",
    "         align=\"Center\"\n",
    "         width=\"600\"\n",
    "         height=\"300\">\n",
    "</figure>"
   ]
  },
  {
   "cell_type": "markdown",
   "metadata": {},
   "source": [
    "- The price of an additional bathroom in Redmond is four times that of Newcastle."
   ]
  },
  {
   "cell_type": "markdown",
   "metadata": {},
   "source": [
    "<figure>\n",
    "    <img src=\"data/grade.png\"\n",
    "         align=\"Center\"\n",
    "         width=\"600\"\n",
    "         height=\"300\">\n",
    "</figure>"
   ]
  },
  {
   "cell_type": "markdown",
   "metadata": {},
   "source": [
    "- We have found that there is minimal variance in the price of grade, condition, and the number of bedrooms when comparing Redmond, Sammamish, North King County, and Newcastle."
   ]
  },
  {
   "cell_type": "markdown",
   "metadata": {},
   "source": [
    "# Conclusion"
   ]
  },
  {
   "cell_type": "markdown",
   "metadata": {},
   "source": [
    "For the purposes for our stakeholder and the business problem they provided, we recommend that they focus on areas with the best school districts: Redmond, Sammamish, North King County, and Newcastle. They should keep in mind that the average price of houses in Redmond and Sammamish are higher than the county average. Furthermore, they should consider adding an extra bathroom. When it comes to grade, condition, and the number of bedrooms, there is minimal variance in price between these features in these four areas. Since we are only looking at houses with a grade 7 to 10, and that are in good condition, these variables should not weigh heavily in their decision making."
   ]
  }
 ],
 "metadata": {
  "kernelspec": {
   "display_name": "Python (learn-env)",
   "language": "python",
   "name": "learn-env"
  },
  "language_info": {
   "codemirror_mode": {
    "name": "ipython",
    "version": 3
   },
   "file_extension": ".py",
   "mimetype": "text/x-python",
   "name": "python",
   "nbconvert_exporter": "python",
   "pygments_lexer": "ipython3",
   "version": "3.8.5"
  }
 },
 "nbformat": 4,
 "nbformat_minor": 4
}
