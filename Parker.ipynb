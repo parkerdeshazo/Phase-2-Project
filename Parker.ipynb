{
<<<<<<< HEAD
 "cells": [
  {
   "cell_type": "code",
   "execution_count": 140,
   "metadata": {
    "id": "krhnz0Cg6mYQ"
   },
   "outputs": [],
   "source": [
    "import pandas as pd\n",
    "import statsmodels.api as sm\n",
    "from statsmodels.formula.api import ols"
   ]
=======
  "cells": [
    {
      "cell_type": "code",
      "source": [
        "import pandas as pd\n",
        "import statsmodels.api as sm\n",
        "from statsmodels.formula.api import ols"
      ],
      "metadata": {
        "id": "krhnz0Cg6mYQ"
      },
      "execution_count": 140,
      "outputs": []
    },
    {
      "cell_type": "code",
      "source": [
        "data = pd.read_csv('/content/Untitled Folder/kc_house_data.csv')"
      ],
      "metadata": {
        "id": "rxOeXmDY6n-x"
      },
      "execution_count": 141,
      "outputs": []
    },
    {
      "cell_type": "code",
      "source": [
        "# Dropping houses with grade \"5 Fair\" and below \n",
        "\n",
        "nice_houses = data.drop(data[data.grade.isin([\"5 Fair\", \"4 Low\", \"3 Poor\", \"2 Substandard\", \"1 Cabin\"])].index)"
      ],
      "metadata": {
        "id": "16kTbbFHojuR"
      },
      "execution_count": 142,
      "outputs": []
    },
    {
      "cell_type": "code",
      "source": [
        "# Dropping houses with no bedrooms\n",
        "\n",
        "nice_houses = nice_houses.loc[(nice_houses['bedrooms']!=0)]"
      ],
      "metadata": {
        "id": "2_wxuh_EqHK4"
      },
      "execution_count": 143,
      "outputs": []
    },
    {
      "cell_type": "code",
      "source": [
        "# Dropping houses with no bathrooms\n",
        "\n",
        "nice_houses = nice_houses.loc[(nice_houses['bathrooms']!=0)]"
      ],
      "metadata": {
        "id": "VMHvNxMtsRPt"
      },
      "execution_count": 144,
      "outputs": []
    },
    {
      "cell_type": "code",
      "source": [
        "# Dropping lat, long, and id columns.\n",
        "\n",
        "nice_houses.drop(columns= ['lat', 'long', 'id'], inplace=True)"
      ],
      "metadata": {
        "colab": {
          "base_uri": "https://localhost:8080/"
        },
        "id": "FT76-ZG0R0fP",
        "outputId": "4e5b30a3-a5b7-4a96-e775-ad892fdfee33"
      },
      "execution_count": 145,
      "outputs": [
        {
          "output_type": "stream",
          "name": "stderr",
          "text": [
            "/usr/local/lib/python3.8/dist-packages/pandas/core/frame.py:4906: SettingWithCopyWarning: \n",
            "A value is trying to be set on a copy of a slice from a DataFrame\n",
            "\n",
            "See the caveats in the documentation: https://pandas.pydata.org/pandas-docs/stable/user_guide/indexing.html#returning-a-view-versus-a-copy\n",
            "  return super().drop(\n"
          ]
        }
      ]
    },
    {
      "cell_type": "code",
      "source": [
        "# Adding zip code column\n",
        "\n",
        "nice_houses['zip'] = nice_houses['address'].str.extract(r'(\\d{5}-?\\d{0,4})')"
      ],
      "metadata": {
        "id": "jgtLYMm_YwAA"
      },
      "execution_count": 146,
      "outputs": []
    },
    {
      "cell_type": "code",
      "source": [
        "# Filtering by zip codes with strong school districts\n",
        "\n",
        "top_school_districts = ['98004', '98005', '98007', '98008', '98039', '98052', '98074', '98033', '98006', '98053', '98034', '98075', '98029', '98027', '98011', '98040', '98028', '98072', '98077', '98059', \n",
        "                        '98155', '98038', '98024', '98065', '98177']\n",
        "\n",
        "nice_houses = nice_houses.loc[nice_houses['zip'].isin(top_school_districts)]\n"
      ],
      "metadata": {
        "id": "TnXtPtUrZU_S"
      },
      "execution_count": 147,
      "outputs": []
    },
    {
      "cell_type": "code",
      "source": [
        "# Filtering by zipe codes in diverse zip codes\n",
        "\n",
        "#diverse_zip_codes =['98188', '98108', '98030', '98118', '98178', '98168', '98003', '98032', '98148', '98057', '98106', '98144', '98031', '98055', '98198', '98146', '98023', \n",
        "                   # '98056', '98002', '98047', '98125', '98092', '98133', '98007', '98058']\n",
        "\n",
        "\n",
        "# nice_houses = nice_houses.loc[nice_houses['zip'].isin(diverse_zip_codes)]\n"
      ],
      "metadata": {
        "id": "7NJ-EKb6cMf5"
      },
      "execution_count": 148,
      "outputs": []
    },
    {
      "cell_type": "code",
      "source": [
        "livingcost_zip_code = ['98074', '98065', '98019', '98052', '98077', '98029', '98075', '98010', '98038', '98053', '98028', \n",
        "                       '98005', '98033', '98034', '98004', '98042', '98006', '98007', '98011', '98045', '98121', '98092', '98039', '98008', '98059']\n",
        "\n",
        "nice_houses = nice_houses.loc[nice_houses['zip'].isin(livingcost_zip_code)]"
      ],
      "metadata": {
        "id": "2GnnNUXefWKK"
      },
      "execution_count": 149,
      "outputs": []
    },
    {
      "cell_type": "code",
      "source": [
        "X = pd.get_dummies(nice_houses['nuisance'])\n",
        "y = nice_houses['price']\n",
        "model= sm.OLS(y,sm.add_constant(X)).fit()\n",
        "\n",
        "model.summary()"
      ],
      "metadata": {
        "colab": {
          "base_uri": "https://localhost:8080/",
          "height": 526
        },
        "id": "XubqDvPDb25x",
        "outputId": "27d478cb-1e48-4c3c-c9b7-700e1e61c537"
      },
      "execution_count": 55,
      "outputs": [
        {
          "output_type": "stream",
          "name": "stderr",
          "text": [
            "/usr/local/lib/python3.8/dist-packages/statsmodels/tsa/tsatools.py:142: FutureWarning: In a future version of pandas all arguments of concat except for the argument 'objs' will be keyword-only\n",
            "  x = pd.concat(x[::order], 1)\n"
          ]
        },
        {
          "output_type": "execute_result",
          "data": {
            "text/plain": [
              "<class 'statsmodels.iolib.summary.Summary'>\n",
              "\"\"\"\n",
              "                            OLS Regression Results                            \n",
              "==============================================================================\n",
              "Dep. Variable:                  price   R-squared:                       0.000\n",
              "Model:                            OLS   Adj. R-squared:                  0.000\n",
              "Method:                 Least Squares   F-statistic:                     2.556\n",
              "Date:                Sat, 11 Feb 2023   Prob (F-statistic):             0.0776\n",
              "Time:                        21:18:46   Log-Likelihood:            -4.4857e+05\n",
              "No. Observations:               29658   AIC:                         8.971e+05\n",
              "Df Residuals:                   29655   BIC:                         8.972e+05\n",
              "Df Model:                           2                                         \n",
              "Covariance Type:            nonrobust                                         \n",
              "==============================================================================\n",
              "                 coef    std err          t      P>|t|      [0.025      0.975]\n",
              "------------------------------------------------------------------------------\n",
              "const      -2.654e+17   7.82e+17     -0.339      0.734    -1.8e+18    1.27e+18\n",
              "NO          2.654e+17   7.82e+17      0.339      0.734   -1.27e+18     1.8e+18\n",
              "YES         2.654e+17   7.82e+17      0.339      0.734   -1.27e+18     1.8e+18\n",
              "==============================================================================\n",
              "Omnibus:                    37294.095   Durbin-Watson:                   1.912\n",
              "Prob(Omnibus):                  0.000   Jarque-Bera (JB):         14185073.576\n",
              "Skew:                           6.587   Prob(JB):                         0.00\n",
              "Kurtosis:                     109.327   Cond. No.                     3.45e+14\n",
              "==============================================================================\n",
              "\n",
              "Notes:\n",
              "[1] Standard Errors assume that the covariance matrix of the errors is correctly specified.\n",
              "[2] The smallest eigenvalue is 4.38e-25. This might indicate that there are\n",
              "strong multicollinearity problems or that the design matrix is singular.\n",
              "\"\"\""
            ],
            "text/html": [
              "<table class=\"simpletable\">\n",
              "<caption>OLS Regression Results</caption>\n",
              "<tr>\n",
              "  <th>Dep. Variable:</th>          <td>price</td>      <th>  R-squared:         </th>  <td>   0.000</td>  \n",
              "</tr>\n",
              "<tr>\n",
              "  <th>Model:</th>                   <td>OLS</td>       <th>  Adj. R-squared:    </th>  <td>   0.000</td>  \n",
              "</tr>\n",
              "<tr>\n",
              "  <th>Method:</th>             <td>Least Squares</td>  <th>  F-statistic:       </th>  <td>   2.556</td>  \n",
              "</tr>\n",
              "<tr>\n",
              "  <th>Date:</th>             <td>Sat, 11 Feb 2023</td> <th>  Prob (F-statistic):</th>   <td>0.0776</td>   \n",
              "</tr>\n",
              "<tr>\n",
              "  <th>Time:</th>                 <td>21:18:46</td>     <th>  Log-Likelihood:    </th> <td>-4.4857e+05</td>\n",
              "</tr>\n",
              "<tr>\n",
              "  <th>No. Observations:</th>      <td> 29658</td>      <th>  AIC:               </th>  <td>8.971e+05</td> \n",
              "</tr>\n",
              "<tr>\n",
              "  <th>Df Residuals:</th>          <td> 29655</td>      <th>  BIC:               </th>  <td>8.972e+05</td> \n",
              "</tr>\n",
              "<tr>\n",
              "  <th>Df Model:</th>              <td>     2</td>      <th>                     </th>      <td> </td>     \n",
              "</tr>\n",
              "<tr>\n",
              "  <th>Covariance Type:</th>      <td>nonrobust</td>    <th>                     </th>      <td> </td>     \n",
              "</tr>\n",
              "</table>\n",
              "<table class=\"simpletable\">\n",
              "<tr>\n",
              "    <td></td>       <th>coef</th>     <th>std err</th>      <th>t</th>      <th>P>|t|</th>  <th>[0.025</th>    <th>0.975]</th>  \n",
              "</tr>\n",
              "<tr>\n",
              "  <th>const</th> <td>-2.654e+17</td> <td> 7.82e+17</td> <td>   -0.339</td> <td> 0.734</td> <td> -1.8e+18</td> <td> 1.27e+18</td>\n",
              "</tr>\n",
              "<tr>\n",
              "  <th>NO</th>    <td> 2.654e+17</td> <td> 7.82e+17</td> <td>    0.339</td> <td> 0.734</td> <td>-1.27e+18</td> <td>  1.8e+18</td>\n",
              "</tr>\n",
              "<tr>\n",
              "  <th>YES</th>   <td> 2.654e+17</td> <td> 7.82e+17</td> <td>    0.339</td> <td> 0.734</td> <td>-1.27e+18</td> <td>  1.8e+18</td>\n",
              "</tr>\n",
              "</table>\n",
              "<table class=\"simpletable\">\n",
              "<tr>\n",
              "  <th>Omnibus:</th>       <td>37294.095</td> <th>  Durbin-Watson:     </th>   <td>   1.912</td>  \n",
              "</tr>\n",
              "<tr>\n",
              "  <th>Prob(Omnibus):</th>  <td> 0.000</td>   <th>  Jarque-Bera (JB):  </th> <td>14185073.576</td>\n",
              "</tr>\n",
              "<tr>\n",
              "  <th>Skew:</th>           <td> 6.587</td>   <th>  Prob(JB):          </th>   <td>    0.00</td>  \n",
              "</tr>\n",
              "<tr>\n",
              "  <th>Kurtosis:</th>       <td>109.327</td>  <th>  Cond. No.          </th>   <td>3.45e+14</td>  \n",
              "</tr>\n",
              "</table><br/><br/>Notes:<br/>[1] Standard Errors assume that the covariance matrix of the errors is correctly specified.<br/>[2] The smallest eigenvalue is 4.38e-25. This might indicate that there are<br/>strong multicollinearity problems or that the design matrix is singular."
            ]
          },
          "metadata": {},
          "execution_count": 55
        }
      ]
    },
    {
      "cell_type": "code",
      "source": [
        "y = nice_houses['price']\n",
        "X = pd.get_dummies(nice_houses[['sewer_system','heat_source','grade','condition']])\n",
        "model= sm.OLS(y,sm.add_constant(X)).fit()\n",
        "\n",
        "model.summary()"
      ],
      "metadata": {
        "colab": {
          "base_uri": "https://localhost:8080/",
          "height": 914
        },
        "id": "wgWGCgksdXIe",
        "outputId": "4ec8e7f2-3737-44fc-f86a-5e53d60d40ac"
      },
      "execution_count": 150,
      "outputs": [
        {
          "output_type": "stream",
          "name": "stderr",
          "text": [
            "/usr/local/lib/python3.8/dist-packages/statsmodels/tsa/tsatools.py:142: FutureWarning: In a future version of pandas all arguments of concat except for the argument 'objs' will be keyword-only\n",
            "  x = pd.concat(x[::order], 1)\n"
          ]
        },
        {
          "output_type": "execute_result",
          "data": {
            "text/plain": [
              "<class 'statsmodels.iolib.summary.Summary'>\n",
              "\"\"\"\n",
              "                            OLS Regression Results                            \n",
              "==============================================================================\n",
              "Dep. Variable:                  price   R-squared:                       0.402\n",
              "Model:                            OLS   Adj. R-squared:                  0.399\n",
              "Method:                 Least Squares   F-statistic:                     121.2\n",
              "Date:                Sat, 11 Feb 2023   Prob (F-statistic):               0.00\n",
              "Time:                        22:08:38   Log-Likelihood:                -50168.\n",
              "No. Observations:                3267   AIC:                         1.004e+05\n",
              "Df Residuals:                    3248   BIC:                         1.005e+05\n",
              "Df Model:                          18                                         \n",
              "Covariance Type:            nonrobust                                         \n",
              "===================================================================================================\n",
              "                                      coef    std err          t      P>|t|      [0.025      0.975]\n",
              "---------------------------------------------------------------------------------------------------\n",
              "const                            2.561e+06   5.43e+05      4.716      0.000     1.5e+06    3.63e+06\n",
              "sewer_system_PRIVATE            -6.462e+05   8.06e+05     -0.802      0.423   -2.23e+06    9.33e+05\n",
              "sewer_system_PRIVATE RESTRICTED -2.127e+05   1.39e+06     -0.153      0.878   -2.94e+06    2.51e+06\n",
              "sewer_system_PUBLIC             -4.216e+05   8.03e+05     -0.525      0.600      -2e+06    1.15e+06\n",
              "heat_source_Electricity          1.221e+05   2.17e+05      0.563      0.574   -3.03e+05    5.48e+05\n",
              "heat_source_Electricity/Solar   -3.061e+05   4.74e+05     -0.645      0.519   -1.24e+06    6.24e+05\n",
              "heat_source_Gas                  1.391e+05   2.11e+05      0.658      0.511   -2.75e+05    5.54e+05\n",
              "heat_source_Gas/Solar            2.356e+04   3.38e+05      0.070      0.944   -6.39e+05    6.86e+05\n",
              "heat_source_Oil                  5.706e+05   2.27e+05      2.517      0.012    1.26e+05    1.02e+06\n",
              "heat_source_Other                2.011e+06   9.74e+05      2.064      0.039    1.01e+05    3.92e+06\n",
              "grade_10 Very Good              -1.607e+05   9.96e+04     -1.613      0.107   -3.56e+05    3.46e+04\n",
              "grade_11 Excellent               1.263e+06   1.19e+05     10.570      0.000    1.03e+06     1.5e+06\n",
              "grade_12 Luxury                  3.926e+06   1.77e+05     22.216      0.000    3.58e+06    4.27e+06\n",
              "grade_13 Mansion                 3.081e+06   3.62e+05      8.505      0.000    2.37e+06    3.79e+06\n",
              "grade_6 Low Average             -1.563e+06   1.38e+05    -11.325      0.000   -1.83e+06   -1.29e+06\n",
              "grade_7 Average                 -1.737e+06   9.35e+04    -18.584      0.000   -1.92e+06   -1.55e+06\n",
              "grade_8 Good                      -1.4e+06   9.26e+04    -15.126      0.000   -1.58e+06   -1.22e+06\n",
              "grade_9 Better                   -8.48e+05   9.51e+04     -8.919      0.000   -1.03e+06   -6.62e+05\n",
              "condition_Average                6.109e+05   1.52e+05      4.012      0.000    3.12e+05    9.09e+05\n",
              "condition_Fair                   4.855e+05   2.85e+05      1.706      0.088   -7.24e+04    1.04e+06\n",
              "condition_Good                   6.566e+05   1.54e+05      4.259      0.000    3.54e+05    9.59e+05\n",
              "condition_Very Good              8.078e+05    1.6e+05      5.056      0.000    4.95e+05    1.12e+06\n",
              "==============================================================================\n",
              "Omnibus:                     3216.303   Durbin-Watson:                   1.991\n",
              "Prob(Omnibus):                  0.000   Jarque-Bera (JB):           327024.550\n",
              "Skew:                           4.500   Prob(JB):                         0.00\n",
              "Kurtosis:                      51.181   Cond. No.                     4.49e+15\n",
              "==============================================================================\n",
              "\n",
              "Notes:\n",
              "[1] Standard Errors assume that the covariance matrix of the errors is correctly specified.\n",
              "[2] The smallest eigenvalue is 5.42e-28. This might indicate that there are\n",
              "strong multicollinearity problems or that the design matrix is singular.\n",
              "\"\"\""
            ],
            "text/html": [
              "<table class=\"simpletable\">\n",
              "<caption>OLS Regression Results</caption>\n",
              "<tr>\n",
              "  <th>Dep. Variable:</th>          <td>price</td>      <th>  R-squared:         </th> <td>   0.402</td> \n",
              "</tr>\n",
              "<tr>\n",
              "  <th>Model:</th>                   <td>OLS</td>       <th>  Adj. R-squared:    </th> <td>   0.399</td> \n",
              "</tr>\n",
              "<tr>\n",
              "  <th>Method:</th>             <td>Least Squares</td>  <th>  F-statistic:       </th> <td>   121.2</td> \n",
              "</tr>\n",
              "<tr>\n",
              "  <th>Date:</th>             <td>Sat, 11 Feb 2023</td> <th>  Prob (F-statistic):</th>  <td>  0.00</td>  \n",
              "</tr>\n",
              "<tr>\n",
              "  <th>Time:</th>                 <td>22:08:38</td>     <th>  Log-Likelihood:    </th> <td> -50168.</td> \n",
              "</tr>\n",
              "<tr>\n",
              "  <th>No. Observations:</th>      <td>  3267</td>      <th>  AIC:               </th> <td>1.004e+05</td>\n",
              "</tr>\n",
              "<tr>\n",
              "  <th>Df Residuals:</th>          <td>  3248</td>      <th>  BIC:               </th> <td>1.005e+05</td>\n",
              "</tr>\n",
              "<tr>\n",
              "  <th>Df Model:</th>              <td>    18</td>      <th>                     </th>     <td> </td>    \n",
              "</tr>\n",
              "<tr>\n",
              "  <th>Covariance Type:</th>      <td>nonrobust</td>    <th>                     </th>     <td> </td>    \n",
              "</tr>\n",
              "</table>\n",
              "<table class=\"simpletable\">\n",
              "<tr>\n",
              "                 <td></td>                    <th>coef</th>     <th>std err</th>      <th>t</th>      <th>P>|t|</th>  <th>[0.025</th>    <th>0.975]</th>  \n",
              "</tr>\n",
              "<tr>\n",
              "  <th>const</th>                           <td> 2.561e+06</td> <td> 5.43e+05</td> <td>    4.716</td> <td> 0.000</td> <td>  1.5e+06</td> <td> 3.63e+06</td>\n",
              "</tr>\n",
              "<tr>\n",
              "  <th>sewer_system_PRIVATE</th>            <td>-6.462e+05</td> <td> 8.06e+05</td> <td>   -0.802</td> <td> 0.423</td> <td>-2.23e+06</td> <td> 9.33e+05</td>\n",
              "</tr>\n",
              "<tr>\n",
              "  <th>sewer_system_PRIVATE RESTRICTED</th> <td>-2.127e+05</td> <td> 1.39e+06</td> <td>   -0.153</td> <td> 0.878</td> <td>-2.94e+06</td> <td> 2.51e+06</td>\n",
              "</tr>\n",
              "<tr>\n",
              "  <th>sewer_system_PUBLIC</th>             <td>-4.216e+05</td> <td> 8.03e+05</td> <td>   -0.525</td> <td> 0.600</td> <td>   -2e+06</td> <td> 1.15e+06</td>\n",
              "</tr>\n",
              "<tr>\n",
              "  <th>heat_source_Electricity</th>         <td> 1.221e+05</td> <td> 2.17e+05</td> <td>    0.563</td> <td> 0.574</td> <td>-3.03e+05</td> <td> 5.48e+05</td>\n",
              "</tr>\n",
              "<tr>\n",
              "  <th>heat_source_Electricity/Solar</th>   <td>-3.061e+05</td> <td> 4.74e+05</td> <td>   -0.645</td> <td> 0.519</td> <td>-1.24e+06</td> <td> 6.24e+05</td>\n",
              "</tr>\n",
              "<tr>\n",
              "  <th>heat_source_Gas</th>                 <td> 1.391e+05</td> <td> 2.11e+05</td> <td>    0.658</td> <td> 0.511</td> <td>-2.75e+05</td> <td> 5.54e+05</td>\n",
              "</tr>\n",
              "<tr>\n",
              "  <th>heat_source_Gas/Solar</th>           <td> 2.356e+04</td> <td> 3.38e+05</td> <td>    0.070</td> <td> 0.944</td> <td>-6.39e+05</td> <td> 6.86e+05</td>\n",
              "</tr>\n",
              "<tr>\n",
              "  <th>heat_source_Oil</th>                 <td> 5.706e+05</td> <td> 2.27e+05</td> <td>    2.517</td> <td> 0.012</td> <td> 1.26e+05</td> <td> 1.02e+06</td>\n",
              "</tr>\n",
              "<tr>\n",
              "  <th>heat_source_Other</th>               <td> 2.011e+06</td> <td> 9.74e+05</td> <td>    2.064</td> <td> 0.039</td> <td> 1.01e+05</td> <td> 3.92e+06</td>\n",
              "</tr>\n",
              "<tr>\n",
              "  <th>grade_10 Very Good</th>              <td>-1.607e+05</td> <td> 9.96e+04</td> <td>   -1.613</td> <td> 0.107</td> <td>-3.56e+05</td> <td> 3.46e+04</td>\n",
              "</tr>\n",
              "<tr>\n",
              "  <th>grade_11 Excellent</th>              <td> 1.263e+06</td> <td> 1.19e+05</td> <td>   10.570</td> <td> 0.000</td> <td> 1.03e+06</td> <td>  1.5e+06</td>\n",
              "</tr>\n",
              "<tr>\n",
              "  <th>grade_12 Luxury</th>                 <td> 3.926e+06</td> <td> 1.77e+05</td> <td>   22.216</td> <td> 0.000</td> <td> 3.58e+06</td> <td> 4.27e+06</td>\n",
              "</tr>\n",
              "<tr>\n",
              "  <th>grade_13 Mansion</th>                <td> 3.081e+06</td> <td> 3.62e+05</td> <td>    8.505</td> <td> 0.000</td> <td> 2.37e+06</td> <td> 3.79e+06</td>\n",
              "</tr>\n",
              "<tr>\n",
              "  <th>grade_6 Low Average</th>             <td>-1.563e+06</td> <td> 1.38e+05</td> <td>  -11.325</td> <td> 0.000</td> <td>-1.83e+06</td> <td>-1.29e+06</td>\n",
              "</tr>\n",
              "<tr>\n",
              "  <th>grade_7 Average</th>                 <td>-1.737e+06</td> <td> 9.35e+04</td> <td>  -18.584</td> <td> 0.000</td> <td>-1.92e+06</td> <td>-1.55e+06</td>\n",
              "</tr>\n",
              "<tr>\n",
              "  <th>grade_8 Good</th>                    <td>  -1.4e+06</td> <td> 9.26e+04</td> <td>  -15.126</td> <td> 0.000</td> <td>-1.58e+06</td> <td>-1.22e+06</td>\n",
              "</tr>\n",
              "<tr>\n",
              "  <th>grade_9 Better</th>                  <td> -8.48e+05</td> <td> 9.51e+04</td> <td>   -8.919</td> <td> 0.000</td> <td>-1.03e+06</td> <td>-6.62e+05</td>\n",
              "</tr>\n",
              "<tr>\n",
              "  <th>condition_Average</th>               <td> 6.109e+05</td> <td> 1.52e+05</td> <td>    4.012</td> <td> 0.000</td> <td> 3.12e+05</td> <td> 9.09e+05</td>\n",
              "</tr>\n",
              "<tr>\n",
              "  <th>condition_Fair</th>                  <td> 4.855e+05</td> <td> 2.85e+05</td> <td>    1.706</td> <td> 0.088</td> <td>-7.24e+04</td> <td> 1.04e+06</td>\n",
              "</tr>\n",
              "<tr>\n",
              "  <th>condition_Good</th>                  <td> 6.566e+05</td> <td> 1.54e+05</td> <td>    4.259</td> <td> 0.000</td> <td> 3.54e+05</td> <td> 9.59e+05</td>\n",
              "</tr>\n",
              "<tr>\n",
              "  <th>condition_Very Good</th>             <td> 8.078e+05</td> <td>  1.6e+05</td> <td>    5.056</td> <td> 0.000</td> <td> 4.95e+05</td> <td> 1.12e+06</td>\n",
              "</tr>\n",
              "</table>\n",
              "<table class=\"simpletable\">\n",
              "<tr>\n",
              "  <th>Omnibus:</th>       <td>3216.303</td> <th>  Durbin-Watson:     </th>  <td>   1.991</td> \n",
              "</tr>\n",
              "<tr>\n",
              "  <th>Prob(Omnibus):</th>  <td> 0.000</td>  <th>  Jarque-Bera (JB):  </th> <td>327024.550</td>\n",
              "</tr>\n",
              "<tr>\n",
              "  <th>Skew:</th>           <td> 4.500</td>  <th>  Prob(JB):          </th>  <td>    0.00</td> \n",
              "</tr>\n",
              "<tr>\n",
              "  <th>Kurtosis:</th>       <td>51.181</td>  <th>  Cond. No.          </th>  <td>4.49e+15</td> \n",
              "</tr>\n",
              "</table><br/><br/>Notes:<br/>[1] Standard Errors assume that the covariance matrix of the errors is correctly specified.<br/>[2] The smallest eigenvalue is 5.42e-28. This might indicate that there are<br/>strong multicollinearity problems or that the design matrix is singular."
            ]
          },
          "metadata": {},
          "execution_count": 150
        }
      ]
    },
    {
      "cell_type": "code",
      "source": [
        "list_livingcost_zip: [98074, 98065, 98019, 98052, 98077, 98029, 98075, 98010, 98038, 98053, 98028, 98005, 98033, 98034, 98004, 98042, 98006, 98007, 98011, 98045, 98121, 98092, 98039, 98008, 98059]"
      ],
      "metadata": {
        "id": "WvnG0WT9aUu7"
      },
      "execution_count": null,
      "outputs": []
    },
    {
      "cell_type": "code",
      "source": [
        "#top_zip_code = [98004, 98005, 98007, 98008, 98039, 98052, 98074, 98033, 98006, 98053, 98034, 98075, 98029, 98027, 98011, 98040, 98028, 98072, 98077, 98059, 98155, 98038, 98024, 98065, 98177, 98188, 98108, 98030, 98118, 98178, 98168, 98003, 98032, 98148, 98057, 98106, 98144, 98031, 98055, 98198, 98146, 98023, 98056, 98002,\n",
        "                #98047, 98125, 98092, 98133, 98007, 98058, 98074, 98065, 98019, 98052, 98077, 98029, 98075, 98010, 98038, 98053, 98028, 98005, 98033, 98034, 98004, 98042, 98006, 98007, 98011, 98045, 98121, 98092, 98039, 98008, 98059]"
      ],
      "metadata": {
        "id": "zIMieG3R7gYR"
      },
      "execution_count": 1,
      "outputs": []
    },
    {
      "cell_type": "code",
      "source": [
        "Making changes to notebook"
      ],
      "metadata": {
        "colab": {
          "base_uri": "https://localhost:8080/",
          "height": 135
        },
        "id": "6t73X6fGmiIG",
        "outputId": "4f172998-6487-486a-933c-5d97141f4e54"
      },
      "execution_count": 1,
      "outputs": [
        {
          "output_type": "error",
          "ename": "SyntaxError",
          "evalue": "ignored",
          "traceback": [
            "\u001b[0;36m  File \u001b[0;32m\"<ipython-input-1-e7e838fbd300>\"\u001b[0;36m, line \u001b[0;32m1\u001b[0m\n\u001b[0;31m    Making changes to notebook\u001b[0m\n\u001b[0m           ^\u001b[0m\n\u001b[0;31mSyntaxError\u001b[0m\u001b[0;31m:\u001b[0m invalid syntax\n"
          ]
        }
      ]
    },
    {
      "cell_type": "code",
      "source": [],
      "metadata": {
        "id": "cQ7XrakRmkIk"
      },
      "execution_count": null,
      "outputs": []
    }
  ],
  "metadata": {
    "colab": {
      "provenance": []
    },
    "language_info": {
      "name": "python"
    },
    "kernelspec": {
      "name": "python3",
      "display_name": "Python 3"
    },
    "gpuClass": "standard"
>>>>>>> f1d7cfe22b6ed8fb62942b8c507a300400183695
  },
  {
   "cell_type": "code",
   "execution_count": 141,
   "metadata": {
    "id": "rxOeXmDY6n-x"
   },
   "outputs": [],
   "source": [
    "data = pd.read_csv('/content/Untitled Folder/kc_house_data.csv')"
   ]
  },
  {
   "cell_type": "code",
   "execution_count": 142,
   "metadata": {
    "id": "16kTbbFHojuR"
   },
   "outputs": [],
   "source": [
    "# Dropping houses with grade \"5 Fair\" and below \n",
    "\n",
    "nice_houses = data.drop(data[data.grade.isin([\"5 Fair\", \"4 Low\", \"3 Poor\", \"2 Substandard\", \"1 Cabin\"])].index)"
   ]
  },
  {
   "cell_type": "code",
   "execution_count": 143,
   "metadata": {
    "id": "2_wxuh_EqHK4"
   },
   "outputs": [],
   "source": [
    "# Dropping houses with no bedrooms\n",
    "\n",
    "nice_houses = nice_houses.loc[(nice_houses['bedrooms']!=0)]"
   ]
  },
  {
   "cell_type": "code",
   "execution_count": 144,
   "metadata": {
    "id": "VMHvNxMtsRPt"
   },
   "outputs": [],
   "source": [
    "# Dropping houses with no bathrooms\n",
    "\n",
    "nice_houses = nice_houses.loc[(nice_houses['bathrooms']!=0)]"
   ]
  },
  {
   "cell_type": "code",
   "execution_count": 145,
   "metadata": {
    "colab": {
     "base_uri": "https://localhost:8080/"
    },
    "id": "FT76-ZG0R0fP",
    "outputId": "4e5b30a3-a5b7-4a96-e775-ad892fdfee33"
   },
   "outputs": [
    {
     "name": "stderr",
     "output_type": "stream",
     "text": [
      "/usr/local/lib/python3.8/dist-packages/pandas/core/frame.py:4906: SettingWithCopyWarning: \n",
      "A value is trying to be set on a copy of a slice from a DataFrame\n",
      "\n",
      "See the caveats in the documentation: https://pandas.pydata.org/pandas-docs/stable/user_guide/indexing.html#returning-a-view-versus-a-copy\n",
      "  return super().drop(\n"
     ]
    }
   ],
   "source": [
    "# Dropping lat, long, and id columns.\n",
    "\n",
    "nice_houses.drop(columns= ['lat', 'long', 'id'], inplace=True)"
   ]
  },
  {
   "cell_type": "code",
   "execution_count": 146,
   "metadata": {
    "id": "jgtLYMm_YwAA"
   },
   "outputs": [],
   "source": [
    "# Adding zip code column\n",
    "\n",
    "nice_houses['zip'] = nice_houses['address'].str.extract(r'(\\d{5}-?\\d{0,4})')"
   ]
  },
  {
   "cell_type": "code",
   "execution_count": 147,
   "metadata": {
    "id": "TnXtPtUrZU_S"
   },
   "outputs": [],
   "source": [
    "# Filtering by zip codes with strong school districts\n",
    "\n",
    "top_school_districts = ['98004', '98005', '98007', '98008', '98039', '98052', '98074', '98033', '98006', '98053', '98034', '98075', '98029', '98027', '98011', '98040', '98028', '98072', '98077', '98059', \n",
    "                        '98155', '98038', '98024', '98065', '98177']\n",
    "\n",
    "nice_houses = nice_houses.loc[nice_houses['zip'].isin(top_school_districts)]\n"
   ]
  },
  {
   "cell_type": "code",
   "execution_count": 148,
   "metadata": {
    "id": "7NJ-EKb6cMf5"
   },
   "outputs": [],
   "source": [
    "# Filtering by zipe codes in diverse zip codes\n",
    "\n",
    "#diverse_zip_codes =['98188', '98108', '98030', '98118', '98178', '98168', '98003', '98032', '98148', '98057', '98106', '98144', '98031', '98055', '98198', '98146', '98023', \n",
    "                   # '98056', '98002', '98047', '98125', '98092', '98133', '98007', '98058']\n",
    "\n",
    "\n",
    "# nice_houses = nice_houses.loc[nice_houses['zip'].isin(diverse_zip_codes)]\n"
   ]
  },
  {
   "cell_type": "code",
   "execution_count": 149,
   "metadata": {
    "id": "2GnnNUXefWKK"
   },
   "outputs": [],
   "source": [
    "livingcost_zip_code = ['98074', '98065', '98019', '98052', '98077', '98029', '98075', '98010', '98038', '98053', '98028', \n",
    "                       '98005', '98033', '98034', '98004', '98042', '98006', '98007', '98011', '98045', '98121', '98092', '98039', '98008', '98059']\n",
    "\n",
    "nice_houses = nice_houses.loc[nice_houses['zip'].isin(livingcost_zip_code)]"
   ]
  },
  {
   "cell_type": "code",
   "execution_count": 55,
   "metadata": {
    "colab": {
     "base_uri": "https://localhost:8080/",
     "height": 526
    },
    "id": "XubqDvPDb25x",
    "outputId": "27d478cb-1e48-4c3c-c9b7-700e1e61c537"
   },
   "outputs": [
    {
     "name": "stderr",
     "output_type": "stream",
     "text": [
      "/usr/local/lib/python3.8/dist-packages/statsmodels/tsa/tsatools.py:142: FutureWarning: In a future version of pandas all arguments of concat except for the argument 'objs' will be keyword-only\n",
      "  x = pd.concat(x[::order], 1)\n"
     ]
    },
    {
     "data": {
      "text/html": [
       "<table class=\"simpletable\">\n",
       "<caption>OLS Regression Results</caption>\n",
       "<tr>\n",
       "  <th>Dep. Variable:</th>          <td>price</td>      <th>  R-squared:         </th>  <td>   0.000</td>  \n",
       "</tr>\n",
       "<tr>\n",
       "  <th>Model:</th>                   <td>OLS</td>       <th>  Adj. R-squared:    </th>  <td>   0.000</td>  \n",
       "</tr>\n",
       "<tr>\n",
       "  <th>Method:</th>             <td>Least Squares</td>  <th>  F-statistic:       </th>  <td>   2.556</td>  \n",
       "</tr>\n",
       "<tr>\n",
       "  <th>Date:</th>             <td>Sat, 11 Feb 2023</td> <th>  Prob (F-statistic):</th>   <td>0.0776</td>   \n",
       "</tr>\n",
       "<tr>\n",
       "  <th>Time:</th>                 <td>21:18:46</td>     <th>  Log-Likelihood:    </th> <td>-4.4857e+05</td>\n",
       "</tr>\n",
       "<tr>\n",
       "  <th>No. Observations:</th>      <td> 29658</td>      <th>  AIC:               </th>  <td>8.971e+05</td> \n",
       "</tr>\n",
       "<tr>\n",
       "  <th>Df Residuals:</th>          <td> 29655</td>      <th>  BIC:               </th>  <td>8.972e+05</td> \n",
       "</tr>\n",
       "<tr>\n",
       "  <th>Df Model:</th>              <td>     2</td>      <th>                     </th>      <td> </td>     \n",
       "</tr>\n",
       "<tr>\n",
       "  <th>Covariance Type:</th>      <td>nonrobust</td>    <th>                     </th>      <td> </td>     \n",
       "</tr>\n",
       "</table>\n",
       "<table class=\"simpletable\">\n",
       "<tr>\n",
       "    <td></td>       <th>coef</th>     <th>std err</th>      <th>t</th>      <th>P>|t|</th>  <th>[0.025</th>    <th>0.975]</th>  \n",
       "</tr>\n",
       "<tr>\n",
       "  <th>const</th> <td>-2.654e+17</td> <td> 7.82e+17</td> <td>   -0.339</td> <td> 0.734</td> <td> -1.8e+18</td> <td> 1.27e+18</td>\n",
       "</tr>\n",
       "<tr>\n",
       "  <th>NO</th>    <td> 2.654e+17</td> <td> 7.82e+17</td> <td>    0.339</td> <td> 0.734</td> <td>-1.27e+18</td> <td>  1.8e+18</td>\n",
       "</tr>\n",
       "<tr>\n",
       "  <th>YES</th>   <td> 2.654e+17</td> <td> 7.82e+17</td> <td>    0.339</td> <td> 0.734</td> <td>-1.27e+18</td> <td>  1.8e+18</td>\n",
       "</tr>\n",
       "</table>\n",
       "<table class=\"simpletable\">\n",
       "<tr>\n",
       "  <th>Omnibus:</th>       <td>37294.095</td> <th>  Durbin-Watson:     </th>   <td>   1.912</td>  \n",
       "</tr>\n",
       "<tr>\n",
       "  <th>Prob(Omnibus):</th>  <td> 0.000</td>   <th>  Jarque-Bera (JB):  </th> <td>14185073.576</td>\n",
       "</tr>\n",
       "<tr>\n",
       "  <th>Skew:</th>           <td> 6.587</td>   <th>  Prob(JB):          </th>   <td>    0.00</td>  \n",
       "</tr>\n",
       "<tr>\n",
       "  <th>Kurtosis:</th>       <td>109.327</td>  <th>  Cond. No.          </th>   <td>3.45e+14</td>  \n",
       "</tr>\n",
       "</table><br/><br/>Notes:<br/>[1] Standard Errors assume that the covariance matrix of the errors is correctly specified.<br/>[2] The smallest eigenvalue is 4.38e-25. This might indicate that there are<br/>strong multicollinearity problems or that the design matrix is singular."
      ],
      "text/plain": [
       "<class 'statsmodels.iolib.summary.Summary'>\n",
       "\"\"\"\n",
       "                            OLS Regression Results                            \n",
       "==============================================================================\n",
       "Dep. Variable:                  price   R-squared:                       0.000\n",
       "Model:                            OLS   Adj. R-squared:                  0.000\n",
       "Method:                 Least Squares   F-statistic:                     2.556\n",
       "Date:                Sat, 11 Feb 2023   Prob (F-statistic):             0.0776\n",
       "Time:                        21:18:46   Log-Likelihood:            -4.4857e+05\n",
       "No. Observations:               29658   AIC:                         8.971e+05\n",
       "Df Residuals:                   29655   BIC:                         8.972e+05\n",
       "Df Model:                           2                                         \n",
       "Covariance Type:            nonrobust                                         \n",
       "==============================================================================\n",
       "                 coef    std err          t      P>|t|      [0.025      0.975]\n",
       "------------------------------------------------------------------------------\n",
       "const      -2.654e+17   7.82e+17     -0.339      0.734    -1.8e+18    1.27e+18\n",
       "NO          2.654e+17   7.82e+17      0.339      0.734   -1.27e+18     1.8e+18\n",
       "YES         2.654e+17   7.82e+17      0.339      0.734   -1.27e+18     1.8e+18\n",
       "==============================================================================\n",
       "Omnibus:                    37294.095   Durbin-Watson:                   1.912\n",
       "Prob(Omnibus):                  0.000   Jarque-Bera (JB):         14185073.576\n",
       "Skew:                           6.587   Prob(JB):                         0.00\n",
       "Kurtosis:                     109.327   Cond. No.                     3.45e+14\n",
       "==============================================================================\n",
       "\n",
       "Notes:\n",
       "[1] Standard Errors assume that the covariance matrix of the errors is correctly specified.\n",
       "[2] The smallest eigenvalue is 4.38e-25. This might indicate that there are\n",
       "strong multicollinearity problems or that the design matrix is singular.\n",
       "\"\"\""
      ]
     },
     "execution_count": 55,
     "metadata": {},
     "output_type": "execute_result"
    }
   ],
   "source": [
    "X = pd.get_dummies(nice_houses['nuisance'])\n",
    "y = nice_houses['price']\n",
    "model= sm.OLS(y,sm.add_constant(X)).fit()\n",
    "\n",
    "model.summary()"
   ]
  },
  {
   "cell_type": "code",
   "execution_count": 150,
   "metadata": {
    "colab": {
     "base_uri": "https://localhost:8080/",
     "height": 914
    },
    "id": "wgWGCgksdXIe",
    "outputId": "4ec8e7f2-3737-44fc-f86a-5e53d60d40ac"
   },
   "outputs": [
    {
     "name": "stderr",
     "output_type": "stream",
     "text": [
      "/usr/local/lib/python3.8/dist-packages/statsmodels/tsa/tsatools.py:142: FutureWarning: In a future version of pandas all arguments of concat except for the argument 'objs' will be keyword-only\n",
      "  x = pd.concat(x[::order], 1)\n"
     ]
    },
    {
     "data": {
      "text/html": [
       "<table class=\"simpletable\">\n",
       "<caption>OLS Regression Results</caption>\n",
       "<tr>\n",
       "  <th>Dep. Variable:</th>          <td>price</td>      <th>  R-squared:         </th> <td>   0.402</td> \n",
       "</tr>\n",
       "<tr>\n",
       "  <th>Model:</th>                   <td>OLS</td>       <th>  Adj. R-squared:    </th> <td>   0.399</td> \n",
       "</tr>\n",
       "<tr>\n",
       "  <th>Method:</th>             <td>Least Squares</td>  <th>  F-statistic:       </th> <td>   121.2</td> \n",
       "</tr>\n",
       "<tr>\n",
       "  <th>Date:</th>             <td>Sat, 11 Feb 2023</td> <th>  Prob (F-statistic):</th>  <td>  0.00</td>  \n",
       "</tr>\n",
       "<tr>\n",
       "  <th>Time:</th>                 <td>22:08:38</td>     <th>  Log-Likelihood:    </th> <td> -50168.</td> \n",
       "</tr>\n",
       "<tr>\n",
       "  <th>No. Observations:</th>      <td>  3267</td>      <th>  AIC:               </th> <td>1.004e+05</td>\n",
       "</tr>\n",
       "<tr>\n",
       "  <th>Df Residuals:</th>          <td>  3248</td>      <th>  BIC:               </th> <td>1.005e+05</td>\n",
       "</tr>\n",
       "<tr>\n",
       "  <th>Df Model:</th>              <td>    18</td>      <th>                     </th>     <td> </td>    \n",
       "</tr>\n",
       "<tr>\n",
       "  <th>Covariance Type:</th>      <td>nonrobust</td>    <th>                     </th>     <td> </td>    \n",
       "</tr>\n",
       "</table>\n",
       "<table class=\"simpletable\">\n",
       "<tr>\n",
       "                 <td></td>                    <th>coef</th>     <th>std err</th>      <th>t</th>      <th>P>|t|</th>  <th>[0.025</th>    <th>0.975]</th>  \n",
       "</tr>\n",
       "<tr>\n",
       "  <th>const</th>                           <td> 2.561e+06</td> <td> 5.43e+05</td> <td>    4.716</td> <td> 0.000</td> <td>  1.5e+06</td> <td> 3.63e+06</td>\n",
       "</tr>\n",
       "<tr>\n",
       "  <th>sewer_system_PRIVATE</th>            <td>-6.462e+05</td> <td> 8.06e+05</td> <td>   -0.802</td> <td> 0.423</td> <td>-2.23e+06</td> <td> 9.33e+05</td>\n",
       "</tr>\n",
       "<tr>\n",
       "  <th>sewer_system_PRIVATE RESTRICTED</th> <td>-2.127e+05</td> <td> 1.39e+06</td> <td>   -0.153</td> <td> 0.878</td> <td>-2.94e+06</td> <td> 2.51e+06</td>\n",
       "</tr>\n",
       "<tr>\n",
       "  <th>sewer_system_PUBLIC</th>             <td>-4.216e+05</td> <td> 8.03e+05</td> <td>   -0.525</td> <td> 0.600</td> <td>   -2e+06</td> <td> 1.15e+06</td>\n",
       "</tr>\n",
       "<tr>\n",
       "  <th>heat_source_Electricity</th>         <td> 1.221e+05</td> <td> 2.17e+05</td> <td>    0.563</td> <td> 0.574</td> <td>-3.03e+05</td> <td> 5.48e+05</td>\n",
       "</tr>\n",
       "<tr>\n",
       "  <th>heat_source_Electricity/Solar</th>   <td>-3.061e+05</td> <td> 4.74e+05</td> <td>   -0.645</td> <td> 0.519</td> <td>-1.24e+06</td> <td> 6.24e+05</td>\n",
       "</tr>\n",
       "<tr>\n",
       "  <th>heat_source_Gas</th>                 <td> 1.391e+05</td> <td> 2.11e+05</td> <td>    0.658</td> <td> 0.511</td> <td>-2.75e+05</td> <td> 5.54e+05</td>\n",
       "</tr>\n",
       "<tr>\n",
       "  <th>heat_source_Gas/Solar</th>           <td> 2.356e+04</td> <td> 3.38e+05</td> <td>    0.070</td> <td> 0.944</td> <td>-6.39e+05</td> <td> 6.86e+05</td>\n",
       "</tr>\n",
       "<tr>\n",
       "  <th>heat_source_Oil</th>                 <td> 5.706e+05</td> <td> 2.27e+05</td> <td>    2.517</td> <td> 0.012</td> <td> 1.26e+05</td> <td> 1.02e+06</td>\n",
       "</tr>\n",
       "<tr>\n",
       "  <th>heat_source_Other</th>               <td> 2.011e+06</td> <td> 9.74e+05</td> <td>    2.064</td> <td> 0.039</td> <td> 1.01e+05</td> <td> 3.92e+06</td>\n",
       "</tr>\n",
       "<tr>\n",
       "  <th>grade_10 Very Good</th>              <td>-1.607e+05</td> <td> 9.96e+04</td> <td>   -1.613</td> <td> 0.107</td> <td>-3.56e+05</td> <td> 3.46e+04</td>\n",
       "</tr>\n",
       "<tr>\n",
       "  <th>grade_11 Excellent</th>              <td> 1.263e+06</td> <td> 1.19e+05</td> <td>   10.570</td> <td> 0.000</td> <td> 1.03e+06</td> <td>  1.5e+06</td>\n",
       "</tr>\n",
       "<tr>\n",
       "  <th>grade_12 Luxury</th>                 <td> 3.926e+06</td> <td> 1.77e+05</td> <td>   22.216</td> <td> 0.000</td> <td> 3.58e+06</td> <td> 4.27e+06</td>\n",
       "</tr>\n",
       "<tr>\n",
       "  <th>grade_13 Mansion</th>                <td> 3.081e+06</td> <td> 3.62e+05</td> <td>    8.505</td> <td> 0.000</td> <td> 2.37e+06</td> <td> 3.79e+06</td>\n",
       "</tr>\n",
       "<tr>\n",
       "  <th>grade_6 Low Average</th>             <td>-1.563e+06</td> <td> 1.38e+05</td> <td>  -11.325</td> <td> 0.000</td> <td>-1.83e+06</td> <td>-1.29e+06</td>\n",
       "</tr>\n",
       "<tr>\n",
       "  <th>grade_7 Average</th>                 <td>-1.737e+06</td> <td> 9.35e+04</td> <td>  -18.584</td> <td> 0.000</td> <td>-1.92e+06</td> <td>-1.55e+06</td>\n",
       "</tr>\n",
       "<tr>\n",
       "  <th>grade_8 Good</th>                    <td>  -1.4e+06</td> <td> 9.26e+04</td> <td>  -15.126</td> <td> 0.000</td> <td>-1.58e+06</td> <td>-1.22e+06</td>\n",
       "</tr>\n",
       "<tr>\n",
       "  <th>grade_9 Better</th>                  <td> -8.48e+05</td> <td> 9.51e+04</td> <td>   -8.919</td> <td> 0.000</td> <td>-1.03e+06</td> <td>-6.62e+05</td>\n",
       "</tr>\n",
       "<tr>\n",
       "  <th>condition_Average</th>               <td> 6.109e+05</td> <td> 1.52e+05</td> <td>    4.012</td> <td> 0.000</td> <td> 3.12e+05</td> <td> 9.09e+05</td>\n",
       "</tr>\n",
       "<tr>\n",
       "  <th>condition_Fair</th>                  <td> 4.855e+05</td> <td> 2.85e+05</td> <td>    1.706</td> <td> 0.088</td> <td>-7.24e+04</td> <td> 1.04e+06</td>\n",
       "</tr>\n",
       "<tr>\n",
       "  <th>condition_Good</th>                  <td> 6.566e+05</td> <td> 1.54e+05</td> <td>    4.259</td> <td> 0.000</td> <td> 3.54e+05</td> <td> 9.59e+05</td>\n",
       "</tr>\n",
       "<tr>\n",
       "  <th>condition_Very Good</th>             <td> 8.078e+05</td> <td>  1.6e+05</td> <td>    5.056</td> <td> 0.000</td> <td> 4.95e+05</td> <td> 1.12e+06</td>\n",
       "</tr>\n",
       "</table>\n",
       "<table class=\"simpletable\">\n",
       "<tr>\n",
       "  <th>Omnibus:</th>       <td>3216.303</td> <th>  Durbin-Watson:     </th>  <td>   1.991</td> \n",
       "</tr>\n",
       "<tr>\n",
       "  <th>Prob(Omnibus):</th>  <td> 0.000</td>  <th>  Jarque-Bera (JB):  </th> <td>327024.550</td>\n",
       "</tr>\n",
       "<tr>\n",
       "  <th>Skew:</th>           <td> 4.500</td>  <th>  Prob(JB):          </th>  <td>    0.00</td> \n",
       "</tr>\n",
       "<tr>\n",
       "  <th>Kurtosis:</th>       <td>51.181</td>  <th>  Cond. No.          </th>  <td>4.49e+15</td> \n",
       "</tr>\n",
       "</table><br/><br/>Notes:<br/>[1] Standard Errors assume that the covariance matrix of the errors is correctly specified.<br/>[2] The smallest eigenvalue is 5.42e-28. This might indicate that there are<br/>strong multicollinearity problems or that the design matrix is singular."
      ],
      "text/plain": [
       "<class 'statsmodels.iolib.summary.Summary'>\n",
       "\"\"\"\n",
       "                            OLS Regression Results                            \n",
       "==============================================================================\n",
       "Dep. Variable:                  price   R-squared:                       0.402\n",
       "Model:                            OLS   Adj. R-squared:                  0.399\n",
       "Method:                 Least Squares   F-statistic:                     121.2\n",
       "Date:                Sat, 11 Feb 2023   Prob (F-statistic):               0.00\n",
       "Time:                        22:08:38   Log-Likelihood:                -50168.\n",
       "No. Observations:                3267   AIC:                         1.004e+05\n",
       "Df Residuals:                    3248   BIC:                         1.005e+05\n",
       "Df Model:                          18                                         \n",
       "Covariance Type:            nonrobust                                         \n",
       "===================================================================================================\n",
       "                                      coef    std err          t      P>|t|      [0.025      0.975]\n",
       "---------------------------------------------------------------------------------------------------\n",
       "const                            2.561e+06   5.43e+05      4.716      0.000     1.5e+06    3.63e+06\n",
       "sewer_system_PRIVATE            -6.462e+05   8.06e+05     -0.802      0.423   -2.23e+06    9.33e+05\n",
       "sewer_system_PRIVATE RESTRICTED -2.127e+05   1.39e+06     -0.153      0.878   -2.94e+06    2.51e+06\n",
       "sewer_system_PUBLIC             -4.216e+05   8.03e+05     -0.525      0.600      -2e+06    1.15e+06\n",
       "heat_source_Electricity          1.221e+05   2.17e+05      0.563      0.574   -3.03e+05    5.48e+05\n",
       "heat_source_Electricity/Solar   -3.061e+05   4.74e+05     -0.645      0.519   -1.24e+06    6.24e+05\n",
       "heat_source_Gas                  1.391e+05   2.11e+05      0.658      0.511   -2.75e+05    5.54e+05\n",
       "heat_source_Gas/Solar            2.356e+04   3.38e+05      0.070      0.944   -6.39e+05    6.86e+05\n",
       "heat_source_Oil                  5.706e+05   2.27e+05      2.517      0.012    1.26e+05    1.02e+06\n",
       "heat_source_Other                2.011e+06   9.74e+05      2.064      0.039    1.01e+05    3.92e+06\n",
       "grade_10 Very Good              -1.607e+05   9.96e+04     -1.613      0.107   -3.56e+05    3.46e+04\n",
       "grade_11 Excellent               1.263e+06   1.19e+05     10.570      0.000    1.03e+06     1.5e+06\n",
       "grade_12 Luxury                  3.926e+06   1.77e+05     22.216      0.000    3.58e+06    4.27e+06\n",
       "grade_13 Mansion                 3.081e+06   3.62e+05      8.505      0.000    2.37e+06    3.79e+06\n",
       "grade_6 Low Average             -1.563e+06   1.38e+05    -11.325      0.000   -1.83e+06   -1.29e+06\n",
       "grade_7 Average                 -1.737e+06   9.35e+04    -18.584      0.000   -1.92e+06   -1.55e+06\n",
       "grade_8 Good                      -1.4e+06   9.26e+04    -15.126      0.000   -1.58e+06   -1.22e+06\n",
       "grade_9 Better                   -8.48e+05   9.51e+04     -8.919      0.000   -1.03e+06   -6.62e+05\n",
       "condition_Average                6.109e+05   1.52e+05      4.012      0.000    3.12e+05    9.09e+05\n",
       "condition_Fair                   4.855e+05   2.85e+05      1.706      0.088   -7.24e+04    1.04e+06\n",
       "condition_Good                   6.566e+05   1.54e+05      4.259      0.000    3.54e+05    9.59e+05\n",
       "condition_Very Good              8.078e+05    1.6e+05      5.056      0.000    4.95e+05    1.12e+06\n",
       "==============================================================================\n",
       "Omnibus:                     3216.303   Durbin-Watson:                   1.991\n",
       "Prob(Omnibus):                  0.000   Jarque-Bera (JB):           327024.550\n",
       "Skew:                           4.500   Prob(JB):                         0.00\n",
       "Kurtosis:                      51.181   Cond. No.                     4.49e+15\n",
       "==============================================================================\n",
       "\n",
       "Notes:\n",
       "[1] Standard Errors assume that the covariance matrix of the errors is correctly specified.\n",
       "[2] The smallest eigenvalue is 5.42e-28. This might indicate that there are\n",
       "strong multicollinearity problems or that the design matrix is singular.\n",
       "\"\"\""
      ]
     },
     "execution_count": 150,
     "metadata": {},
     "output_type": "execute_result"
    }
   ],
   "source": [
    "y = nice_houses['price']\n",
    "X = pd.get_dummies(nice_houses[['sewer_system','heat_source','grade','condition']])\n",
    "model= sm.OLS(y,sm.add_constant(X)).fit()\n",
    "\n",
    "model.summary()"
   ]
  },
  {
   "cell_type": "code",
   "execution_count": null,
   "metadata": {
    "id": "WvnG0WT9aUu7"
   },
   "outputs": [],
   "source": [
    "list_livingcost_zip: [98074, 98065, 98019, 98052, 98077, 98029, 98075, 98010, 98038, 98053, 98028, 98005, 98033, 98034, 98004, 98042, 98006, 98007, 98011, 98045, 98121, 98092, 98039, 98008, 98059]"
   ]
  },
  {
   "cell_type": "code",
   "execution_count": 1,
   "metadata": {
    "id": "zIMieG3R7gYR"
   },
   "outputs": [],
   "source": [
    "top_zip_code = [98004, 98005, 98007, 98008, 98039, 98052, 98074, 98033, 98006, 98053, 98034, 98075, 98029, 98027, 98011, 98040, 98028, 98072, 98077, 98059, 98155, 98038, 98024, 98065, 98177, 98188, 98108, 98030, 98118, 98178, 98168, 98003, 98032, 98148, 98057, 98106, 98144, 98031, 98055, 98198, 98146, 98023, 98056, 98002,\n",
    "                98047, 98125, 98092, 98133, 98007, 98058, 98074, 98065, 98019, 98052, 98077, 98029, 98075, 98010, 98038, 98053, 98028, 98005, 98033, 98034, 98004, 98042, 98006, 98007, 98011, 98045, 98121, 98092, 98039, 98008, 98059]"
   ]
  }
 ],
 "metadata": {
  "colab": {
   "provenance": []
  },
  "gpuClass": "standard",
  "kernelspec": {
   "display_name": "Python 3",
   "language": "python",
   "name": "python3"
  },
  "language_info": {
   "codemirror_mode": {
    "name": "ipython",
    "version": 3
   },
   "file_extension": ".py",
   "mimetype": "text/x-python",
   "name": "python",
   "nbconvert_exporter": "python",
   "pygments_lexer": "ipython3",
   "version": "3.8.5"
  }
 },
 "nbformat": 4,
 "nbformat_minor": 1
}
