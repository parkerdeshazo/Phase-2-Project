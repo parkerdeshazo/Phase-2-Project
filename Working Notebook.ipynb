{
 "cells": [
  {
   "cell_type": "markdown",
   "metadata": {},
   "source": [
    "# Import Packages"
   ]
  },
  {
   "cell_type": "code",
   "execution_count": 23,
   "metadata": {},
   "outputs": [],
   "source": [
    "import numpy as np\n",
    "import pandas as pd\n",
    "import matplotlib.pyplot as plt\n",
    "import seaborn as sns\n",
    "from sklearn.model_selection import train_test_split\n",
    "import statsmodels.api as sm\n",
    "from statsmodels.formula.api import ols"
   ]
  },
  {
   "cell_type": "code",
   "execution_count": 24,
   "metadata": {},
   "outputs": [],
   "source": [
    "data=pd.read_csv('data\\kc_house_data.csv')"
   ]
  },
  {
   "cell_type": "code",
   "execution_count": 25,
   "metadata": {},
   "outputs": [],
   "source": [
    "y_check = data['price']\n",
    "X_check = pd.get_dummies(data[['sewer_system','heat_source','grade','condition']])\n",
    "model = sm.OLS(y,sm.add_constant(X_check)).fit()\n"
   ]
  },
  {
   "cell_type": "code",
   "execution_count": 26,
   "metadata": {},
   "outputs": [
    {
     "data": {
      "text/plain": [
       "price                              1.000000\n",
       "grade_11 Excellent                 0.317190\n",
       "grade_10 Very Good                 0.300315\n",
       "grade_12 Luxury                    0.282957\n",
       "grade_9 Better                     0.202575\n",
       "grade_13 Mansion                   0.198060\n",
       "heat_source_Gas                    0.143009\n",
       "heat_source_Gas/Solar              0.036684\n",
       "condition_Average                  0.036382\n",
       "sewer_system_PUBLIC                0.021788\n",
       "condition_Very Good                0.008617\n",
       "grade_1 Cabin                      0.002217\n",
       "heat_source_Other                  0.001132\n",
       "sewer_system_PUBLIC RESTRICTED    -0.001262\n",
       "heat_source_Oil/Solar             -0.002266\n",
       "sewer_system_PRIVATE RESTRICTED   -0.005218\n",
       "grade_2 Substandard               -0.007323\n",
       "heat_source_Electricity/Solar     -0.008419\n",
       "grade_3 Poor                      -0.014922\n",
       "grade_8 Good                      -0.018796\n",
       "grade_4 Low                       -0.021569\n",
       "sewer_system_PRIVATE              -0.021625\n",
       "condition_Poor                    -0.023865\n",
       "condition_Fair                    -0.032139\n",
       "condition_Good                    -0.037238\n",
       "grade_5 Fair                      -0.062806\n",
       "heat_source_Oil                   -0.067977\n",
       "heat_source_Electricity           -0.116059\n",
       "grade_6 Low Average               -0.164089\n",
       "grade_7 Average                   -0.256133\n",
       "Name: price, dtype: float64"
      ]
     },
     "execution_count": 26,
     "metadata": {},
     "output_type": "execute_result"
    }
   ],
   "source": [
    "dp = pd.concat([X,y],axis=1)\n",
    "dp.corr().price.sort_values(ascending=False)"
   ]
  },
  {
   "cell_type": "code",
   "execution_count": 27,
   "metadata": {},
   "outputs": [],
   "source": [
    "# Dropping houses with grade \"5 Fair\" and below \n",
    "\n",
    "nice_houses = data.drop(data[data.grade.isin([\"5 Fair\", \"4 Low\", \"3 Poor\", \"2 Substandard\", \"1 Cabin\"])].index)"
   ]
  },
  {
   "cell_type": "code",
   "execution_count": 28,
   "metadata": {},
   "outputs": [],
   "source": [
    "# Dropping houses with no bedrooms\n",
    "\n",
    "nice_houses = nice_houses.loc[(nice_houses['bedrooms']!=0)]"
   ]
  },
  {
   "cell_type": "code",
   "execution_count": 29,
   "metadata": {},
   "outputs": [],
   "source": [
    "# Dropping houses with no bathrooms\n",
    "\n",
    "nice_houses = nice_houses.loc[(nice_houses['bathrooms']!=0)]"
   ]
  },
  {
   "cell_type": "code",
   "execution_count": 30,
   "metadata": {},
   "outputs": [],
   "source": [
    "# Dropping lat, long, and id columns.\n",
    "\n",
    "nice_houses.drop(columns= ['lat', 'long', 'id'], inplace=True)"
   ]
  },
  {
   "cell_type": "code",
   "execution_count": 31,
   "metadata": {},
   "outputs": [],
   "source": [
    "# Adding zip code column\n",
    "\n",
    "nice_houses['zip'] = nice_houses['address'].str.extract(r'(\\d{5}-?\\d{0,4})')\n"
   ]
  },
  {
   "cell_type": "code",
   "execution_count": 32,
   "metadata": {},
   "outputs": [],
   "source": [
    "# Filtering by zip codes with strong school districts\n",
    "\n",
    "top_school_districts = ['98004', '98005', '98007', '98008', '98039', '98052', '98074', '98033', '98006', '98053', '98034', '98075', '98029', '98027', '98011', '98040', '98028', '98072', '98077', '98059', \n",
    "                        '98155', '98038', '98024', '98065', '98177']\n",
    "\n",
    "nice_houses = nice_houses.loc[nice_houses['zip'].isin(top_school_districts)]\n"
   ]
  },
  {
   "cell_type": "code",
   "execution_count": 33,
   "metadata": {},
   "outputs": [],
   "source": [
    "# Filtering by zip codes based on cost of living\n",
    "livingcost_zip_code = ['98074', '98065', '98019', '98052', '98077', '98029', '98075', '98010', '98038', '98053', '98028', \n",
    "                       '98005', '98033', '98034', '98004', '98042', '98006', '98007', '98011', '98045', '98121', '98092', '98039', '98008', '98059']\n",
    "\n",
    "nice_houses = nice_houses.loc[nice_houses['zip'].isin(livingcost_zip_code)]"
   ]
  },
  {
   "cell_type": "code",
   "execution_count": 34,
   "metadata": {},
   "outputs": [
    {
     "name": "stdout",
     "output_type": "stream",
     "text": [
      "<class 'pandas.core.frame.DataFrame'>\n",
      "Int64Index: 3267 entries, 20 to 30131\n",
      "Data columns (total 21 columns):\n",
      " #   Column         Non-Null Count  Dtype  \n",
      "---  ------         --------------  -----  \n",
      " 0   date           3267 non-null   object \n",
      " 1   price          3267 non-null   float64\n",
      " 2   bedrooms       3267 non-null   int64  \n",
      " 3   bathrooms      3267 non-null   float64\n",
      " 4   sqft_living    3267 non-null   int64  \n",
      " 5   sqft_lot       3267 non-null   int64  \n",
      " 6   floors         3267 non-null   float64\n",
      " 7   waterfront     3267 non-null   object \n",
      " 8   greenbelt      3267 non-null   object \n",
      " 9   nuisance       3267 non-null   object \n",
      " 10  view           3267 non-null   object \n",
      " 11  condition      3267 non-null   object \n",
      " 12  grade          3267 non-null   object \n",
      " 13  sqft_above     3267 non-null   int64  \n",
      " 14  sqft_basement  3267 non-null   int64  \n",
      " 15  sqft_garage    3267 non-null   int64  \n",
      " 16  sqft_patio     3267 non-null   int64  \n",
      " 17  yr_built       3267 non-null   int64  \n",
      " 18  yr_renovated   3267 non-null   int64  \n",
      " 19  address        3267 non-null   object \n",
      " 20  zip            3267 non-null   object \n",
      "dtypes: float64(3), int64(9), object(9)\n",
      "memory usage: 561.5+ KB\n"
     ]
    }
   ],
   "source": [
    "#Dropping sewer system and heat source\n",
    "nice_houses=nice_houses.drop(columns=['sewer_system','heat_source'])\n",
    "nice_houses.info()#Sanity Check"
   ]
  },
  {
   "cell_type": "code",
   "execution_count": null,
   "metadata": {},
   "outputs": [],
   "source": []
  }
 ],
 "metadata": {
  "kernelspec": {
   "display_name": "Python (learn-env)",
   "language": "python",
   "name": "learn-env"
  },
  "language_info": {
   "codemirror_mode": {
    "name": "ipython",
    "version": 3
   },
   "file_extension": ".py",
   "mimetype": "text/x-python",
   "name": "python",
   "nbconvert_exporter": "python",
   "pygments_lexer": "ipython3",
   "version": "3.8.5"
  }
 },
 "nbformat": 4,
 "nbformat_minor": 4
}
